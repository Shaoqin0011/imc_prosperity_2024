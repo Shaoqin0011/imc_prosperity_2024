{
 "cells": [
  {
   "cell_type": "markdown",
   "metadata": {
    "collapsed": false
   },
   "source": [
    "# Import Library"
   ]
  },
  {
   "cell_type": "code",
   "execution_count": 1,
   "metadata": {
    "collapsed": false
   },
   "outputs": [],
   "source": [
    "import numpy as np\n",
    "import pandas as pd\n",
    "import json\n",
    "import pickle\n",
    "import jsonpickle\n",
    "from io import StringIO\n",
    "import matplotlib.pyplot as plt\n",
    "from datamodel import OrderDepth, UserId, TradingState, Order, Trade, Observation\n",
    "from typing import List\n",
    "import string"
   ]
  },
  {
   "cell_type": "markdown",
   "metadata": {
    "collapsed": false
   },
   "source": [
    "# Import Data"
   ]
  },
  {
   "metadata": {
    "ExecuteTime": {
     "end_time": "2024-04-11T14:09:33.727427Z",
     "start_time": "2024-04-11T14:09:33.719637Z"
    }
   },
   "cell_type": "code",
   "source": "a={1:1,2:2}",
   "outputs": [],
   "execution_count": 1
  },
  {
   "metadata": {
    "ExecuteTime": {
     "end_time": "2024-04-11T14:10:50.292268Z",
     "start_time": "2024-04-11T14:10:50.283206Z"
    }
   },
   "cell_type": "code",
   "source": "min(a.values())",
   "outputs": [
    {
     "data": {
      "text/plain": [
       "1"
      ]
     },
     "execution_count": 3,
     "metadata": {},
     "output_type": "execute_result"
    }
   ],
   "execution_count": 3
  },
  {
   "cell_type": "code",
   "execution_count": 2,
   "metadata": {
    "collapsed": false
   },
   "outputs": [],
   "source": [
    "def create_symbol_dfs(dataframe, symbols, col_name):\n",
    "    # 创建一个空的列表来存储每个symbol的DataFrame\n",
    "    dfs = []\n",
    "\n",
    "    # 遍历给定的symbols列表\n",
    "    for symbol in symbols:\n",
    "        # 从原始DataFrame中筛选出对应于当前symbol的行\n",
    "        filtered_df = dataframe[dataframe[col_name] == symbol]\n",
    "\n",
    "        # 将筛选后的DataFrame添加到列表中\n",
    "        dfs.append(filtered_df)\n",
    "\n",
    "    # 返回包含每个symbol DataFrame的列表\n",
    "    return dfs"
   ]
  },
  {
   "cell_type": "code",
   "execution_count": 3,
   "metadata": {
    "collapsed": true
   },
   "outputs": [],
   "source": [
    "trade_data_00 = pd.read_csv('trades_round_1_day_-2_nn.csv', delimiter=';')\n",
    "trade_data_01 = pd.read_csv('trades_round_1_day_-1_nn.csv', delimiter=';')\n",
    "trade_data_02 = pd.read_csv('trades_round_1_day_0_nn.csv', delimiter=';')\n",
    "\n",
    "order_data_00 = pd.read_csv('prices_round_1_day_-2.csv', delimiter=';')\n",
    "order_data_01 = pd.read_csv('prices_round_1_day_-1.csv', delimiter=';')\n",
    "order_data_02 = pd.read_csv('prices_round_1_day_0.csv', delimiter=';')"
   ]
  },
  {
   "cell_type": "code",
   "execution_count": 4,
   "metadata": {
    "collapsed": false
   },
   "outputs": [],
   "source": [
    "trade_df_list = [trade_data_00, trade_data_01, trade_data_02]\n",
    "symbols = ['STARFRUIT', 'AMETHYSTS']\n",
    "trade_df = pd.DataFrame()\n",
    "\n",
    "# 遍历df_list中的每个DataFrame\n",
    "for df in trade_df_list:\n",
    "    # 使用create_symbol_dfs函数为'STARFRUIT'和'AMETHYSTS'筛选数据\n",
    "    symbol_dfs = create_symbol_dfs(df, symbols, 'symbol')\n",
    "    # symbol_dfs[0]将是STARFRUIT的DataFrame，因为它是symbols列表中的第一个元素\n",
    "    trade_df = pd.concat([trade_df, symbol_dfs[0]], ignore_index=True)\n",
    "\n",
    "order_df_list = [order_data_00, order_data_01, order_data_02]\n",
    "symbols = ['STARFRUIT', 'AMETHYSTS']\n",
    "order_df = pd.DataFrame()\n",
    "\n",
    "# 遍历df_list中的每个DataFrame\n",
    "for df in order_df_list:\n",
    "    # 使用create_symbol_dfs函数为'STARFRUIT'和'AMETHYSTS'筛选数据\n",
    "    symbol_dfs = create_symbol_dfs(df, symbols, 'product')\n",
    "    # symbol_dfs[0]将是STARFRUIT的DataFrame，因为它是symbols列表中的第一个元素\n",
    "    order_df = pd.concat([order_df, symbol_dfs[0]], ignore_index=True)"
   ]
  },
  {
   "cell_type": "code",
   "execution_count": 5,
   "metadata": {
    "collapsed": false
   },
   "outputs": [
    {
     "data": {
      "text/html": [
       "<div>\n",
       "<style scoped>\n",
       "    .dataframe tbody tr th:only-of-type {\n",
       "        vertical-align: middle;\n",
       "    }\n",
       "\n",
       "    .dataframe tbody tr th {\n",
       "        vertical-align: top;\n",
       "    }\n",
       "\n",
       "    .dataframe thead th {\n",
       "        text-align: right;\n",
       "    }\n",
       "</style>\n",
       "<table border=\"1\" class=\"dataframe\">\n",
       "  <thead>\n",
       "    <tr style=\"text-align: right;\">\n",
       "      <th></th>\n",
       "      <th>timestamp</th>\n",
       "      <th>buyer</th>\n",
       "      <th>seller</th>\n",
       "      <th>symbol</th>\n",
       "      <th>currency</th>\n",
       "      <th>price</th>\n",
       "      <th>quantity</th>\n",
       "    </tr>\n",
       "  </thead>\n",
       "  <tbody>\n",
       "    <tr>\n",
       "      <th>0</th>\n",
       "      <td>0</td>\n",
       "      <td>NaN</td>\n",
       "      <td>NaN</td>\n",
       "      <td>STARFRUIT</td>\n",
       "      <td>SEASHELLS</td>\n",
       "      <td>5003.0</td>\n",
       "      <td>1</td>\n",
       "    </tr>\n",
       "    <tr>\n",
       "      <th>1</th>\n",
       "      <td>100</td>\n",
       "      <td>NaN</td>\n",
       "      <td>NaN</td>\n",
       "      <td>STARFRUIT</td>\n",
       "      <td>SEASHELLS</td>\n",
       "      <td>5004.0</td>\n",
       "      <td>6</td>\n",
       "    </tr>\n",
       "    <tr>\n",
       "      <th>2</th>\n",
       "      <td>900</td>\n",
       "      <td>NaN</td>\n",
       "      <td>NaN</td>\n",
       "      <td>STARFRUIT</td>\n",
       "      <td>SEASHELLS</td>\n",
       "      <td>5001.0</td>\n",
       "      <td>2</td>\n",
       "    </tr>\n",
       "    <tr>\n",
       "      <th>3</th>\n",
       "      <td>1000</td>\n",
       "      <td>NaN</td>\n",
       "      <td>NaN</td>\n",
       "      <td>STARFRUIT</td>\n",
       "      <td>SEASHELLS</td>\n",
       "      <td>4997.0</td>\n",
       "      <td>2</td>\n",
       "    </tr>\n",
       "    <tr>\n",
       "      <th>4</th>\n",
       "      <td>1100</td>\n",
       "      <td>NaN</td>\n",
       "      <td>NaN</td>\n",
       "      <td>STARFRUIT</td>\n",
       "      <td>SEASHELLS</td>\n",
       "      <td>4997.0</td>\n",
       "      <td>1</td>\n",
       "    </tr>\n",
       "    <tr>\n",
       "      <th>...</th>\n",
       "      <td>...</td>\n",
       "      <td>...</td>\n",
       "      <td>...</td>\n",
       "      <td>...</td>\n",
       "      <td>...</td>\n",
       "      <td>...</td>\n",
       "      <td>...</td>\n",
       "    </tr>\n",
       "    <tr>\n",
       "      <th>8910</th>\n",
       "      <td>998500</td>\n",
       "      <td>NaN</td>\n",
       "      <td>NaN</td>\n",
       "      <td>STARFRUIT</td>\n",
       "      <td>SEASHELLS</td>\n",
       "      <td>5050.0</td>\n",
       "      <td>3</td>\n",
       "    </tr>\n",
       "    <tr>\n",
       "      <th>8911</th>\n",
       "      <td>998700</td>\n",
       "      <td>NaN</td>\n",
       "      <td>NaN</td>\n",
       "      <td>STARFRUIT</td>\n",
       "      <td>SEASHELLS</td>\n",
       "      <td>5055.0</td>\n",
       "      <td>1</td>\n",
       "    </tr>\n",
       "    <tr>\n",
       "      <th>8912</th>\n",
       "      <td>998800</td>\n",
       "      <td>NaN</td>\n",
       "      <td>NaN</td>\n",
       "      <td>STARFRUIT</td>\n",
       "      <td>SEASHELLS</td>\n",
       "      <td>5050.0</td>\n",
       "      <td>1</td>\n",
       "    </tr>\n",
       "    <tr>\n",
       "      <th>8913</th>\n",
       "      <td>999500</td>\n",
       "      <td>NaN</td>\n",
       "      <td>NaN</td>\n",
       "      <td>STARFRUIT</td>\n",
       "      <td>SEASHELLS</td>\n",
       "      <td>5049.0</td>\n",
       "      <td>2</td>\n",
       "    </tr>\n",
       "    <tr>\n",
       "      <th>8914</th>\n",
       "      <td>999600</td>\n",
       "      <td>NaN</td>\n",
       "      <td>NaN</td>\n",
       "      <td>STARFRUIT</td>\n",
       "      <td>SEASHELLS</td>\n",
       "      <td>5048.0</td>\n",
       "      <td>1</td>\n",
       "    </tr>\n",
       "  </tbody>\n",
       "</table>\n",
       "<p>8915 rows × 7 columns</p>\n",
       "</div>"
      ],
      "text/plain": [
       "      timestamp  buyer  seller     symbol   currency   price  quantity\n",
       "0             0    NaN     NaN  STARFRUIT  SEASHELLS  5003.0         1\n",
       "1           100    NaN     NaN  STARFRUIT  SEASHELLS  5004.0         6\n",
       "2           900    NaN     NaN  STARFRUIT  SEASHELLS  5001.0         2\n",
       "3          1000    NaN     NaN  STARFRUIT  SEASHELLS  4997.0         2\n",
       "4          1100    NaN     NaN  STARFRUIT  SEASHELLS  4997.0         1\n",
       "...         ...    ...     ...        ...        ...     ...       ...\n",
       "8910     998500    NaN     NaN  STARFRUIT  SEASHELLS  5050.0         3\n",
       "8911     998700    NaN     NaN  STARFRUIT  SEASHELLS  5055.0         1\n",
       "8912     998800    NaN     NaN  STARFRUIT  SEASHELLS  5050.0         1\n",
       "8913     999500    NaN     NaN  STARFRUIT  SEASHELLS  5049.0         2\n",
       "8914     999600    NaN     NaN  STARFRUIT  SEASHELLS  5048.0         1\n",
       "\n",
       "[8915 rows x 7 columns]"
      ]
     },
     "execution_count": 5,
     "metadata": {},
     "output_type": "execute_result"
    }
   ],
   "source": [
    "trade_df"
   ]
  },
  {
   "cell_type": "code",
   "execution_count": 5,
   "metadata": {},
   "outputs": [
    {
     "data": {
      "text/html": [
       "<div>\n",
       "<style scoped>\n",
       "    .dataframe tbody tr th:only-of-type {\n",
       "        vertical-align: middle;\n",
       "    }\n",
       "\n",
       "    .dataframe tbody tr th {\n",
       "        vertical-align: top;\n",
       "    }\n",
       "\n",
       "    .dataframe thead th {\n",
       "        text-align: right;\n",
       "    }\n",
       "</style>\n",
       "<table border=\"1\" class=\"dataframe\">\n",
       "  <thead>\n",
       "    <tr style=\"text-align: right;\">\n",
       "      <th></th>\n",
       "      <th>day</th>\n",
       "      <th>timestamp</th>\n",
       "      <th>product</th>\n",
       "      <th>bid_price_1</th>\n",
       "      <th>bid_volume_1</th>\n",
       "      <th>bid_price_2</th>\n",
       "      <th>bid_volume_2</th>\n",
       "      <th>bid_price_3</th>\n",
       "      <th>bid_volume_3</th>\n",
       "      <th>ask_price_1</th>\n",
       "      <th>ask_volume_1</th>\n",
       "      <th>ask_price_2</th>\n",
       "      <th>ask_volume_2</th>\n",
       "      <th>ask_price_3</th>\n",
       "      <th>ask_volume_3</th>\n",
       "      <th>mid_price</th>\n",
       "      <th>profit_and_loss</th>\n",
       "    </tr>\n",
       "  </thead>\n",
       "  <tbody>\n",
       "    <tr>\n",
       "      <th>0</th>\n",
       "      <td>-2</td>\n",
       "      <td>0</td>\n",
       "      <td>STARFRUIT</td>\n",
       "      <td>4997</td>\n",
       "      <td>26</td>\n",
       "      <td>NaN</td>\n",
       "      <td>NaN</td>\n",
       "      <td>NaN</td>\n",
       "      <td>NaN</td>\n",
       "      <td>5003</td>\n",
       "      <td>26</td>\n",
       "      <td>NaN</td>\n",
       "      <td>NaN</td>\n",
       "      <td>NaN</td>\n",
       "      <td>NaN</td>\n",
       "      <td>5000.0</td>\n",
       "      <td>0.0</td>\n",
       "    </tr>\n",
       "    <tr>\n",
       "      <th>1</th>\n",
       "      <td>-2</td>\n",
       "      <td>100</td>\n",
       "      <td>STARFRUIT</td>\n",
       "      <td>5000</td>\n",
       "      <td>5</td>\n",
       "      <td>4998.0</td>\n",
       "      <td>6.0</td>\n",
       "      <td>4997.0</td>\n",
       "      <td>20.0</td>\n",
       "      <td>5004</td>\n",
       "      <td>20</td>\n",
       "      <td>NaN</td>\n",
       "      <td>NaN</td>\n",
       "      <td>NaN</td>\n",
       "      <td>NaN</td>\n",
       "      <td>5002.0</td>\n",
       "      <td>0.0</td>\n",
       "    </tr>\n",
       "    <tr>\n",
       "      <th>2</th>\n",
       "      <td>-2</td>\n",
       "      <td>200</td>\n",
       "      <td>STARFRUIT</td>\n",
       "      <td>4997</td>\n",
       "      <td>1</td>\n",
       "      <td>4996.0</td>\n",
       "      <td>30.0</td>\n",
       "      <td>NaN</td>\n",
       "      <td>NaN</td>\n",
       "      <td>5003</td>\n",
       "      <td>31</td>\n",
       "      <td>NaN</td>\n",
       "      <td>NaN</td>\n",
       "      <td>NaN</td>\n",
       "      <td>NaN</td>\n",
       "      <td>5000.0</td>\n",
       "      <td>0.0</td>\n",
       "    </tr>\n",
       "    <tr>\n",
       "      <th>3</th>\n",
       "      <td>-2</td>\n",
       "      <td>300</td>\n",
       "      <td>STARFRUIT</td>\n",
       "      <td>4996</td>\n",
       "      <td>27</td>\n",
       "      <td>NaN</td>\n",
       "      <td>NaN</td>\n",
       "      <td>NaN</td>\n",
       "      <td>NaN</td>\n",
       "      <td>5003</td>\n",
       "      <td>27</td>\n",
       "      <td>NaN</td>\n",
       "      <td>NaN</td>\n",
       "      <td>NaN</td>\n",
       "      <td>NaN</td>\n",
       "      <td>4999.5</td>\n",
       "      <td>0.0</td>\n",
       "    </tr>\n",
       "    <tr>\n",
       "      <th>4</th>\n",
       "      <td>-2</td>\n",
       "      <td>400</td>\n",
       "      <td>STARFRUIT</td>\n",
       "      <td>4995</td>\n",
       "      <td>20</td>\n",
       "      <td>NaN</td>\n",
       "      <td>NaN</td>\n",
       "      <td>NaN</td>\n",
       "      <td>NaN</td>\n",
       "      <td>5002</td>\n",
       "      <td>20</td>\n",
       "      <td>NaN</td>\n",
       "      <td>NaN</td>\n",
       "      <td>NaN</td>\n",
       "      <td>NaN</td>\n",
       "      <td>4998.5</td>\n",
       "      <td>0.0</td>\n",
       "    </tr>\n",
       "    <tr>\n",
       "      <th>...</th>\n",
       "      <td>...</td>\n",
       "      <td>...</td>\n",
       "      <td>...</td>\n",
       "      <td>...</td>\n",
       "      <td>...</td>\n",
       "      <td>...</td>\n",
       "      <td>...</td>\n",
       "      <td>...</td>\n",
       "      <td>...</td>\n",
       "      <td>...</td>\n",
       "      <td>...</td>\n",
       "      <td>...</td>\n",
       "      <td>...</td>\n",
       "      <td>...</td>\n",
       "      <td>...</td>\n",
       "      <td>...</td>\n",
       "      <td>...</td>\n",
       "    </tr>\n",
       "    <tr>\n",
       "      <th>29995</th>\n",
       "      <td>0</td>\n",
       "      <td>999500</td>\n",
       "      <td>STARFRUIT</td>\n",
       "      <td>5049</td>\n",
       "      <td>28</td>\n",
       "      <td>NaN</td>\n",
       "      <td>NaN</td>\n",
       "      <td>NaN</td>\n",
       "      <td>NaN</td>\n",
       "      <td>5056</td>\n",
       "      <td>28</td>\n",
       "      <td>NaN</td>\n",
       "      <td>NaN</td>\n",
       "      <td>NaN</td>\n",
       "      <td>NaN</td>\n",
       "      <td>5052.5</td>\n",
       "      <td>0.0</td>\n",
       "    </tr>\n",
       "    <tr>\n",
       "      <th>29996</th>\n",
       "      <td>0</td>\n",
       "      <td>999600</td>\n",
       "      <td>STARFRUIT</td>\n",
       "      <td>5048</td>\n",
       "      <td>9</td>\n",
       "      <td>5047.0</td>\n",
       "      <td>27.0</td>\n",
       "      <td>NaN</td>\n",
       "      <td>NaN</td>\n",
       "      <td>5054</td>\n",
       "      <td>29</td>\n",
       "      <td>NaN</td>\n",
       "      <td>NaN</td>\n",
       "      <td>NaN</td>\n",
       "      <td>NaN</td>\n",
       "      <td>5051.0</td>\n",
       "      <td>0.0</td>\n",
       "    </tr>\n",
       "    <tr>\n",
       "      <th>29997</th>\n",
       "      <td>0</td>\n",
       "      <td>999700</td>\n",
       "      <td>STARFRUIT</td>\n",
       "      <td>5053</td>\n",
       "      <td>1</td>\n",
       "      <td>5048.0</td>\n",
       "      <td>26.0</td>\n",
       "      <td>NaN</td>\n",
       "      <td>NaN</td>\n",
       "      <td>5054</td>\n",
       "      <td>2</td>\n",
       "      <td>5055.0</td>\n",
       "      <td>24.0</td>\n",
       "      <td>NaN</td>\n",
       "      <td>NaN</td>\n",
       "      <td>5053.5</td>\n",
       "      <td>0.0</td>\n",
       "    </tr>\n",
       "    <tr>\n",
       "      <th>29998</th>\n",
       "      <td>0</td>\n",
       "      <td>999800</td>\n",
       "      <td>STARFRUIT</td>\n",
       "      <td>5047</td>\n",
       "      <td>27</td>\n",
       "      <td>NaN</td>\n",
       "      <td>NaN</td>\n",
       "      <td>NaN</td>\n",
       "      <td>NaN</td>\n",
       "      <td>5052</td>\n",
       "      <td>1</td>\n",
       "      <td>5054.0</td>\n",
       "      <td>27.0</td>\n",
       "      <td>NaN</td>\n",
       "      <td>NaN</td>\n",
       "      <td>5049.5</td>\n",
       "      <td>0.0</td>\n",
       "    </tr>\n",
       "    <tr>\n",
       "      <th>29999</th>\n",
       "      <td>0</td>\n",
       "      <td>999900</td>\n",
       "      <td>STARFRUIT</td>\n",
       "      <td>5048</td>\n",
       "      <td>2</td>\n",
       "      <td>5047.0</td>\n",
       "      <td>21.0</td>\n",
       "      <td>NaN</td>\n",
       "      <td>NaN</td>\n",
       "      <td>5054</td>\n",
       "      <td>23</td>\n",
       "      <td>NaN</td>\n",
       "      <td>NaN</td>\n",
       "      <td>NaN</td>\n",
       "      <td>NaN</td>\n",
       "      <td>5051.0</td>\n",
       "      <td>0.0</td>\n",
       "    </tr>\n",
       "  </tbody>\n",
       "</table>\n",
       "<p>30000 rows × 17 columns</p>\n",
       "</div>"
      ],
      "text/plain": [
       "       day  timestamp    product  bid_price_1  bid_volume_1  bid_price_2  \\\n",
       "0       -2          0  STARFRUIT         4997            26          NaN   \n",
       "1       -2        100  STARFRUIT         5000             5       4998.0   \n",
       "2       -2        200  STARFRUIT         4997             1       4996.0   \n",
       "3       -2        300  STARFRUIT         4996            27          NaN   \n",
       "4       -2        400  STARFRUIT         4995            20          NaN   \n",
       "...    ...        ...        ...          ...           ...          ...   \n",
       "29995    0     999500  STARFRUIT         5049            28          NaN   \n",
       "29996    0     999600  STARFRUIT         5048             9       5047.0   \n",
       "29997    0     999700  STARFRUIT         5053             1       5048.0   \n",
       "29998    0     999800  STARFRUIT         5047            27          NaN   \n",
       "29999    0     999900  STARFRUIT         5048             2       5047.0   \n",
       "\n",
       "       bid_volume_2  bid_price_3  bid_volume_3  ask_price_1  ask_volume_1  \\\n",
       "0               NaN          NaN           NaN         5003            26   \n",
       "1               6.0       4997.0          20.0         5004            20   \n",
       "2              30.0          NaN           NaN         5003            31   \n",
       "3               NaN          NaN           NaN         5003            27   \n",
       "4               NaN          NaN           NaN         5002            20   \n",
       "...             ...          ...           ...          ...           ...   \n",
       "29995           NaN          NaN           NaN         5056            28   \n",
       "29996          27.0          NaN           NaN         5054            29   \n",
       "29997          26.0          NaN           NaN         5054             2   \n",
       "29998           NaN          NaN           NaN         5052             1   \n",
       "29999          21.0          NaN           NaN         5054            23   \n",
       "\n",
       "       ask_price_2  ask_volume_2  ask_price_3  ask_volume_3  mid_price  \\\n",
       "0              NaN           NaN          NaN           NaN     5000.0   \n",
       "1              NaN           NaN          NaN           NaN     5002.0   \n",
       "2              NaN           NaN          NaN           NaN     5000.0   \n",
       "3              NaN           NaN          NaN           NaN     4999.5   \n",
       "4              NaN           NaN          NaN           NaN     4998.5   \n",
       "...            ...           ...          ...           ...        ...   \n",
       "29995          NaN           NaN          NaN           NaN     5052.5   \n",
       "29996          NaN           NaN          NaN           NaN     5051.0   \n",
       "29997       5055.0          24.0          NaN           NaN     5053.5   \n",
       "29998       5054.0          27.0          NaN           NaN     5049.5   \n",
       "29999          NaN           NaN          NaN           NaN     5051.0   \n",
       "\n",
       "       profit_and_loss  \n",
       "0                  0.0  \n",
       "1                  0.0  \n",
       "2                  0.0  \n",
       "3                  0.0  \n",
       "4                  0.0  \n",
       "...                ...  \n",
       "29995              0.0  \n",
       "29996              0.0  \n",
       "29997              0.0  \n",
       "29998              0.0  \n",
       "29999              0.0  \n",
       "\n",
       "[30000 rows x 17 columns]"
      ]
     },
     "execution_count": 5,
     "metadata": {},
     "output_type": "execute_result"
    }
   ],
   "source": [
    "order_df"
   ]
  },
  {
   "cell_type": "markdown",
   "metadata": {
    "collapsed": false
   },
   "source": [
    "# Data Preprocessing"
   ]
  },
  {
   "cell_type": "code",
   "execution_count": 12,
   "metadata": {},
   "outputs": [
    {
     "data": {
      "text/plain": [
       "0.0"
      ]
     },
     "execution_count": 12,
     "metadata": {},
     "output_type": "execute_result"
    }
   ],
   "source": [
    "order_df['mid_price_diff'][9]"
   ]
  },
  {
   "cell_type": "markdown",
   "metadata": {},
   "source": [
    "#### Feature: mid price change"
   ]
  },
  {
   "cell_type": "code",
   "execution_count": 127,
   "metadata": {
    "collapsed": false
   },
   "outputs": [],
   "source": [
    "# Calculate the mid price difference feature\n",
    "order_df['mid_price_diff'] = order_df['mid_price'].diff()\n",
    "\n",
    "# 步骤2: 构造特征和目标值\n",
    "# 初始化特征和目标值的列表\n",
    "features = []\n",
    "targets = []\n",
    "\n",
    "# 遍历DataFrame，为每个时间点构造特征和目标值\n",
    "# Start from day 2, since the first day difference is 0\n",
    "for i in range(8, len(order_df) - 1):\n",
    "    # 当前及过去 N 个时间步的 mid price diff 作为特征\n",
    "    feature = order_df['mid_price_diff'][i-7:i+1].values\n",
    "    # price change direction as the target\n",
    "    price_change_direction = np.sign(order_df['mid_price_diff'][i+1])\n",
    "    features.append(feature)\n",
    "    targets.append(price_change_direction)\n",
    "\n",
    "# 步骤3: 创建新的DataFrame\n",
    "model_df = pd.DataFrame(features, columns=['avg_price_diff_t-7', 'avg_price_diff_t-6', 'avg_price_diff_t-5', 'avg_price_diff-4',\n",
    "                                           'avg_price_diff_t-3', 'avg_price_diff_t-2', 'avg_price_diff_t-1', 'avg_price_diff_t'])\n",
    "model_df['target'] = targets"
   ]
  },
  {
   "cell_type": "markdown",
   "metadata": {},
   "source": [
    "#### feature: s1_imbalance"
   ]
  },
  {
   "cell_type": "code",
   "execution_count": 128,
   "metadata": {},
   "outputs": [],
   "source": [
    "order_df[\"s1_imbalance\"] = (order_df[\"bid_volume_1\"] - order_df[\"ask_volume_1\"]) / (order_df[\"bid_volume_1\"] + order_df[\"ask_volume_1\"])\n",
    "model_df[\"s1_imbalance\"] = order_df[\"s1_imbalance\"][8:-1].reset_index(drop=True)"
   ]
  },
  {
   "cell_type": "code",
   "execution_count": 129,
   "metadata": {},
   "outputs": [],
   "source": [
    "# for target value that equals to 0, first make it into np.nan and ffill, then drop na\n",
    "model_df['target'] = model_df['target'].replace(0, np.nan).ffill()\n",
    "model_df = model_df.dropna()"
   ]
  },
  {
   "cell_type": "code",
   "execution_count": 111,
   "metadata": {},
   "outputs": [
    {
     "name": "stdout",
     "output_type": "stream",
     "text": [
      "<class 'tuple'>\n"
     ]
    },
    {
     "data": {
      "text/plain": [
       "8"
      ]
     },
     "execution_count": 111,
     "metadata": {},
     "output_type": "execute_result"
    }
   ],
   "source": [
    "a = (8,9)\n",
    "print(type(a))\n",
    "a[0]"
   ]
  },
  {
   "cell_type": "code",
   "execution_count": 130,
   "metadata": {},
   "outputs": [
    {
     "data": {
      "text/html": [
       "<div>\n",
       "<style scoped>\n",
       "    .dataframe tbody tr th:only-of-type {\n",
       "        vertical-align: middle;\n",
       "    }\n",
       "\n",
       "    .dataframe tbody tr th {\n",
       "        vertical-align: top;\n",
       "    }\n",
       "\n",
       "    .dataframe thead th {\n",
       "        text-align: right;\n",
       "    }\n",
       "</style>\n",
       "<table border=\"1\" class=\"dataframe\">\n",
       "  <thead>\n",
       "    <tr style=\"text-align: right;\">\n",
       "      <th></th>\n",
       "      <th>avg_price_diff_t-7</th>\n",
       "      <th>avg_price_diff_t-6</th>\n",
       "      <th>avg_price_diff_t-5</th>\n",
       "      <th>avg_price_diff-4</th>\n",
       "      <th>avg_price_diff_t-3</th>\n",
       "      <th>avg_price_diff_t-2</th>\n",
       "      <th>avg_price_diff_t-1</th>\n",
       "      <th>avg_price_diff_t</th>\n",
       "      <th>target</th>\n",
       "      <th>s1_imbalance</th>\n",
       "    </tr>\n",
       "  </thead>\n",
       "  <tbody>\n",
       "    <tr>\n",
       "      <th>1</th>\n",
       "      <td>-2.0</td>\n",
       "      <td>-0.5</td>\n",
       "      <td>-1.0</td>\n",
       "      <td>3.5</td>\n",
       "      <td>-2.5</td>\n",
       "      <td>0.5</td>\n",
       "      <td>2.5</td>\n",
       "      <td>0.0</td>\n",
       "      <td>-1.0</td>\n",
       "      <td>-0.875000</td>\n",
       "    </tr>\n",
       "    <tr>\n",
       "      <th>2</th>\n",
       "      <td>-0.5</td>\n",
       "      <td>-1.0</td>\n",
       "      <td>3.5</td>\n",
       "      <td>-2.5</td>\n",
       "      <td>0.5</td>\n",
       "      <td>2.5</td>\n",
       "      <td>0.0</td>\n",
       "      <td>-3.5</td>\n",
       "      <td>1.0</td>\n",
       "      <td>-0.600000</td>\n",
       "    </tr>\n",
       "    <tr>\n",
       "      <th>3</th>\n",
       "      <td>-1.0</td>\n",
       "      <td>3.5</td>\n",
       "      <td>-2.5</td>\n",
       "      <td>0.5</td>\n",
       "      <td>2.5</td>\n",
       "      <td>0.0</td>\n",
       "      <td>-3.5</td>\n",
       "      <td>0.5</td>\n",
       "      <td>1.0</td>\n",
       "      <td>0.785714</td>\n",
       "    </tr>\n",
       "    <tr>\n",
       "      <th>4</th>\n",
       "      <td>3.5</td>\n",
       "      <td>-2.5</td>\n",
       "      <td>0.5</td>\n",
       "      <td>2.5</td>\n",
       "      <td>0.0</td>\n",
       "      <td>-3.5</td>\n",
       "      <td>0.5</td>\n",
       "      <td>0.5</td>\n",
       "      <td>1.0</td>\n",
       "      <td>0.931034</td>\n",
       "    </tr>\n",
       "    <tr>\n",
       "      <th>5</th>\n",
       "      <td>-2.5</td>\n",
       "      <td>0.5</td>\n",
       "      <td>2.5</td>\n",
       "      <td>0.0</td>\n",
       "      <td>-3.5</td>\n",
       "      <td>0.5</td>\n",
       "      <td>0.5</td>\n",
       "      <td>2.0</td>\n",
       "      <td>-1.0</td>\n",
       "      <td>-0.769231</td>\n",
       "    </tr>\n",
       "    <tr>\n",
       "      <th>...</th>\n",
       "      <td>...</td>\n",
       "      <td>...</td>\n",
       "      <td>...</td>\n",
       "      <td>...</td>\n",
       "      <td>...</td>\n",
       "      <td>...</td>\n",
       "      <td>...</td>\n",
       "      <td>...</td>\n",
       "      <td>...</td>\n",
       "      <td>...</td>\n",
       "    </tr>\n",
       "    <tr>\n",
       "      <th>29986</th>\n",
       "      <td>-1.0</td>\n",
       "      <td>1.0</td>\n",
       "      <td>-0.5</td>\n",
       "      <td>0.0</td>\n",
       "      <td>-1.0</td>\n",
       "      <td>-0.5</td>\n",
       "      <td>0.5</td>\n",
       "      <td>-0.5</td>\n",
       "      <td>1.0</td>\n",
       "      <td>0.000000</td>\n",
       "    </tr>\n",
       "    <tr>\n",
       "      <th>29987</th>\n",
       "      <td>1.0</td>\n",
       "      <td>-0.5</td>\n",
       "      <td>0.0</td>\n",
       "      <td>-1.0</td>\n",
       "      <td>-0.5</td>\n",
       "      <td>0.5</td>\n",
       "      <td>-0.5</td>\n",
       "      <td>1.0</td>\n",
       "      <td>-1.0</td>\n",
       "      <td>0.000000</td>\n",
       "    </tr>\n",
       "    <tr>\n",
       "      <th>29988</th>\n",
       "      <td>-0.5</td>\n",
       "      <td>0.0</td>\n",
       "      <td>-1.0</td>\n",
       "      <td>-0.5</td>\n",
       "      <td>0.5</td>\n",
       "      <td>-0.5</td>\n",
       "      <td>1.0</td>\n",
       "      <td>-1.5</td>\n",
       "      <td>1.0</td>\n",
       "      <td>-0.526316</td>\n",
       "    </tr>\n",
       "    <tr>\n",
       "      <th>29989</th>\n",
       "      <td>0.0</td>\n",
       "      <td>-1.0</td>\n",
       "      <td>-0.5</td>\n",
       "      <td>0.5</td>\n",
       "      <td>-0.5</td>\n",
       "      <td>1.0</td>\n",
       "      <td>-1.5</td>\n",
       "      <td>2.5</td>\n",
       "      <td>-1.0</td>\n",
       "      <td>-0.333333</td>\n",
       "    </tr>\n",
       "    <tr>\n",
       "      <th>29990</th>\n",
       "      <td>-1.0</td>\n",
       "      <td>-0.5</td>\n",
       "      <td>0.5</td>\n",
       "      <td>-0.5</td>\n",
       "      <td>1.0</td>\n",
       "      <td>-1.5</td>\n",
       "      <td>2.5</td>\n",
       "      <td>-4.0</td>\n",
       "      <td>1.0</td>\n",
       "      <td>0.928571</td>\n",
       "    </tr>\n",
       "  </tbody>\n",
       "</table>\n",
       "<p>29990 rows × 10 columns</p>\n",
       "</div>"
      ],
      "text/plain": [
       "       avg_price_diff_t-7  avg_price_diff_t-6  avg_price_diff_t-5  \\\n",
       "1                    -2.0                -0.5                -1.0   \n",
       "2                    -0.5                -1.0                 3.5   \n",
       "3                    -1.0                 3.5                -2.5   \n",
       "4                     3.5                -2.5                 0.5   \n",
       "5                    -2.5                 0.5                 2.5   \n",
       "...                   ...                 ...                 ...   \n",
       "29986                -1.0                 1.0                -0.5   \n",
       "29987                 1.0                -0.5                 0.0   \n",
       "29988                -0.5                 0.0                -1.0   \n",
       "29989                 0.0                -1.0                -0.5   \n",
       "29990                -1.0                -0.5                 0.5   \n",
       "\n",
       "       avg_price_diff-4  avg_price_diff_t-3  avg_price_diff_t-2  \\\n",
       "1                   3.5                -2.5                 0.5   \n",
       "2                  -2.5                 0.5                 2.5   \n",
       "3                   0.5                 2.5                 0.0   \n",
       "4                   2.5                 0.0                -3.5   \n",
       "5                   0.0                -3.5                 0.5   \n",
       "...                 ...                 ...                 ...   \n",
       "29986               0.0                -1.0                -0.5   \n",
       "29987              -1.0                -0.5                 0.5   \n",
       "29988              -0.5                 0.5                -0.5   \n",
       "29989               0.5                -0.5                 1.0   \n",
       "29990              -0.5                 1.0                -1.5   \n",
       "\n",
       "       avg_price_diff_t-1  avg_price_diff_t  target  s1_imbalance  \n",
       "1                     2.5               0.0    -1.0     -0.875000  \n",
       "2                     0.0              -3.5     1.0     -0.600000  \n",
       "3                    -3.5               0.5     1.0      0.785714  \n",
       "4                     0.5               0.5     1.0      0.931034  \n",
       "5                     0.5               2.0    -1.0     -0.769231  \n",
       "...                   ...               ...     ...           ...  \n",
       "29986                 0.5              -0.5     1.0      0.000000  \n",
       "29987                -0.5               1.0    -1.0      0.000000  \n",
       "29988                 1.0              -1.5     1.0     -0.526316  \n",
       "29989                -1.5               2.5    -1.0     -0.333333  \n",
       "29990                 2.5              -4.0     1.0      0.928571  \n",
       "\n",
       "[29990 rows x 10 columns]"
      ]
     },
     "execution_count": 130,
     "metadata": {},
     "output_type": "execute_result"
    }
   ],
   "source": [
    "model_df"
   ]
  },
  {
   "cell_type": "markdown",
   "metadata": {
    "collapsed": false
   },
   "source": [
    "# Model Training"
   ]
  },
  {
   "cell_type": "code",
   "execution_count": 148,
   "metadata": {},
   "outputs": [
    {
     "name": "stdout",
     "output_type": "stream",
     "text": [
      "Accuracy: 0.6243747915971991\n"
     ]
    }
   ],
   "source": [
    "# fit a logistic regression model and store the class predictions using only s1_imbalance as the feature to predict the target\n",
    "from sklearn.linear_model import LogisticRegression\n",
    "from sklearn.metrics import accuracy_score\n",
    "\n",
    "# Split the data into training and test sets\n",
    "X = model_df['s1_imbalance'].values.reshape(-1, 1)\n",
    "y = model_df['target'].values\n",
    "\n",
    "# Fit a logistic regression model\n",
    "model = LogisticRegression(solver='saga', class_weight='balanced')\n",
    "model.fit(X, y)\n",
    "\n",
    "y_pred_proba = model.predict_proba(X)\n",
    "y_pred = np.where(y_pred_proba[:, 1] > 0.6, 1, -1)\n",
    "\n",
    "# Calculate the accuracy of the model\n",
    "accuracy = accuracy_score(y, y_pred)\n",
    "print(f'Accuracy: {accuracy}')"
   ]
  },
  {
   "cell_type": "code",
   "execution_count": 150,
   "metadata": {},
   "outputs": [
    {
     "data": {
      "text/plain": [
       "array([[-0.97756779],\n",
       "       [-0.66265941],\n",
       "       [ 0.92415164],\n",
       "       ...,\n",
       "       [-0.57828204],\n",
       "       [-0.35729371],\n",
       "       [ 1.08774041]])"
      ]
     },
     "execution_count": 150,
     "metadata": {},
     "output_type": "execute_result"
    }
   ],
   "source": [
    "z"
   ]
  },
  {
   "cell_type": "code",
   "execution_count": 151,
   "metadata": {},
   "outputs": [
    {
     "name": "stdout",
     "output_type": "stream",
     "text": [
      "Accuracy: 0.6243747915971991\n"
     ]
    }
   ],
   "source": [
    "z = np.matmul(X, model.coef_.T) + model.intercept_\n",
    "prob = 1/ (1+np.exp(-z))\n",
    "y_pred_rep = np.where(prob > 0.6, 1, -1)\n",
    "\n",
    "accuracy = accuracy_score(y, y_pred_rep)\n",
    "print(f'Accuracy: {accuracy}')"
   ]
  },
  {
   "cell_type": "code",
   "execution_count": 147,
   "metadata": {},
   "outputs": [
    {
     "name": "stdout",
     "output_type": "stream",
     "text": [
      "Coefficients: [[1.14536629]]\n",
      "Intercept: [0.02429364]\n"
     ]
    }
   ],
   "source": [
    "print(\"Coefficients:\", model.coef_)\n",
    "print(\"Intercept:\", model.intercept_)"
   ]
  },
  {
   "cell_type": "code",
   "execution_count": 134,
   "metadata": {},
   "outputs": [
    {
     "data": {
      "text/plain": [
       "array([[0.72663427, 0.27336573],\n",
       "       [0.65986414, 0.34013586],\n",
       "       [0.28410281, 0.71589719],\n",
       "       ...,\n",
       "       [0.64067783, 0.35932217],\n",
       "       [0.58838864, 0.41161136],\n",
       "       [0.2520333 , 0.7479667 ]])"
      ]
     },
     "execution_count": 134,
     "metadata": {},
     "output_type": "execute_result"
    }
   ],
   "source": [
    "y_pred_proba"
   ]
  },
  {
   "cell_type": "code",
   "execution_count": 145,
   "metadata": {},
   "outputs": [
    {
     "data": {
      "text/plain": [
       "array([-1, -1,  1, ..., -1, -1,  1])"
      ]
     },
     "execution_count": 145,
     "metadata": {},
     "output_type": "execute_result"
    }
   ],
   "source": [
    "y_pred = np.where(y_pred_proba[:, 1] > 0.6, 1, -1)\n",
    "y_pred"
   ]
  },
  {
   "cell_type": "code",
   "execution_count": 116,
   "metadata": {
    "collapsed": false
   },
   "outputs": [],
   "source": [
    "from sklearn.linear_model import LogisticRegression\n",
    "from sklearn.metrics import accuracy_score\n",
    "\n",
    "# Separate the features and target variable\n",
    "X = model_df.drop(\"target\", axis=1)\n",
    "y = model_df[\"target\"]\n",
    "\n",
    "# Create and fit the logistic regression model\n",
    "model = LogisticRegression(penalty='l1', solver='saga', class_weight='balanced', C=1, max_iter=1000)\n",
    "model.fit(X, y)\n",
    "\n",
    "# Make predictions on the test set\n",
    "y_pred_proba = model.predict_proba(X)\n"
   ]
  },
  {
   "cell_type": "code",
   "execution_count": 117,
   "metadata": {},
   "outputs": [
    {
     "data": {
      "text/plain": [
       "array([[0.76235467, 0.23764533],\n",
       "       [0.29201046, 0.70798954],\n",
       "       [0.30299145, 0.69700855],\n",
       "       ...,\n",
       "       [0.36404645, 0.63595355],\n",
       "       [0.68901754, 0.31098246],\n",
       "       [0.22165587, 0.77834413]])"
      ]
     },
     "execution_count": 117,
     "metadata": {},
     "output_type": "execute_result"
    }
   ],
   "source": [
    "y_pred_proba"
   ]
  },
  {
   "cell_type": "code",
   "execution_count": 118,
   "metadata": {},
   "outputs": [],
   "source": [
    "# when the probability of the positive class is greater than 0.7, return y_pred as 1, otherwise -1\n",
    "y_pred = np.where(y_pred_proba[:, 1] > 0.7, 1, -1)"
   ]
  },
  {
   "cell_type": "code",
   "execution_count": 119,
   "metadata": {},
   "outputs": [
    {
     "data": {
      "text/plain": [
       "array([-1,  1, -1, ..., -1, -1,  1])"
      ]
     },
     "execution_count": 119,
     "metadata": {},
     "output_type": "execute_result"
    }
   ],
   "source": [
    "y_pred"
   ]
  },
  {
   "cell_type": "code",
   "execution_count": 120,
   "metadata": {},
   "outputs": [
    {
     "name": "stdout",
     "output_type": "stream",
     "text": [
      "Accuracy: 0.5677559186395466\n"
     ]
    }
   ],
   "source": [
    "# Evaluate the model's accuracy\n",
    "accuracy = accuracy_score(y, y_pred)\n",
    "print(\"Accuracy:\", accuracy)"
   ]
  },
  {
   "cell_type": "code",
   "execution_count": 121,
   "metadata": {
    "collapsed": false
   },
   "outputs": [
    {
     "name": "stdout",
     "output_type": "stream",
     "text": [
      "Coefficients: [[-0.02839707 -0.05048245 -0.10501895 -0.17026582 -0.26236442 -0.37601569\n",
      "  -0.4910231  -0.52319539]]\n",
      "Intercept: [0.00289805]\n"
     ]
    }
   ],
   "source": [
    "print(\"Coefficients:\", model.coef_)\n",
    "print(\"Intercept:\", model.intercept_)"
   ]
  },
  {
   "cell_type": "code",
   "execution_count": 122,
   "metadata": {
    "collapsed": false
   },
   "outputs": [],
   "source": [
    "z = np.matmul(X, model.coef_.T) + model.intercept_\n",
    "prob = 1/ (1+np.exp(-z.values))\n",
    "y_pred_rep = np.where(prob > 0.7, 1, -1)"
   ]
  },
  {
   "cell_type": "code",
   "execution_count": 123,
   "metadata": {},
   "outputs": [
    {
     "data": {
      "text/plain": [
       "array([[-1],\n",
       "       [ 1],\n",
       "       [-1],\n",
       "       ...,\n",
       "       [-1],\n",
       "       [-1],\n",
       "       [ 1]])"
      ]
     },
     "execution_count": 123,
     "metadata": {},
     "output_type": "execute_result"
    }
   ],
   "source": [
    "y_pred_rep"
   ]
  },
  {
   "cell_type": "code",
   "execution_count": 124,
   "metadata": {
    "collapsed": false
   },
   "outputs": [
    {
     "data": {
      "text/plain": [
       "array([-1,  1, -1, ..., -1, -1,  1])"
      ]
     },
     "execution_count": 124,
     "metadata": {},
     "output_type": "execute_result"
    }
   ],
   "source": [
    "y_pred_rep = y_pred_rep.reshape(-1,)\n",
    "y_pred_rep"
   ]
  },
  {
   "cell_type": "code",
   "execution_count": 125,
   "metadata": {
    "collapsed": false
   },
   "outputs": [
    {
     "data": {
      "text/plain": [
       "True"
      ]
     },
     "execution_count": 125,
     "metadata": {},
     "output_type": "execute_result"
    }
   ],
   "source": [
    "# check whether the y_pred_rep is the same as y_pred\n",
    "np.array_equal(y_pred_rep, y_pred)"
   ]
  },
  {
   "cell_type": "code",
   "execution_count": 109,
   "metadata": {
    "collapsed": false
   },
   "outputs": [
    {
     "data": {
      "text/html": [
       "<div>\n",
       "<style scoped>\n",
       "    .dataframe tbody tr th:only-of-type {\n",
       "        vertical-align: middle;\n",
       "    }\n",
       "\n",
       "    .dataframe tbody tr th {\n",
       "        vertical-align: top;\n",
       "    }\n",
       "\n",
       "    .dataframe thead th {\n",
       "        text-align: right;\n",
       "    }\n",
       "</style>\n",
       "<table border=\"1\" class=\"dataframe\">\n",
       "  <thead>\n",
       "    <tr style=\"text-align: right;\">\n",
       "      <th></th>\n",
       "      <th>avg_price_diff_t-7</th>\n",
       "      <th>avg_price_diff_t-6</th>\n",
       "      <th>avg_price_diff_t-5</th>\n",
       "      <th>avg_price_diff-4</th>\n",
       "      <th>avg_price_diff_t-3</th>\n",
       "      <th>avg_price_diff_t-2</th>\n",
       "      <th>avg_price_diff_t-1</th>\n",
       "      <th>avg_price_diff_t</th>\n",
       "      <th>s1_imbalance</th>\n",
       "    </tr>\n",
       "  </thead>\n",
       "  <tbody>\n",
       "    <tr>\n",
       "      <th>1</th>\n",
       "      <td>-2.0</td>\n",
       "      <td>-0.5</td>\n",
       "      <td>-1.0</td>\n",
       "      <td>3.5</td>\n",
       "      <td>-2.5</td>\n",
       "      <td>0.5</td>\n",
       "      <td>2.5</td>\n",
       "      <td>0.0</td>\n",
       "      <td>-0.875000</td>\n",
       "    </tr>\n",
       "    <tr>\n",
       "      <th>2</th>\n",
       "      <td>-0.5</td>\n",
       "      <td>-1.0</td>\n",
       "      <td>3.5</td>\n",
       "      <td>-2.5</td>\n",
       "      <td>0.5</td>\n",
       "      <td>2.5</td>\n",
       "      <td>0.0</td>\n",
       "      <td>-3.5</td>\n",
       "      <td>-0.600000</td>\n",
       "    </tr>\n",
       "    <tr>\n",
       "      <th>3</th>\n",
       "      <td>-1.0</td>\n",
       "      <td>3.5</td>\n",
       "      <td>-2.5</td>\n",
       "      <td>0.5</td>\n",
       "      <td>2.5</td>\n",
       "      <td>0.0</td>\n",
       "      <td>-3.5</td>\n",
       "      <td>0.5</td>\n",
       "      <td>0.785714</td>\n",
       "    </tr>\n",
       "    <tr>\n",
       "      <th>4</th>\n",
       "      <td>3.5</td>\n",
       "      <td>-2.5</td>\n",
       "      <td>0.5</td>\n",
       "      <td>2.5</td>\n",
       "      <td>0.0</td>\n",
       "      <td>-3.5</td>\n",
       "      <td>0.5</td>\n",
       "      <td>0.5</td>\n",
       "      <td>0.931034</td>\n",
       "    </tr>\n",
       "    <tr>\n",
       "      <th>5</th>\n",
       "      <td>-2.5</td>\n",
       "      <td>0.5</td>\n",
       "      <td>2.5</td>\n",
       "      <td>0.0</td>\n",
       "      <td>-3.5</td>\n",
       "      <td>0.5</td>\n",
       "      <td>0.5</td>\n",
       "      <td>2.0</td>\n",
       "      <td>-0.769231</td>\n",
       "    </tr>\n",
       "    <tr>\n",
       "      <th>...</th>\n",
       "      <td>...</td>\n",
       "      <td>...</td>\n",
       "      <td>...</td>\n",
       "      <td>...</td>\n",
       "      <td>...</td>\n",
       "      <td>...</td>\n",
       "      <td>...</td>\n",
       "      <td>...</td>\n",
       "      <td>...</td>\n",
       "    </tr>\n",
       "    <tr>\n",
       "      <th>29986</th>\n",
       "      <td>-1.0</td>\n",
       "      <td>1.0</td>\n",
       "      <td>-0.5</td>\n",
       "      <td>0.0</td>\n",
       "      <td>-1.0</td>\n",
       "      <td>-0.5</td>\n",
       "      <td>0.5</td>\n",
       "      <td>-0.5</td>\n",
       "      <td>0.000000</td>\n",
       "    </tr>\n",
       "    <tr>\n",
       "      <th>29987</th>\n",
       "      <td>1.0</td>\n",
       "      <td>-0.5</td>\n",
       "      <td>0.0</td>\n",
       "      <td>-1.0</td>\n",
       "      <td>-0.5</td>\n",
       "      <td>0.5</td>\n",
       "      <td>-0.5</td>\n",
       "      <td>1.0</td>\n",
       "      <td>0.000000</td>\n",
       "    </tr>\n",
       "    <tr>\n",
       "      <th>29988</th>\n",
       "      <td>-0.5</td>\n",
       "      <td>0.0</td>\n",
       "      <td>-1.0</td>\n",
       "      <td>-0.5</td>\n",
       "      <td>0.5</td>\n",
       "      <td>-0.5</td>\n",
       "      <td>1.0</td>\n",
       "      <td>-1.5</td>\n",
       "      <td>-0.526316</td>\n",
       "    </tr>\n",
       "    <tr>\n",
       "      <th>29989</th>\n",
       "      <td>0.0</td>\n",
       "      <td>-1.0</td>\n",
       "      <td>-0.5</td>\n",
       "      <td>0.5</td>\n",
       "      <td>-0.5</td>\n",
       "      <td>1.0</td>\n",
       "      <td>-1.5</td>\n",
       "      <td>2.5</td>\n",
       "      <td>-0.333333</td>\n",
       "    </tr>\n",
       "    <tr>\n",
       "      <th>29990</th>\n",
       "      <td>-1.0</td>\n",
       "      <td>-0.5</td>\n",
       "      <td>0.5</td>\n",
       "      <td>-0.5</td>\n",
       "      <td>1.0</td>\n",
       "      <td>-1.5</td>\n",
       "      <td>2.5</td>\n",
       "      <td>-4.0</td>\n",
       "      <td>0.928571</td>\n",
       "    </tr>\n",
       "  </tbody>\n",
       "</table>\n",
       "<p>29990 rows × 9 columns</p>\n",
       "</div>"
      ],
      "text/plain": [
       "       avg_price_diff_t-7  avg_price_diff_t-6  avg_price_diff_t-5  \\\n",
       "1                    -2.0                -0.5                -1.0   \n",
       "2                    -0.5                -1.0                 3.5   \n",
       "3                    -1.0                 3.5                -2.5   \n",
       "4                     3.5                -2.5                 0.5   \n",
       "5                    -2.5                 0.5                 2.5   \n",
       "...                   ...                 ...                 ...   \n",
       "29986                -1.0                 1.0                -0.5   \n",
       "29987                 1.0                -0.5                 0.0   \n",
       "29988                -0.5                 0.0                -1.0   \n",
       "29989                 0.0                -1.0                -0.5   \n",
       "29990                -1.0                -0.5                 0.5   \n",
       "\n",
       "       avg_price_diff-4  avg_price_diff_t-3  avg_price_diff_t-2  \\\n",
       "1                   3.5                -2.5                 0.5   \n",
       "2                  -2.5                 0.5                 2.5   \n",
       "3                   0.5                 2.5                 0.0   \n",
       "4                   2.5                 0.0                -3.5   \n",
       "5                   0.0                -3.5                 0.5   \n",
       "...                 ...                 ...                 ...   \n",
       "29986               0.0                -1.0                -0.5   \n",
       "29987              -1.0                -0.5                 0.5   \n",
       "29988              -0.5                 0.5                -0.5   \n",
       "29989               0.5                -0.5                 1.0   \n",
       "29990              -0.5                 1.0                -1.5   \n",
       "\n",
       "       avg_price_diff_t-1  avg_price_diff_t  s1_imbalance  \n",
       "1                     2.5               0.0     -0.875000  \n",
       "2                     0.0              -3.5     -0.600000  \n",
       "3                    -3.5               0.5      0.785714  \n",
       "4                     0.5               0.5      0.931034  \n",
       "5                     0.5               2.0     -0.769231  \n",
       "...                   ...               ...           ...  \n",
       "29986                 0.5              -0.5      0.000000  \n",
       "29987                -0.5               1.0      0.000000  \n",
       "29988                 1.0              -1.5     -0.526316  \n",
       "29989                -1.5               2.5     -0.333333  \n",
       "29990                 2.5              -4.0      0.928571  \n",
       "\n",
       "[29990 rows x 9 columns]"
      ]
     },
     "execution_count": 109,
     "metadata": {},
     "output_type": "execute_result"
    }
   ],
   "source": [
    "X"
   ]
  },
  {
   "cell_type": "code",
   "execution_count": 126,
   "metadata": {},
   "outputs": [
    {
     "data": {
      "text/plain": [
       "[6, 7, 8]"
      ]
     },
     "execution_count": 126,
     "metadata": {},
     "output_type": "execute_result"
    }
   ],
   "source": [
    "[1,2,3,4,5,6,7,8][-3:]"
   ]
  }
 ],
 "metadata": {
  "kernelspec": {
   "display_name": "Python 3",
   "language": "python",
   "name": "python3"
  },
  "language_info": {
   "codemirror_mode": {
    "name": "ipython",
    "version": 3
   },
   "file_extension": ".py",
   "mimetype": "text/x-python",
   "name": "python",
   "nbconvert_exporter": "python",
   "pygments_lexer": "ipython3",
   "version": "3.10.3"
  }
 },
 "nbformat": 4,
 "nbformat_minor": 0
}
