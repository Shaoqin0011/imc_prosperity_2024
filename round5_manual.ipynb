{
 "cells": [
  {
   "cell_type": "code",
   "id": "initial_id",
   "metadata": {
    "collapsed": true,
    "ExecuteTime": {
     "end_time": "2024-04-22T19:41:37.099408Z",
     "start_time": "2024-04-22T19:41:35.936631Z"
    }
   },
   "source": "import numpy as np\n",
   "outputs": [],
   "execution_count": 1
  },
  {
   "metadata": {
    "ExecuteTime": {
     "end_time": "2024-04-22T19:43:14.869284Z",
     "start_time": "2024-04-22T19:43:14.862432Z"
    }
   },
   "cell_type": "code",
   "source": "x = np.arange(0,105,5)",
   "id": "46e96d4bc043faf5",
   "outputs": [],
   "execution_count": 10
  },
  {
   "metadata": {
    "ExecuteTime": {
     "end_time": "2024-04-22T19:43:15.197089Z",
     "start_time": "2024-04-22T19:43:15.188521Z"
    }
   },
   "cell_type": "code",
   "source": "x",
   "id": "6ca6d021e3250407",
   "outputs": [
    {
     "data": {
      "text/plain": [
       "array([  0,   5,  10,  15,  20,  25,  30,  35,  40,  45,  50,  55,  60,\n",
       "        65,  70,  75,  80,  85,  90,  95, 100])"
      ]
     },
     "execution_count": 11,
     "metadata": {},
     "output_type": "execute_result"
    }
   ],
   "execution_count": 11
  },
  {
   "metadata": {
    "ExecuteTime": {
     "end_time": "2024-04-22T19:47:33.758527Z",
     "start_time": "2024-04-22T19:47:33.750184Z"
    }
   },
   "cell_type": "code",
   "source": "y=[0,2.25,9,20.25,36,56.25,81,110.249,144,182.25,225,272.25,324,380.25,441,506.25,576,650.25,729,812.25,900]",
   "id": "5bbd440971267659",
   "outputs": [],
   "execution_count": 15
  },
  {
   "metadata": {
    "ExecuteTime": {
     "end_time": "2024-04-22T19:47:33.926355Z",
     "start_time": "2024-04-22T19:47:33.919525Z"
    }
   },
   "cell_type": "code",
   "source": "import matplotlib.pyplot as plt",
   "id": "55b1d3bdaf244d65",
   "outputs": [],
   "execution_count": 16
  },
  {
   "metadata": {
    "ExecuteTime": {
     "end_time": "2024-04-22T19:47:34.880686Z",
     "start_time": "2024-04-22T19:47:34.504851Z"
    }
   },
   "cell_type": "code",
   "source": "plt.plot(x,y)",
   "id": "d79893f5b0194abf",
   "outputs": [
    {
     "data": {
      "text/plain": [
       "[<matplotlib.lines.Line2D at 0x1de4a0bbf80>]"
      ]
     },
     "execution_count": 17,
     "metadata": {},
     "output_type": "execute_result"
    },
    {
     "data": {
      "text/plain": [
       "<Figure size 640x480 with 1 Axes>"
      ],
      "image/png": "[encoded data removed]"
     },
     "metadata": {},
     "output_type": "display_data"
    }
   ],
   "execution_count": 17
  },
  {
   "metadata": {
    "ExecuteTime": {
     "end_time": "2024-04-22T20:13:19.335801Z",
     "start_time": "2024-04-22T20:13:19.330185Z"
    }
   },
   "cell_type": "code",
   "source": "coef = np.polyfit(x,y,2)",
   "id": "64299e8e3b1a5d7b",
   "outputs": [],
   "execution_count": 26
  },
  {
   "metadata": {
    "ExecuteTime": {
     "end_time": "2024-04-22T20:13:43.373084Z",
     "start_time": "2024-04-22T20:13:43.363797Z"
    }
   },
   "cell_type": "code",
   "source": "coef[0] * x**2+coef[1]*x+coef[2]",
   "id": "a1b2705ad6ccaf9a",
   "outputs": [
    {
     "data": {
      "text/plain": [
       "array([-8.46979097e-06,  2.24997199e+00,  8.99995492e+00,  2.02499403e+01,\n",
       "        3.59999282e+01,  5.62499185e+01,  8.09999113e+01,  1.10249907e+02,\n",
       "        1.43999904e+02,  1.82249904e+02,  2.24999907e+02,  2.72249912e+02,\n",
       "        3.23999920e+02,  3.80249930e+02,  4.40999942e+02,  5.06249957e+02,\n",
       "        5.75999975e+02,  6.50249995e+02,  7.29000017e+02,  8.12250042e+02,\n",
       "        9.00000069e+02])"
      ]
     },
     "execution_count": 27,
     "metadata": {},
     "output_type": "execute_result"
    }
   ],
   "execution_count": 27
  },
  {
   "metadata": {
    "ExecuteTime": {
     "end_time": "2024-04-22T20:32:19.547824Z",
     "start_time": "2024-04-22T20:32:19.534166Z"
    }
   },
   "cell_type": "code",
   "source": [
    "from scipy.optimize import minimize\n",
    "\n",
    "def trading_fee(x):\n",
    "    return coef[0] * x**2+coef[1]*x+coef[2]\n",
    "# products = [fridge, earrings, e-blanket, sleds, sculptures, ps6,moustache, lava, chocolate]\n",
    "expected_returns = [10,30,25,30,25,15,30,5,10]\n",
    "\n",
    "def objective(weights):\n",
    "    expected_return = np.dot(weights, expected_returns)\n",
    "    total_fee = np.sum([trading_fee(x) for x in weights])\n",
    "    return -expected_return + total_fee\n",
    "constraints = [{'type': 'eq', 'fun': lambda x: np.sum(x) - 100}]\n",
    "bounds = [(0, 100) for _ in range(len(expected_returns))]\n",
    "initial_guess = [1 / len(expected_returns) for _ in range(len(expected_returns))]\n",
    "# Solve the optimization problem\n",
    "result = minimize(objective, initial_guess, method='SLSQP', bounds=bounds, constraints=constraints)\n",
    "\n",
    "# Get the optimal weights for the portfolio\n",
    "optimal_weights = result.x\n",
    "\n",
    "print(\"Optimal portfolio weights:\", optimal_weights)"
   ],
   "id": "a74c376d788de238",
   "outputs": [
    {
     "name": "stdout",
     "output_type": "stream",
     "text": [
      "Optimal portfolio weights: [ 0.         31.11107349  3.33335178 31.11107349  3.33335178  0.\n",
      " 31.11114947  0.          0.        ]\n"
     ]
    }
   ],
   "execution_count": 70
  },
  {
   "metadata": {
    "ExecuteTime": {
     "end_time": "2024-04-22T20:25:52.396585Z",
     "start_time": "2024-04-22T20:25:52.392030Z"
    }
   },
   "cell_type": "code",
   "source": "import pulp as pl",
   "id": "1648362875c3e397",
   "outputs": [],
   "execution_count": 46
  },
  {
   "metadata": {},
   "cell_type": "code",
   "outputs": [],
   "execution_count": null,
   "source": "",
   "id": "9b3787bd325a287c"
  }
 ],
 "metadata": {
  "kernelspec": {
   "display_name": "Python 3",
   "language": "python",
   "name": "python3"
  },
  "language_info": {
   "codemirror_mode": {
    "name": "ipython",
    "version": 2
   },
   "file_extension": ".py",
   "mimetype": "text/x-python",
   "name": "python",
   "nbconvert_exporter": "python",
   "pygments_lexer": "ipython2",
   "version": "2.7.6"
  }
 },
 "nbformat": 4,
 "nbformat_minor": 5
}
