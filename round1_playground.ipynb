{
 "cells": [
  {
   "cell_type": "code",
   "id": "initial_id",
   "metadata": {
    "collapsed": true,
    "ExecuteTime": {
     "end_time": "2024-04-10T08:07:48.124182Z",
     "start_time": "2024-04-10T08:07:48.118715Z"
    }
   },
   "source": [
    "import numpy as np\n",
    "import pandas as pd\n",
    "import matplotlib.pyplot as plt"
   ],
   "outputs": [],
   "execution_count": 8
  },
  {
   "metadata": {
    "ExecuteTime": {
     "end_time": "2024-04-10T08:07:48.177699Z",
     "start_time": "2024-04-10T08:07:48.166540Z"
    }
   },
   "cell_type": "code",
   "source": [
    "import glob\n",
    "import os\n"
   ],
   "id": "f9135a1d4222c145",
   "outputs": [],
   "execution_count": 9
  },
  {
   "metadata": {
    "ExecuteTime": {
     "end_time": "2024-04-10T08:07:48.183520Z",
     "start_time": "2024-04-10T08:07:48.177699Z"
    }
   },
   "cell_type": "code",
   "source": [
    "# get all files under src/round1\n",
    "files = glob.glob('src/round1/round-1-island-data-bottle/*')\n",
    "files"
   ],
   "id": "e9c222bcf89adffe",
   "outputs": [
    {
     "data": {
      "text/plain": [
       "['src/round1/round-1-island-data-bottle\\\\prices_round_1_day_-1.csv',\n",
       " 'src/round1/round-1-island-data-bottle\\\\prices_round_1_day_-2.csv',\n",
       " 'src/round1/round-1-island-data-bottle\\\\prices_round_1_day_0.csv',\n",
       " 'src/round1/round-1-island-data-bottle\\\\trades_round_1_day_-1_nn.csv',\n",
       " 'src/round1/round-1-island-data-bottle\\\\trades_round_1_day_-2_nn.csv',\n",
       " 'src/round1/round-1-island-data-bottle\\\\trades_round_1_day_0_nn.csv']"
      ]
     },
     "execution_count": 10,
     "metadata": {},
     "output_type": "execute_result"
    }
   ],
   "execution_count": 10
  },
  {
   "metadata": {
    "ExecuteTime": {
     "end_time": "2024-04-10T08:07:48.301352Z",
     "start_time": "2024-04-10T08:07:48.202963Z"
    }
   },
   "cell_type": "code",
   "source": [
    "prices = []\n",
    "trades = []\n",
    "for file in files:\n",
    "    if 'prices' in file:\n",
    "        prices.append(pd.read_csv(file,sep=';'))\n",
    "    else:\n",
    "        tmp = pd.read_csv(file,sep=';')\n",
    "        tmp['day'] = int(os.path.basename(file).split('day_')[1].split('_')[0])\n",
    "        tmp = tmp.loc[:,['day']+list(tmp.columns[:-1])]\n",
    "        trades.append(tmp)\n",
    "        \n",
    "prices = pd.concat(prices).sort_values(['day','timestamp']).reset_index()\n",
    "trades = pd.concat(trades).sort_values(['day','timestamp']).reset_index()"
   ],
   "id": "2eaf2ae4303f0e33",
   "outputs": [],
   "execution_count": 11
  },
  {
   "metadata": {
    "ExecuteTime": {
     "end_time": "2024-04-10T08:07:48.316229Z",
     "start_time": "2024-04-10T08:07:48.301352Z"
    }
   },
   "cell_type": "code",
   "source": "prices",
   "id": "76d9561a40c920f3",
   "outputs": [
    {
     "data": {
      "text/plain": [
       "       index  day  timestamp    product  bid_price_1  bid_volume_1  \\\n",
       "0          0   -2          0  AMETHYSTS         9996             1   \n",
       "1          1   -2          0  STARFRUIT         4997            26   \n",
       "2          2   -2        100  AMETHYSTS        10000             5   \n",
       "3          3   -2        100  STARFRUIT         5000             5   \n",
       "4          4   -2        200  STARFRUIT         4997             1   \n",
       "...      ...  ...        ...        ...          ...           ...   \n",
       "59995  19995    0     999700  STARFRUIT         5053             1   \n",
       "59996  19996    0     999800  STARFRUIT         5047            27   \n",
       "59997  19997    0     999800  AMETHYSTS         9995            27   \n",
       "59998  19998    0     999900  STARFRUIT         5048             2   \n",
       "59999  19999    0     999900  AMETHYSTS         9996             2   \n",
       "\n",
       "       bid_price_2  bid_volume_2  bid_price_3  bid_volume_3  ask_price_1  \\\n",
       "0           9995.0          25.0          NaN           NaN        10004   \n",
       "1              NaN           NaN          NaN           NaN         5003   \n",
       "2           9995.0          20.0          NaN           NaN        10005   \n",
       "3           4998.0           6.0       4997.0          20.0         5004   \n",
       "4           4996.0          30.0          NaN           NaN         5003   \n",
       "...            ...           ...          ...           ...          ...   \n",
       "59995       5048.0          26.0          NaN           NaN         5054   \n",
       "59996          NaN           NaN          NaN           NaN         5052   \n",
       "59997          NaN           NaN          NaN           NaN        10005   \n",
       "59998       5047.0          21.0          NaN           NaN         5054   \n",
       "59999       9995.0          21.0          NaN           NaN        10004   \n",
       "\n",
       "       ask_volume_1  ask_price_2  ask_volume_2  ask_price_3  ask_volume_3  \\\n",
       "0                 1      10005.0          25.0          NaN           NaN   \n",
       "1                26          NaN           NaN          NaN           NaN   \n",
       "2                20          NaN           NaN          NaN           NaN   \n",
       "3                20          NaN           NaN          NaN           NaN   \n",
       "4                31          NaN           NaN          NaN           NaN   \n",
       "...             ...          ...           ...          ...           ...   \n",
       "59995             2       5055.0          24.0          NaN           NaN   \n",
       "59996             1       5054.0          27.0          NaN           NaN   \n",
       "59997            27          NaN           NaN          NaN           NaN   \n",
       "59998            23          NaN           NaN          NaN           NaN   \n",
       "59999             2      10005.0          21.0          NaN           NaN   \n",
       "\n",
       "       mid_price  profit_and_loss  \n",
       "0        10000.0              0.0  \n",
       "1         5000.0              0.0  \n",
       "2        10002.5              0.0  \n",
       "3         5002.0              0.0  \n",
       "4         5000.0              0.0  \n",
       "...          ...              ...  \n",
       "59995     5053.5              0.0  \n",
       "59996     5049.5              0.0  \n",
       "59997    10000.0              0.0  \n",
       "59998     5051.0              0.0  \n",
       "59999    10000.0              0.0  \n",
       "\n",
       "[60000 rows x 18 columns]"
      ],
      "text/html": [
       "<div>\n",
       "<style scoped>\n",
       "    .dataframe tbody tr th:only-of-type {\n",
       "        vertical-align: middle;\n",
       "    }\n",
       "\n",
       "    .dataframe tbody tr th {\n",
       "        vertical-align: top;\n",
       "    }\n",
       "\n",
       "    .dataframe thead th {\n",
       "        text-align: right;\n",
       "    }\n",
       "</style>\n",
       "<table border=\"1\" class=\"dataframe\">\n",
       "  <thead>\n",
       "    <tr style=\"text-align: right;\">\n",
       "      <th></th>\n",
       "      <th>index</th>\n",
       "      <th>day</th>\n",
       "      <th>timestamp</th>\n",
       "      <th>product</th>\n",
       "      <th>bid_price_1</th>\n",
       "      <th>bid_volume_1</th>\n",
       "      <th>bid_price_2</th>\n",
       "      <th>bid_volume_2</th>\n",
       "      <th>bid_price_3</th>\n",
       "      <th>bid_volume_3</th>\n",
       "      <th>ask_price_1</th>\n",
       "      <th>ask_volume_1</th>\n",
       "      <th>ask_price_2</th>\n",
       "      <th>ask_volume_2</th>\n",
       "      <th>ask_price_3</th>\n",
       "      <th>ask_volume_3</th>\n",
       "      <th>mid_price</th>\n",
       "      <th>profit_and_loss</th>\n",
       "    </tr>\n",
       "  </thead>\n",
       "  <tbody>\n",
       "    <tr>\n",
       "      <th>0</th>\n",
       "      <td>0</td>\n",
       "      <td>-2</td>\n",
       "      <td>0</td>\n",
       "      <td>AMETHYSTS</td>\n",
       "      <td>9996</td>\n",
       "      <td>1</td>\n",
       "      <td>9995.0</td>\n",
       "      <td>25.0</td>\n",
       "      <td>NaN</td>\n",
       "      <td>NaN</td>\n",
       "      <td>10004</td>\n",
       "      <td>1</td>\n",
       "      <td>10005.0</td>\n",
       "      <td>25.0</td>\n",
       "      <td>NaN</td>\n",
       "      <td>NaN</td>\n",
       "      <td>10000.0</td>\n",
       "      <td>0.0</td>\n",
       "    </tr>\n",
       "    <tr>\n",
       "      <th>1</th>\n",
       "      <td>1</td>\n",
       "      <td>-2</td>\n",
       "      <td>0</td>\n",
       "      <td>STARFRUIT</td>\n",
       "      <td>4997</td>\n",
       "      <td>26</td>\n",
       "      <td>NaN</td>\n",
       "      <td>NaN</td>\n",
       "      <td>NaN</td>\n",
       "      <td>NaN</td>\n",
       "      <td>5003</td>\n",
       "      <td>26</td>\n",
       "      <td>NaN</td>\n",
       "      <td>NaN</td>\n",
       "      <td>NaN</td>\n",
       "      <td>NaN</td>\n",
       "      <td>5000.0</td>\n",
       "      <td>0.0</td>\n",
       "    </tr>\n",
       "    <tr>\n",
       "      <th>2</th>\n",
       "      <td>2</td>\n",
       "      <td>-2</td>\n",
       "      <td>100</td>\n",
       "      <td>AMETHYSTS</td>\n",
       "      <td>10000</td>\n",
       "      <td>5</td>\n",
       "      <td>9995.0</td>\n",
       "      <td>20.0</td>\n",
       "      <td>NaN</td>\n",
       "      <td>NaN</td>\n",
       "      <td>10005</td>\n",
       "      <td>20</td>\n",
       "      <td>NaN</td>\n",
       "      <td>NaN</td>\n",
       "      <td>NaN</td>\n",
       "      <td>NaN</td>\n",
       "      <td>10002.5</td>\n",
       "      <td>0.0</td>\n",
       "    </tr>\n",
       "    <tr>\n",
       "      <th>3</th>\n",
       "      <td>3</td>\n",
       "      <td>-2</td>\n",
       "      <td>100</td>\n",
       "      <td>STARFRUIT</td>\n",
       "      <td>5000</td>\n",
       "      <td>5</td>\n",
       "      <td>4998.0</td>\n",
       "      <td>6.0</td>\n",
       "      <td>4997.0</td>\n",
       "      <td>20.0</td>\n",
       "      <td>5004</td>\n",
       "      <td>20</td>\n",
       "      <td>NaN</td>\n",
       "      <td>NaN</td>\n",
       "      <td>NaN</td>\n",
       "      <td>NaN</td>\n",
       "      <td>5002.0</td>\n",
       "      <td>0.0</td>\n",
       "    </tr>\n",
       "    <tr>\n",
       "      <th>4</th>\n",
       "      <td>4</td>\n",
       "      <td>-2</td>\n",
       "      <td>200</td>\n",
       "      <td>STARFRUIT</td>\n",
       "      <td>4997</td>\n",
       "      <td>1</td>\n",
       "      <td>4996.0</td>\n",
       "      <td>30.0</td>\n",
       "      <td>NaN</td>\n",
       "      <td>NaN</td>\n",
       "      <td>5003</td>\n",
       "      <td>31</td>\n",
       "      <td>NaN</td>\n",
       "      <td>NaN</td>\n",
       "      <td>NaN</td>\n",
       "      <td>NaN</td>\n",
       "      <td>5000.0</td>\n",
       "      <td>0.0</td>\n",
       "    </tr>\n",
       "    <tr>\n",
       "      <th>...</th>\n",
       "      <td>...</td>\n",
       "      <td>...</td>\n",
       "      <td>...</td>\n",
       "      <td>...</td>\n",
       "      <td>...</td>\n",
       "      <td>...</td>\n",
       "      <td>...</td>\n",
       "      <td>...</td>\n",
       "      <td>...</td>\n",
       "      <td>...</td>\n",
       "      <td>...</td>\n",
       "      <td>...</td>\n",
       "      <td>...</td>\n",
       "      <td>...</td>\n",
       "      <td>...</td>\n",
       "      <td>...</td>\n",
       "      <td>...</td>\n",
       "      <td>...</td>\n",
       "    </tr>\n",
       "    <tr>\n",
       "      <th>59995</th>\n",
       "      <td>19995</td>\n",
       "      <td>0</td>\n",
       "      <td>999700</td>\n",
       "      <td>STARFRUIT</td>\n",
       "      <td>5053</td>\n",
       "      <td>1</td>\n",
       "      <td>5048.0</td>\n",
       "      <td>26.0</td>\n",
       "      <td>NaN</td>\n",
       "      <td>NaN</td>\n",
       "      <td>5054</td>\n",
       "      <td>2</td>\n",
       "      <td>5055.0</td>\n",
       "      <td>24.0</td>\n",
       "      <td>NaN</td>\n",
       "      <td>NaN</td>\n",
       "      <td>5053.5</td>\n",
       "      <td>0.0</td>\n",
       "    </tr>\n",
       "    <tr>\n",
       "      <th>59996</th>\n",
       "      <td>19996</td>\n",
       "      <td>0</td>\n",
       "      <td>999800</td>\n",
       "      <td>STARFRUIT</td>\n",
       "      <td>5047</td>\n",
       "      <td>27</td>\n",
       "      <td>NaN</td>\n",
       "      <td>NaN</td>\n",
       "      <td>NaN</td>\n",
       "      <td>NaN</td>\n",
       "      <td>5052</td>\n",
       "      <td>1</td>\n",
       "      <td>5054.0</td>\n",
       "      <td>27.0</td>\n",
       "      <td>NaN</td>\n",
       "      <td>NaN</td>\n",
       "      <td>5049.5</td>\n",
       "      <td>0.0</td>\n",
       "    </tr>\n",
       "    <tr>\n",
       "      <th>59997</th>\n",
       "      <td>19997</td>\n",
       "      <td>0</td>\n",
       "      <td>999800</td>\n",
       "      <td>AMETHYSTS</td>\n",
       "      <td>9995</td>\n",
       "      <td>27</td>\n",
       "      <td>NaN</td>\n",
       "      <td>NaN</td>\n",
       "      <td>NaN</td>\n",
       "      <td>NaN</td>\n",
       "      <td>10005</td>\n",
       "      <td>27</td>\n",
       "      <td>NaN</td>\n",
       "      <td>NaN</td>\n",
       "      <td>NaN</td>\n",
       "      <td>NaN</td>\n",
       "      <td>10000.0</td>\n",
       "      <td>0.0</td>\n",
       "    </tr>\n",
       "    <tr>\n",
       "      <th>59998</th>\n",
       "      <td>19998</td>\n",
       "      <td>0</td>\n",
       "      <td>999900</td>\n",
       "      <td>STARFRUIT</td>\n",
       "      <td>5048</td>\n",
       "      <td>2</td>\n",
       "      <td>5047.0</td>\n",
       "      <td>21.0</td>\n",
       "      <td>NaN</td>\n",
       "      <td>NaN</td>\n",
       "      <td>5054</td>\n",
       "      <td>23</td>\n",
       "      <td>NaN</td>\n",
       "      <td>NaN</td>\n",
       "      <td>NaN</td>\n",
       "      <td>NaN</td>\n",
       "      <td>5051.0</td>\n",
       "      <td>0.0</td>\n",
       "    </tr>\n",
       "    <tr>\n",
       "      <th>59999</th>\n",
       "      <td>19999</td>\n",
       "      <td>0</td>\n",
       "      <td>999900</td>\n",
       "      <td>AMETHYSTS</td>\n",
       "      <td>9996</td>\n",
       "      <td>2</td>\n",
       "      <td>9995.0</td>\n",
       "      <td>21.0</td>\n",
       "      <td>NaN</td>\n",
       "      <td>NaN</td>\n",
       "      <td>10004</td>\n",
       "      <td>2</td>\n",
       "      <td>10005.0</td>\n",
       "      <td>21.0</td>\n",
       "      <td>NaN</td>\n",
       "      <td>NaN</td>\n",
       "      <td>10000.0</td>\n",
       "      <td>0.0</td>\n",
       "    </tr>\n",
       "  </tbody>\n",
       "</table>\n",
       "<p>60000 rows × 18 columns</p>\n",
       "</div>"
      ]
     },
     "execution_count": 12,
     "metadata": {},
     "output_type": "execute_result"
    }
   ],
   "execution_count": 12
  },
  {
   "metadata": {
    "ExecuteTime": {
     "end_time": "2024-04-10T08:07:48.324252Z",
     "start_time": "2024-04-10T08:07:48.316229Z"
    }
   },
   "cell_type": "code",
   "source": "trades",
   "id": "29f0b0b40c012bd7",
   "outputs": [
    {
     "data": {
      "text/plain": [
       "       index  day  timestamp  buyer  seller     symbol   currency    price  \\\n",
       "0          0   -2          0    NaN     NaN  AMETHYSTS  SEASHELLS   9996.0   \n",
       "1          1   -2          0    NaN     NaN  STARFRUIT  SEASHELLS   5003.0   \n",
       "2          2   -2          0    NaN     NaN  AMETHYSTS  SEASHELLS   9996.0   \n",
       "3          3   -2        100    NaN     NaN  STARFRUIT  SEASHELLS   5004.0   \n",
       "4          4   -2        900    NaN     NaN  STARFRUIT  SEASHELLS   5001.0   \n",
       "...      ...  ...        ...    ...     ...        ...        ...      ...   \n",
       "16145   5312    0     998800    NaN     NaN  STARFRUIT  SEASHELLS   5050.0   \n",
       "16146   5313    0     998800    NaN     NaN  AMETHYSTS  SEASHELLS  10002.0   \n",
       "16147   5314    0     999500    NaN     NaN  AMETHYSTS  SEASHELLS   9995.0   \n",
       "16148   5315    0     999500    NaN     NaN  STARFRUIT  SEASHELLS   5049.0   \n",
       "16149   5316    0     999600    NaN     NaN  STARFRUIT  SEASHELLS   5048.0   \n",
       "\n",
       "       quantity  \n",
       "0             1  \n",
       "1             1  \n",
       "2             1  \n",
       "3             6  \n",
       "4             2  \n",
       "...         ...  \n",
       "16145         1  \n",
       "16146         1  \n",
       "16147         2  \n",
       "16148         2  \n",
       "16149         1  \n",
       "\n",
       "[16150 rows x 9 columns]"
      ],
      "text/html": [
       "<div>\n",
       "<style scoped>\n",
       "    .dataframe tbody tr th:only-of-type {\n",
       "        vertical-align: middle;\n",
       "    }\n",
       "\n",
       "    .dataframe tbody tr th {\n",
       "        vertical-align: top;\n",
       "    }\n",
       "\n",
       "    .dataframe thead th {\n",
       "        text-align: right;\n",
       "    }\n",
       "</style>\n",
       "<table border=\"1\" class=\"dataframe\">\n",
       "  <thead>\n",
       "    <tr style=\"text-align: right;\">\n",
       "      <th></th>\n",
       "      <th>index</th>\n",
       "      <th>day</th>\n",
       "      <th>timestamp</th>\n",
       "      <th>buyer</th>\n",
       "      <th>seller</th>\n",
       "      <th>symbol</th>\n",
       "      <th>currency</th>\n",
       "      <th>price</th>\n",
       "      <th>quantity</th>\n",
       "    </tr>\n",
       "  </thead>\n",
       "  <tbody>\n",
       "    <tr>\n",
       "      <th>0</th>\n",
       "      <td>0</td>\n",
       "      <td>-2</td>\n",
       "      <td>0</td>\n",
       "      <td>NaN</td>\n",
       "      <td>NaN</td>\n",
       "      <td>AMETHYSTS</td>\n",
       "      <td>SEASHELLS</td>\n",
       "      <td>9996.0</td>\n",
       "      <td>1</td>\n",
       "    </tr>\n",
       "    <tr>\n",
       "      <th>1</th>\n",
       "      <td>1</td>\n",
       "      <td>-2</td>\n",
       "      <td>0</td>\n",
       "      <td>NaN</td>\n",
       "      <td>NaN</td>\n",
       "      <td>STARFRUIT</td>\n",
       "      <td>SEASHELLS</td>\n",
       "      <td>5003.0</td>\n",
       "      <td>1</td>\n",
       "    </tr>\n",
       "    <tr>\n",
       "      <th>2</th>\n",
       "      <td>2</td>\n",
       "      <td>-2</td>\n",
       "      <td>0</td>\n",
       "      <td>NaN</td>\n",
       "      <td>NaN</td>\n",
       "      <td>AMETHYSTS</td>\n",
       "      <td>SEASHELLS</td>\n",
       "      <td>9996.0</td>\n",
       "      <td>1</td>\n",
       "    </tr>\n",
       "    <tr>\n",
       "      <th>3</th>\n",
       "      <td>3</td>\n",
       "      <td>-2</td>\n",
       "      <td>100</td>\n",
       "      <td>NaN</td>\n",
       "      <td>NaN</td>\n",
       "      <td>STARFRUIT</td>\n",
       "      <td>SEASHELLS</td>\n",
       "      <td>5004.0</td>\n",
       "      <td>6</td>\n",
       "    </tr>\n",
       "    <tr>\n",
       "      <th>4</th>\n",
       "      <td>4</td>\n",
       "      <td>-2</td>\n",
       "      <td>900</td>\n",
       "      <td>NaN</td>\n",
       "      <td>NaN</td>\n",
       "      <td>STARFRUIT</td>\n",
       "      <td>SEASHELLS</td>\n",
       "      <td>5001.0</td>\n",
       "      <td>2</td>\n",
       "    </tr>\n",
       "    <tr>\n",
       "      <th>...</th>\n",
       "      <td>...</td>\n",
       "      <td>...</td>\n",
       "      <td>...</td>\n",
       "      <td>...</td>\n",
       "      <td>...</td>\n",
       "      <td>...</td>\n",
       "      <td>...</td>\n",
       "      <td>...</td>\n",
       "      <td>...</td>\n",
       "    </tr>\n",
       "    <tr>\n",
       "      <th>16145</th>\n",
       "      <td>5312</td>\n",
       "      <td>0</td>\n",
       "      <td>998800</td>\n",
       "      <td>NaN</td>\n",
       "      <td>NaN</td>\n",
       "      <td>STARFRUIT</td>\n",
       "      <td>SEASHELLS</td>\n",
       "      <td>5050.0</td>\n",
       "      <td>1</td>\n",
       "    </tr>\n",
       "    <tr>\n",
       "      <th>16146</th>\n",
       "      <td>5313</td>\n",
       "      <td>0</td>\n",
       "      <td>998800</td>\n",
       "      <td>NaN</td>\n",
       "      <td>NaN</td>\n",
       "      <td>AMETHYSTS</td>\n",
       "      <td>SEASHELLS</td>\n",
       "      <td>10002.0</td>\n",
       "      <td>1</td>\n",
       "    </tr>\n",
       "    <tr>\n",
       "      <th>16147</th>\n",
       "      <td>5314</td>\n",
       "      <td>0</td>\n",
       "      <td>999500</td>\n",
       "      <td>NaN</td>\n",
       "      <td>NaN</td>\n",
       "      <td>AMETHYSTS</td>\n",
       "      <td>SEASHELLS</td>\n",
       "      <td>9995.0</td>\n",
       "      <td>2</td>\n",
       "    </tr>\n",
       "    <tr>\n",
       "      <th>16148</th>\n",
       "      <td>5315</td>\n",
       "      <td>0</td>\n",
       "      <td>999500</td>\n",
       "      <td>NaN</td>\n",
       "      <td>NaN</td>\n",
       "      <td>STARFRUIT</td>\n",
       "      <td>SEASHELLS</td>\n",
       "      <td>5049.0</td>\n",
       "      <td>2</td>\n",
       "    </tr>\n",
       "    <tr>\n",
       "      <th>16149</th>\n",
       "      <td>5316</td>\n",
       "      <td>0</td>\n",
       "      <td>999600</td>\n",
       "      <td>NaN</td>\n",
       "      <td>NaN</td>\n",
       "      <td>STARFRUIT</td>\n",
       "      <td>SEASHELLS</td>\n",
       "      <td>5048.0</td>\n",
       "      <td>1</td>\n",
       "    </tr>\n",
       "  </tbody>\n",
       "</table>\n",
       "<p>16150 rows × 9 columns</p>\n",
       "</div>"
      ]
     },
     "execution_count": 13,
     "metadata": {},
     "output_type": "execute_result"
    }
   ],
   "execution_count": 13
  },
  {
   "metadata": {
    "ExecuteTime": {
     "end_time": "2024-04-10T08:07:48.405503Z",
     "start_time": "2024-04-10T08:07:48.324252Z"
    }
   },
   "cell_type": "code",
   "source": "trades[trades['symbol']=='AMETHYSTS']['quantity'].plot(kind = 'hist')",
   "id": "8e93b21d511f6af7",
   "outputs": [
    {
     "data": {
      "text/plain": [
       "<Axes: ylabel='Frequency'>"
      ]
     },
     "execution_count": 14,
     "metadata": {},
     "output_type": "execute_result"
    },
    {
     "data": {
      "text/plain": [
       "<Figure size 640x480 with 1 Axes>"
      ],
      "image/png": "[encoded data removed]"
     },
     "metadata": {},
     "output_type": "display_data"
    }
   ],
   "execution_count": 14
  },
  {
   "metadata": {
    "ExecuteTime": {
     "end_time": "2024-04-10T08:07:48.511224Z",
     "start_time": "2024-04-10T08:07:48.405503Z"
    }
   },
   "cell_type": "code",
   "source": "plt.plot(prices[prices['product']=='STARFRUIT']['mid_price'])",
   "id": "da2d88ecd48517c5",
   "outputs": [
    {
     "data": {
      "text/plain": [
       "[<matplotlib.lines.Line2D at 0x1648a479fa0>]"
      ]
     },
     "execution_count": 15,
     "metadata": {},
     "output_type": "execute_result"
    },
    {
     "data": {
      "text/plain": [
       "<Figure size 640x480 with 1 Axes>"
      ],
      "image/png": "[encoded data removed]"
     },
     "metadata": {},
     "output_type": "display_data"
    }
   ],
   "execution_count": 15
  },
  {
   "metadata": {
    "ExecuteTime": {
     "end_time": "2024-04-10T11:46:54.689019Z",
     "start_time": "2024-04-10T11:46:54.686092Z"
    }
   },
   "cell_type": "code",
   "source": [
    "from statsmodels.tsa.seasonal import seasonal_decompose\n",
    "from sklearn.metrics import accuracy_score\n",
    "from joblib import Parallel,delayed"
   ],
   "id": "ef6c3425e41c851d",
   "outputs": [],
   "execution_count": 300
  },
  {
   "metadata": {
    "ExecuteTime": {
     "end_time": "2024-04-10T11:55:11.797711Z",
     "start_time": "2024-04-10T11:55:11.780340Z"
    }
   },
   "cell_type": "code",
   "source": [
    "periods = np.linspace(1,100,100)\n",
    "def period_search(period):\n",
    "    mid_price = prices[prices['product']=='STARFRUIT']['mid_price'].reset_index(drop=True)\n",
    "    prediction_target = np.sign(mid_price.diff()).shift(-1).dropna()\n",
    "    prediction_target[prediction_target==0] = np.nan\n",
    "    prediction_target.bfill(inplace=True)\n",
    "    result = seasonal_decompose(mid_price,model='m',two_sided=False,period=int(period))\n",
    "    y_pred = ((result.trend*result.seasonal.shift(-1))-result.trend).dropna()\n",
    "    return accuracy_score(prediction_target.iloc[y_pred.index],np.sign(y_pred))"
   ],
   "id": "47fe4628b0d82c73",
   "outputs": [],
   "execution_count": 333
  },
  {
   "metadata": {
    "ExecuteTime": {
     "end_time": "2024-04-10T11:55:13.039402Z",
     "start_time": "2024-04-10T11:55:12.371440Z"
    }
   },
   "cell_type": "code",
   "source": "search_res = Parallel(n_jobs=4)(delayed(period_search)(period) for period in periods)",
   "id": "3ceae11624c3d8d1",
   "outputs": [],
   "execution_count": 334
  },
  {
   "metadata": {
    "ExecuteTime": {
     "end_time": "2024-04-10T11:55:13.185920Z",
     "start_time": "2024-04-10T11:55:13.100196Z"
    }
   },
   "cell_type": "code",
   "source": [
    "plt.plot(periods,search_res)\n",
    "plt.xlim([1,100])\n",
    "plt.ylim([0.49,0.55])"
   ],
   "id": "cca4f92bc7af0e4c",
   "outputs": [
    {
     "data": {
      "text/plain": [
       "(0.49, 0.55)"
      ]
     },
     "execution_count": 335,
     "metadata": {},
     "output_type": "execute_result"
    },
    {
     "data": {
      "text/plain": [
       "<Figure size 640x480 with 1 Axes>"
      ],
      "image/png": "[encoded data removed]"
     },
     "metadata": {},
     "output_type": "display_data"
    }
   ],
   "execution_count": 335
  },
  {
   "metadata": {
    "ExecuteTime": {
     "end_time": "2024-04-10T11:55:31.620495Z",
     "start_time": "2024-04-10T11:55:31.607228Z"
    }
   },
   "cell_type": "code",
   "source": "period = periods[np.argmax(search_res)]",
   "id": "d90850d763c195e1",
   "outputs": [],
   "execution_count": 336
  },
  {
   "metadata": {
    "ExecuteTime": {
     "end_time": "2024-04-10T11:55:34.309889Z",
     "start_time": "2024-04-10T11:55:34.293569Z"
    }
   },
   "cell_type": "code",
   "source": "period",
   "id": "a341de63d506f89b",
   "outputs": [
    {
     "data": {
      "text/plain": [
       "42.0"
      ]
     },
     "execution_count": 337,
     "metadata": {},
     "output_type": "execute_result"
    }
   ],
   "execution_count": 337
  },
  {
   "metadata": {},
   "cell_type": "code",
   "outputs": [],
   "execution_count": null,
   "source": "",
   "id": "d44698d25461ea96"
  },
  {
   "metadata": {
    "ExecuteTime": {
     "end_time": "2024-04-10T11:51:01.564034Z",
     "start_time": "2024-04-10T11:51:01.541643Z"
    }
   },
   "cell_type": "code",
   "source": "results",
   "id": "e0be3db8bca7ebbd",
   "outputs": [
    {
     "data": {
      "text/plain": [
       "[0.0,\n",
       " 0.4991832516584992,\n",
       " 0.5081174784145082,\n",
       " 0.49918319719953325,\n",
       " 0.5031838639773295,\n",
       " 0.5039842629946988,\n",
       " 0.5040509452205515,\n",
       " 0.5039845286919409,\n",
       " 0.5065186222533427,\n",
       " 0.5053519623862083,\n",
       " 0.5019507152622629,\n",
       " 0.508553706606196,\n",
       " 0.5033848000800347,\n",
       " 0.5071535767883942,\n",
       " 0.5073870268467567,\n",
       " 0.5060200780442251,\n",
       " 0.5077877463896208,\n",
       " 0.5013842099996665,\n",
       " 0.5053533904806378,\n",
       " 0.5019513659561693,\n",
       " 0.5072884352379999,\n",
       " 0.5057210528071522,\n",
       " 0.5071554858725023,\n",
       " 0.5074562135112594,\n",
       " 0.505487906588824,\n",
       " 0.5057551796616955,\n",
       " 0.508324158409235,\n",
       " 0.5028861232524774,\n",
       " 0.5060558539921924,\n",
       " 0.5080249591244286,\n",
       " 0.5058560512529614,\n",
       " 0.5068575432976274,\n",
       " 0.5058230720459171,\n",
       " 0.5055898548306358,\n",
       " 0.5085266143834474,\n",
       " 0.5030871408069953,\n",
       " 0.5042218736441612,\n",
       " 0.5082941156837222,\n",
       " 0.5041554020226294,\n",
       " 0.5037551320137521,\n",
       " 0.5073934376981876,\n",
       " 0.5137697366224923,\n",
       " 0.5074273124812231,\n",
       " 0.5104656985478218,\n",
       " 0.5081288599566016,\n",
       " 0.5095315995058926,\n",
       " 0.5031883283811305,\n",
       " 0.5054589162298421,\n",
       " 0.5077960669092851,\n",
       " 0.506561153961735,\n",
       " 0.5066947143477245,\n",
       " 0.508665308712058,\n",
       " 0.5051257221090594,\n",
       " 0.5091334112539656,\n",
       " 0.5076640507597262,\n",
       " 0.5028554253080854,\n",
       " 0.5065290719032829,\n",
       " 0.5067967001770148,\n",
       " 0.5055609365084667,\n",
       " 0.5039246467817896,\n",
       " 0.5112061191088547,\n",
       " 0.5086682032267762,\n",
       " 0.5040919263787287,\n",
       " 0.5051611825622181,\n",
       " 0.5074661767162185,\n",
       " 0.5059967260214479,\n",
       " 0.5061303577990847,\n",
       " 0.5035915939995322,\n",
       " 0.5039591059436704,\n",
       " 0.5097063049216479,\n",
       " 0.5079354472250994,\n",
       " 0.5096067096601731,\n",
       " 0.5031910983392923,\n",
       " 0.5069005847953216,\n",
       " 0.506265664160401,\n",
       " 0.5112121110851184,\n",
       " 0.5099087658323029,\n",
       " 0.5107449617325625,\n",
       " 0.5067678219310852,\n",
       " 0.5088071125371837,\n",
       " 0.5105785621177178,\n",
       " 0.5059665073369656,\n",
       " 0.5055319717886152,\n",
       " 0.5113822497075046,\n",
       " 0.5081397292328264,\n",
       " 0.5052652692809146,\n",
       " 0.5070705044629426,\n",
       " 0.5082745478252148,\n",
       " 0.5136237504596971,\n",
       " 0.5080744926276372,\n",
       " 0.5070045805610351,\n",
       " 0.510749991640753,\n",
       " 0.5062694352492727,\n",
       " 0.5093797023909046,\n",
       " 0.5076408627319846,\n",
       " 0.5077751396180985,\n",
       " 0.5075076079323145,\n",
       " 0.5110196983378482,\n",
       " 0.5092137386709474,\n",
       " 0.507274490785645,\n",
       " 0.5091809090605037,\n",
       " 0.5068401511857377,\n",
       " 0.5055022243034418,\n",
       " 0.5081786251881586,\n",
       " 0.5103529018230474,\n",
       " 0.5065065399926404,\n",
       " 0.5087478673937043,\n",
       " 0.5090830015723796,\n",
       " 0.5065404302298351,\n",
       " 0.5082137241125497,\n",
       " 0.5070427247482351,\n",
       " 0.505771740221501,\n",
       " 0.5029611536788571,\n",
       " 0.5118621381964196,\n",
       " 0.5131002175004182,\n",
       " 0.506876819596426,\n",
       " 0.5070106749656995,\n",
       " 0.5085171179010073,\n",
       " 0.5086844483116362,\n",
       " 0.5066099936410188,\n",
       " 0.5085176880083001,\n",
       " 0.5127020785219399,\n",
       " 0.5104595508250493,\n",
       " 0.510928870292887,\n",
       " 0.5097573221757322,\n",
       " 0.5038663676229371,\n",
       " 0.5024938908044053,\n",
       " 0.5062100364902413,\n",
       " 0.49703726021894146,\n",
       " 0.5122367672168469,\n",
       " 0.5083531420536342,\n",
       " 0.5103291257910068,\n",
       " 0.5117353600964275,\n",
       " 0.5032981751213795,\n",
       " 0.5086556169429097,\n",
       " 0.5070823426983223,\n",
       " 0.5127080333523089,\n",
       " 0.5044372258129333,\n",
       " 0.5057767656809886,\n",
       " 0.5100974580528483,\n",
       " 0.5064469674135101,\n",
       " 0.5115718257025154,\n",
       " 0.5053756238068124,\n",
       " 0.5083570591190756,\n",
       " 0.5089264779768883,\n",
       " 0.5067497403946002,\n",
       " 0.5067497403946002,\n",
       " 0.5067501926233627,\n",
       " 0.5025292285015578,\n",
       " 0.5098998291400046,\n",
       " 0.5057120841569231,\n",
       " 0.5120782658223607,\n",
       " 0.5104700639930311,\n",
       " 0.5161668621209583,\n",
       " 0.5064164851733959,\n",
       " 0.5057132325838555,\n",
       " 0.5077907717052575,\n",
       " 0.5087966220971147,\n",
       " 0.5113434536376127,\n",
       " 0.5078588424545059,\n",
       " 0.5112436743858708,\n",
       " 0.5108757582866911,\n",
       " 0.506954452525388,\n",
       " 0.5074241662476957,\n",
       " 0.5138930785989609,\n",
       " 0.5030335534475245,\n",
       " 0.5082961820802467,\n",
       " 0.510877945761121,\n",
       " 0.5016928698333948,\n",
       " 0.5072245130577626,\n",
       " 0.5162090582989708,\n",
       " 0.5104100311798035,\n",
       " 0.504241123813994,\n",
       " 0.5074601844090528,\n",
       " 0.5069572506286673,\n",
       " 0.5112161754350669,\n",
       " 0.5096737417429501,\n",
       " 0.5090707890412797,\n",
       " 0.5126588645585326,\n",
       " 0.5107146450249841,\n",
       " 0.5131292129179382,\n",
       " 0.5120904182177952,\n",
       " 0.5086360130127109,\n",
       " 0.5085695119906087,\n",
       " 0.5125943317122253,\n",
       " 0.509308019991279,\n",
       " 0.5137020762754503,\n",
       " 0.5110529670255946,\n",
       " 0.5087719298245614,\n",
       " 0.5089402529437418,\n",
       " 0.5073970948371297,\n",
       " 0.5032374945482605,\n",
       " 0.5065924111785822,\n",
       " 0.5108874349941285,\n",
       " 0.5093776212044959,\n",
       " 0.5027010703620441,\n",
       " 0.5133711371338456,\n",
       " 0.5042448239991947,\n",
       " 0.5095466595080702,\n",
       " 0.5120306050538609,\n",
       " 0.511560790630558,\n",
       " 0.5103198308554553,\n",
       " 0.5164949491559553,\n",
       " 0.5124685349890922,\n",
       " 0.5024332941768753,\n",
       " 0.5086429698251267,\n",
       " 0.510723995569429,\n",
       " 0.512805880970763,\n",
       " 0.5098184015306636,\n",
       " 0.5105911578099298,\n",
       " 0.5088455470139984,\n",
       " 0.5124718837076577,\n",
       " 0.5138818947863162,\n",
       " 0.5043478260869565,\n",
       " 0.5017626321974148,\n",
       " 0.5035087130242084,\n",
       " 0.5124399825403754,\n",
       " 0.5095530707498069,\n",
       " 0.5050871360934824,\n",
       " 0.5096208737701065,\n",
       " 0.5111991671983612,\n",
       " 0.5116700809349498,\n",
       " 0.5079087886623904,\n",
       " 0.5104282115869018,\n",
       " 0.5015617128463477,\n",
       " 0.503946528734088,\n",
       " 0.5090854129580492,\n",
       " 0.5114037150246885,\n",
       " 0.5071714084175876,\n",
       " 0.5137895125802009,\n",
       " 0.5120427290134032,\n",
       " 0.5078442570631908,\n",
       " 0.5093224040044344,\n",
       " 0.5089198723332773,\n",
       " 0.5045859230640013,\n",
       " 0.510029230924302,\n",
       " 0.5063669656956624,\n",
       " 0.5083162528140855,\n",
       " 0.5095930916299856,\n",
       " 0.5106354380187507,\n",
       " 0.5027050640142477,\n",
       " 0.5031421178210169,\n",
       " 0.5013610242968041,\n",
       " 0.5065703243152412,\n",
       " 0.5162493698538061,\n",
       " 0.51100729338218,\n",
       " 0.5055288542331866,\n",
       " 0.5128903230143524,\n",
       " 0.5044872441262479,\n",
       " 0.5147399912602104,\n",
       " 0.5142693872062927,\n",
       " 0.5081184657276364,\n",
       " 0.5097320738225704,\n",
       " 0.5084552025550513,\n",
       " 0.5090603462766852,\n",
       " 0.5083212856806644,\n",
       " 0.5200215176680227,\n",
       " 0.5069432769577351,\n",
       " 0.5107427457045829,\n",
       " 0.5164262416355627,\n",
       " 0.5109452234439624,\n",
       " 0.5095672058378451,\n",
       " 0.512896391700575,\n",
       " 0.5116529342525643,\n",
       " 0.5105431309904154,\n",
       " 0.513032657316786,\n",
       " 0.5167322503615511,\n",
       " 0.5070465171033601,\n",
       " 0.5032794053344993,\n",
       " 0.5049278482290019,\n",
       " 0.5069797167748663,\n",
       " 0.5107478050257341,\n",
       " 0.5101086554310896,\n",
       " 0.5013961312026913,\n",
       " 0.5060386879730866,\n",
       " 0.5048279110453184,\n",
       " 0.5137772095683477,\n",
       " 0.5092358938124558,\n",
       " 0.5084956764577235,\n",
       " 0.5053332884686564,\n",
       " 0.5086308422221475,\n",
       " 0.508496820002019,\n",
       " 0.5124676111316755,\n",
       " 0.5060743732121824,\n",
       " 0.5068820461046609,\n",
       " 0.5110894221384579,\n",
       " 0.5093730017164204,\n",
       " 0.503752818821312,\n",
       " 0.5123691562047726,\n",
       " 0.5132451445689858,\n",
       " 0.5057390016493318,\n",
       " 0.5040226209310937,\n",
       " 0.5059413606220756,\n",
       " 0.5069853560006733,\n",
       " 0.5083319306514055,\n",
       " 0.507053159613507,\n",
       " 0.5108238225095109,\n",
       " 0.5112285781623515,\n",
       " 0.5101511733611663,\n",
       " 0.5106905956429509,\n",
       " 0.5085019697632917,\n",
       " 0.5026096912146008,\n",
       " 0.505168872276661,\n",
       " 0.5089072234382893,\n",
       " 0.5131840377167873,\n",
       " 0.5108948236958205,\n",
       " 0.5135890613949415,\n",
       " 0.5154087097100132,\n",
       " 0.5106597958977468,\n",
       " 0.5145340024925057,\n",
       " 0.5069217555323521,\n",
       " 0.5043958635092801,\n",
       " 0.508438036851147,\n",
       " 0.5124473639885464,\n",
       " 0.5145022738756948,\n",
       " 0.5186807263416771,\n",
       " 0.5127177172118721,\n",
       " 0.5131902563929787,\n",
       " 0.511808901317341,\n",
       " 0.5140334916944641,\n",
       " 0.5161898985814886,\n",
       " 0.5147420561377498,\n",
       " 0.5064865047006099,\n",
       " 0.5090143218197135,\n",
       " 0.5027127211457456,\n",
       " 0.5030836113638661,\n",
       " 0.4995787416169582,\n",
       " 0.5022412456607462,\n",
       " 0.5064541134441036,\n",
       " 0.5147460312110284,\n",
       " 0.5082409248710775,\n",
       " 0.5087470927292952,\n",
       " 0.5121515488590016,\n",
       " 0.5124220461823698,\n",
       " 0.5096241361874263,\n",
       " 0.5071638067626336,\n",
       " 0.5038600276438661,\n",
       " 0.5038940022251441,\n",
       " 0.5071642898081656,\n",
       " 0.5074345055463771,\n",
       " 0.5128291580970363,\n",
       " 0.5108406109856021,\n",
       " 0.5122568027784334,\n",
       " 0.5156634631596695,\n",
       " 0.515798347664812,\n",
       " 0.5079081374565811,\n",
       " 0.5054126058071696,\n",
       " 0.50956122896361,\n",
       " 0.50956122896361,\n",
       " 0.5122938379034706,\n",
       " 0.5125973894566427,\n",
       " 0.5167133268121564,\n",
       " 0.5118224440921509,\n",
       " 0.5122617642098162,\n",
       " 0.5108112666554225,\n",
       " 0.5053806969604966,\n",
       " 0.5083830921296765,\n",
       " 0.5113862555244425,\n",
       " 0.5075739684895921,\n",
       " 0.5125004217416242,\n",
       " 0.5148959141671446,\n",
       " 0.514424536896447,\n",
       " 0.5144582785032223,\n",
       " 0.5148641808672179,\n",
       " 0.5074742702885102,\n",
       " 0.5126716835959909,\n",
       " 0.510106975331556,\n",
       " 0.5078802605379501,\n",
       " 0.5063615807768891,\n",
       " 0.5030544399068481,\n",
       " 0.503189442775659,\n",
       " 0.5082863604144868,\n",
       " 0.5113578830121174,\n",
       " 0.5154767932489451,\n",
       " 0.5136877637130801,\n",
       " 0.5091651757080646,\n",
       " 0.5108530533706916,\n",
       " 0.5075453225752,\n",
       " 0.5119678606394112,\n",
       " 0.5080185016374624,\n",
       " 0.5080522637496202,\n",
       " 0.5043049599891954,\n",
       " 0.5034608501873924,\n",
       " 0.5030558838426473,\n",
       " 0.5054533175755529,\n",
       " 0.5001519602877115,\n",
       " 0.5014014115422281,\n",
       " 0.5082908378643072,\n",
       " 0.5073114720880754,\n",
       " 0.5071430983822487,\n",
       " 0.5068391367489614,\n",
       " 0.5049481541527342,\n",
       " 0.5118721923869355,\n",
       " 0.512616112143219,\n",
       " 0.5072453977368687,\n",
       " 0.5109279464919096,\n",
       " 0.5102185589298381,\n",
       " 0.5062328975372453,\n",
       " 0.5052194182628965,\n",
       " 0.505354910638873,\n",
       " 0.5085982634548465,\n",
       " 0.5062675271142345,\n",
       " 0.5135317768692773,\n",
       " 0.5097482682885622,\n",
       " 0.5100523737117756,\n",
       " 0.5100192613117968,\n",
       " 0.5103233872875342,\n",
       " 0.5083978236626001,\n",
       " 0.5053225642931972,\n",
       " 0.5054919057757951,\n",
       " 0.508195613234648,\n",
       " 0.5075877919356474,\n",
       " 0.5084665562578159,\n",
       " 0.5089065404765929,\n",
       " 0.5040054081460199,\n",
       " 0.5063042963864381,\n",
       " 0.5101578609336443,\n",
       " 0.5080288022717284,\n",
       " 0.5093810216017038,\n",
       " 0.5125257784238818,\n",
       " 0.5163122485547179,\n",
       " 0.5092132400175813,\n",
       " 0.5068127261047436,\n",
       " 0.5081656804733727,\n",
       " 0.5083009298393913,\n",
       " 0.5082000473404795,\n",
       " 0.5085381936225611,\n",
       " 0.5112441243109803,\n",
       " 0.5077609820432181,\n",
       " 0.5115830768710474,\n",
       " 0.5073218573506036,\n",
       " 0.5088443196807252,\n",
       " 0.5059018500355126,\n",
       " 0.5121258244545915,\n",
       " 0.508540503974294,\n",
       " 0.5088116902885363,\n",
       " 0.509386733416771,\n",
       " 0.5095565102669057,\n",
       " 0.5112140996583336,\n",
       " 0.5133123583341791,\n",
       " 0.517541188808823,\n",
       " 0.5177453733464153,\n",
       " 0.5162567242954291,\n",
       " 0.5154119438335307,\n",
       " 0.515141262053798,\n",
       " 0.5095590972151728,\n",
       " 0.507224308868812,\n",
       " 0.507969273459443,\n",
       " 0.5052620892693986,\n",
       " 0.506277708213476,\n",
       " 0.5074621814613016,\n",
       " 0.5087487731410972,\n",
       " 0.5044505364334788,\n",
       " 0.5059400913860214,\n",
       " 0.5087493653748519,\n",
       " 0.5050604204041567,\n",
       " 0.5023186541651152,\n",
       " 0.5030635388104668,\n",
       " 0.5022172573711113,\n",
       " 0.5038762314228646,\n",
       " 0.5106469413317987,\n",
       " 0.5118664725598402,\n",
       " 0.5080746182753835,\n",
       " 0.5092940578974099,\n",
       " 0.5120365667851702,\n",
       " 0.514339890969424,\n",
       " 0.5114617546473437,\n",
       " 0.5157292336866344,\n",
       " 0.5149503911144221,\n",
       " 0.5146466185783467,\n",
       " 0.51237766263673,\n",
       " 0.5092288413993972,\n",
       " 0.5102109933281403,\n",
       " 0.5080101608806097,\n",
       " 0.5082472480948349,\n",
       " 0.5075026250719777,\n",
       " 0.5154286488500491,\n",
       " 0.5107211815317909,\n",
       " 0.5120761491819383,\n",
       " 0.5134997798028389,\n",
       " 0.5144144449337714,\n",
       " 0.51265372497205,\n",
       " 0.5118745129925127,\n",
       " 0.5054040318482128,\n",
       " 0.5042520752159919,\n",
       " 0.5081489513095924,\n",
       " 0.5099786534747399,\n",
       " 0.5112330995222121,\n",
       " 0.5125885263122225,\n",
       " 0.5158087363177336,\n",
       " 0.5120810600155885,\n",
       " 0.5153692344189514,\n",
       " 0.5146914291524045,\n",
       " 0.5156075241484495,\n",
       " 0.515946449754279,\n",
       " 0.5196759651560858,\n",
       " 0.5099142460088805,\n",
       " 0.5054065963865632,\n",
       " 0.5065252025355073,\n",
       " 0.5095426963625885]"
      ]
     },
     "execution_count": 321,
     "metadata": {},
     "output_type": "execute_result"
    }
   ],
   "execution_count": 321
  },
  {
   "metadata": {
    "ExecuteTime": {
     "end_time": "2024-04-10T11:47:13.835495Z",
     "start_time": "2024-04-10T11:47:13.826423Z"
    }
   },
   "cell_type": "code",
   "source": "",
   "id": "558e23172baf3c22",
   "outputs": [
    {
     "data": {
      "text/plain": [
       "[0.507274490785645]"
      ]
     },
     "execution_count": 304,
     "metadata": {},
     "output_type": "execute_result"
    }
   ],
   "execution_count": 304
  },
  {
   "metadata": {
    "ExecuteTime": {
     "end_time": "2024-04-10T11:37:55.813528Z",
     "start_time": "2024-04-10T11:37:55.805576Z"
    }
   },
   "cell_type": "code",
   "source": "(np.sign(y_pred))",
   "id": "848ce74204b9ccc0",
   "outputs": [
    {
     "data": {
      "text/plain": [
       "100      1.0\n",
       "101      1.0\n",
       "102      1.0\n",
       "103     -1.0\n",
       "104      1.0\n",
       "        ... \n",
       "29994    1.0\n",
       "29995   -1.0\n",
       "29996   -1.0\n",
       "29997   -1.0\n",
       "29998    1.0\n",
       "Length: 29899, dtype: float64"
      ]
     },
     "execution_count": 290,
     "metadata": {},
     "output_type": "execute_result"
    }
   ],
   "execution_count": 290
  },
  {
   "metadata": {
    "ExecuteTime": {
     "end_time": "2024-04-10T11:36:42.539882Z",
     "start_time": "2024-04-10T11:36:42.525590Z"
    }
   },
   "cell_type": "code",
   "source": "",
   "id": "44c13aa84de8c9f",
   "outputs": [
    {
     "data": {
      "text/plain": [
       "-0.0040241666275440124"
      ]
     },
     "execution_count": 288,
     "metadata": {},
     "output_type": "execute_result"
    }
   ],
   "execution_count": 288
  },
  {
   "metadata": {},
   "cell_type": "code",
   "outputs": [],
   "execution_count": null,
   "source": "",
   "id": "13b0a23be2fae907"
  },
  {
   "metadata": {
    "ExecuteTime": {
     "end_time": "2024-04-10T10:28:04.749092Z",
     "start_time": "2024-04-10T10:28:04.741148Z"
    }
   },
   "cell_type": "code",
   "source": [
    "from sklearn.metrics import r2_score,mean_absolute_error\n",
    "r2_score(mid_price.iloc[y_pred.index+1],np.round(y_pred))"
   ],
   "id": "ae0a3d6ca9007f6f",
   "outputs": [
    {
     "data": {
      "text/plain": [
       "0.9971069888761782"
      ]
     },
     "execution_count": 237,
     "metadata": {},
     "output_type": "execute_result"
    }
   ],
   "execution_count": 237
  },
  {
   "metadata": {
    "ExecuteTime": {
     "end_time": "2024-04-10T10:28:05.686595Z",
     "start_time": "2024-04-10T10:28:05.670041Z"
    }
   },
   "cell_type": "code",
   "source": "mean_absolute_error(mid_price.iloc[y_pred.index+1],np.round(y_pred))",
   "id": "275c76d52031707e",
   "outputs": [
    {
     "data": {
      "text/plain": [
       "1.2898763292109736"
      ]
     },
     "execution_count": 238,
     "metadata": {},
     "output_type": "execute_result"
    }
   ],
   "execution_count": 238
  },
  {
   "metadata": {
    "ExecuteTime": {
     "end_time": "2024-04-10T10:28:07.442678Z",
     "start_time": "2024-04-10T10:28:06.574011Z"
    }
   },
   "cell_type": "code",
   "source": "plt.plot(mid_price.iloc[y_pred.index+1]-np.round(y_pred))",
   "id": "797b9ff053e4a5cf",
   "outputs": [
    {
     "data": {
      "text/plain": [
       "[<matplotlib.lines.Line2D at 0x1651e281340>]"
      ]
     },
     "execution_count": 239,
     "metadata": {},
     "output_type": "execute_result"
    },
    {
     "data": {
      "text/plain": [
       "<Figure size 640x480 with 1 Axes>"
      ],
      "image/png": "[encoded data removed]"
     },
     "metadata": {},
     "output_type": "display_data"
    }
   ],
   "execution_count": 239
  },
  {
   "metadata": {
    "ExecuteTime": {
     "end_time": "2024-04-10T10:28:08.197543Z",
     "start_time": "2024-04-10T10:28:08.189304Z"
    }
   },
   "cell_type": "code",
   "source": "mid_price.iloc[y_pred.index+1]-np.round(y_pred)",
   "id": "a8a231231657f3b2",
   "outputs": [
    {
     "data": {
      "text/plain": [
       "0        NaN\n",
       "1        0.0\n",
       "2        0.0\n",
       "3       -0.5\n",
       "4        0.5\n",
       "        ... \n",
       "29995    0.5\n",
       "29996    0.0\n",
       "29997   -0.5\n",
       "29998   -0.5\n",
       "29999    NaN\n",
       "Length: 30000, dtype: float64"
      ]
     },
     "execution_count": 240,
     "metadata": {},
     "output_type": "execute_result"
    }
   ],
   "execution_count": 240
  },
  {
   "metadata": {
    "ExecuteTime": {
     "end_time": "2024-04-10T10:28:18.641029Z",
     "start_time": "2024-04-10T10:28:18.622820Z"
    }
   },
   "cell_type": "code",
   "source": "result.trend",
   "id": "3a169fdf2dfb2e84",
   "outputs": [
    {
     "data": {
      "text/plain": [
       "0        5000.0\n",
       "1        5002.0\n",
       "2        5000.0\n",
       "3        4999.5\n",
       "4        4998.5\n",
       "          ...  \n",
       "29995    5052.5\n",
       "29996    5051.0\n",
       "29997    5053.5\n",
       "29998    5049.5\n",
       "29999    5051.0\n",
       "Name: trend, Length: 30000, dtype: float64"
      ]
     },
     "execution_count": 241,
     "metadata": {},
     "output_type": "execute_result"
    }
   ],
   "execution_count": 241
  },
  {
   "metadata": {
    "ExecuteTime": {
     "end_time": "2024-04-10T10:28:49.999423Z",
     "start_time": "2024-04-10T10:28:49.988809Z"
    }
   },
   "cell_type": "code",
   "source": "y_pred",
   "id": "a046a2d7a68a82",
   "outputs": [
    {
     "data": {
      "text/plain": [
       "0        5000.0\n",
       "1        5002.0\n",
       "2        5000.0\n",
       "3        4999.5\n",
       "4        4998.5\n",
       "          ...  \n",
       "29994    5051.5\n",
       "29995    5052.5\n",
       "29996    5051.0\n",
       "29997    5053.5\n",
       "29998    5049.5\n",
       "Length: 29999, dtype: float64"
      ]
     },
     "execution_count": 243,
     "metadata": {},
     "output_type": "execute_result"
    }
   ],
   "execution_count": 243
  },
  {
   "metadata": {
    "ExecuteTime": {
     "end_time": "2024-04-10T10:28:28.311656Z",
     "start_time": "2024-04-10T10:28:28.295571Z"
    }
   },
   "cell_type": "code",
   "source": "y_true",
   "id": "20f0eb98b8e63a2f",
   "outputs": [
    {
     "data": {
      "text/plain": [
       "0        5000.0\n",
       "1        5002.0\n",
       "2        5000.0\n",
       "3        4999.5\n",
       "4        4998.5\n",
       "          ...  \n",
       "29994    5051.5\n",
       "29995    5052.5\n",
       "29996    5051.0\n",
       "29997    5053.5\n",
       "29998    5049.5\n",
       "Name: mid_price, Length: 29999, dtype: float64"
      ]
     },
     "execution_count": 242,
     "metadata": {},
     "output_type": "execute_result"
    }
   ],
   "execution_count": 242
  }
 ],
 "metadata": {
  "kernelspec": {
   "display_name": "Python 3",
   "language": "python",
   "name": "python3"
  },
  "language_info": {
   "codemirror_mode": {
    "name": "ipython",
    "version": 2
   },
   "file_extension": ".py",
   "mimetype": "text/x-python",
   "name": "python",
   "nbconvert_exporter": "python",
   "pygments_lexer": "ipython2",
   "version": "2.7.6"
  }
 },
 "nbformat": 4,
 "nbformat_minor": 5
}
