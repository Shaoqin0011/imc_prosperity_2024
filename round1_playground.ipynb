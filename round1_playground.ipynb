{
 "cells": [
  {
   "cell_type": "code",
   "id": "initial_id",
   "metadata": {
    "collapsed": true,
    "ExecuteTime": {
     "end_time": "2024-04-09T10:29:50.951621Z",
     "start_time": "2024-04-09T10:29:43.443295Z"
    }
   },
   "source": [
    "import numpy as np\n",
    "import pandas as pd\n",
    "import matplotlib.pyplot as plt"
   ],
   "outputs": [],
   "execution_count": 2
  },
  {
   "metadata": {
    "ExecuteTime": {
     "end_time": "2024-04-09T10:29:50.956055Z",
     "start_time": "2024-04-09T10:29:50.951621Z"
    }
   },
   "cell_type": "code",
   "source": [
    "import glob\n",
    "import os\n"
   ],
   "id": "f9135a1d4222c145",
   "outputs": [],
   "execution_count": 3
  },
  {
   "metadata": {
    "ExecuteTime": {
     "end_time": "2024-04-09T10:30:53.460076Z",
     "start_time": "2024-04-09T10:30:53.447391Z"
    }
   },
   "cell_type": "code",
   "source": [
    "# get all files under src/round1\n",
    "files = glob.glob('src/round1/round-1-island-data-bottle/*')\n",
    "files"
   ],
   "id": "e9c222bcf89adffe",
   "outputs": [
    {
     "data": {
      "text/plain": [
       "['src/round1/round-1-island-data-bottle\\\\prices_round_1_day_-1.csv',\n",
       " 'src/round1/round-1-island-data-bottle\\\\prices_round_1_day_-2.csv',\n",
       " 'src/round1/round-1-island-data-bottle\\\\prices_round_1_day_0.csv',\n",
       " 'src/round1/round-1-island-data-bottle\\\\trades_round_1_day_-1_nn.csv',\n",
       " 'src/round1/round-1-island-data-bottle\\\\trades_round_1_day_-2_nn.csv',\n",
       " 'src/round1/round-1-island-data-bottle\\\\trades_round_1_day_0_nn.csv']"
      ]
     },
     "execution_count": 6,
     "metadata": {},
     "output_type": "execute_result"
    }
   ],
   "execution_count": 6
  },
  {
   "metadata": {
    "ExecuteTime": {
     "end_time": "2024-04-09T10:43:53.721841Z",
     "start_time": "2024-04-09T10:43:53.633237Z"
    }
   },
   "cell_type": "code",
   "source": [
    "prices = []\n",
    "trades = []\n",
    "for file in files:\n",
    "    if 'prices' in file:\n",
    "        prices.append(pd.read_csv(file,sep=';'))\n",
    "    else:\n",
    "        tmp = pd.read_csv(file,sep=';')\n",
    "        tmp['day'] = int(os.path.basename(file).split('day_')[1].split('_')[0])\n",
    "        tmp = tmp.loc[:,['day']+list(tmp.columns[:-1])]\n",
    "        trades.append(tmp)\n",
    "        \n",
    "prices = pd.concat(prices).sort_values(['day','timestamp'])\n",
    "trades = pd.concat(trades).sort_values(['day','timestamp'])"
   ],
   "id": "2eaf2ae4303f0e33",
   "outputs": [],
   "execution_count": 40
  },
  {
   "metadata": {
    "ExecuteTime": {
     "end_time": "2024-04-09T11:33:10.619916Z",
     "start_time": "2024-04-09T11:33:10.491171Z"
    }
   },
   "cell_type": "code",
   "source": "trades[trades['symbol']=='AMETHYSTS']['price'].plot( kind='hist', bins=100)",
   "id": "da2d88ecd48517c5",
   "outputs": [
    {
     "data": {
      "text/plain": [
       "<Axes: ylabel='Frequency'>"
      ]
     },
     "execution_count": 48,
     "metadata": {},
     "output_type": "execute_result"
    },
    {
     "data": {
      "text/plain": [
       "<Figure size 640x480 with 1 Axes>"
      ],
      "image/png": "[encoded data removed]"
     },
     "metadata": {},
     "output_type": "display_data"
    }
   ],
   "execution_count": 48
  },
  {
   "metadata": {
    "ExecuteTime": {
     "end_time": "2024-04-09T11:32:25.503238Z",
     "start_time": "2024-04-09T11:32:25.491443Z"
    }
   },
   "cell_type": "code",
   "source": "trades",
   "id": "1f457809a0e2b485",
   "outputs": [
    {
     "data": {
      "text/plain": [
       "      day  timestamp  buyer  seller     symbol   currency    price  quantity\n",
       "0      -2          0    NaN     NaN  AMETHYSTS  SEASHELLS   9996.0         1\n",
       "1      -2          0    NaN     NaN  STARFRUIT  SEASHELLS   5003.0         1\n",
       "2      -2          0    NaN     NaN  AMETHYSTS  SEASHELLS   9996.0         1\n",
       "3      -2        100    NaN     NaN  STARFRUIT  SEASHELLS   5004.0         6\n",
       "4      -2        900    NaN     NaN  STARFRUIT  SEASHELLS   5001.0         2\n",
       "...   ...        ...    ...     ...        ...        ...      ...       ...\n",
       "5312    0     998800    NaN     NaN  STARFRUIT  SEASHELLS   5050.0         1\n",
       "5313    0     998800    NaN     NaN  AMETHYSTS  SEASHELLS  10002.0         1\n",
       "5314    0     999500    NaN     NaN  AMETHYSTS  SEASHELLS   9995.0         2\n",
       "5315    0     999500    NaN     NaN  STARFRUIT  SEASHELLS   5049.0         2\n",
       "5316    0     999600    NaN     NaN  STARFRUIT  SEASHELLS   5048.0         1\n",
       "\n",
       "[16150 rows x 8 columns]"
      ],
      "text/html": [
       "<div>\n",
       "<style scoped>\n",
       "    .dataframe tbody tr th:only-of-type {\n",
       "        vertical-align: middle;\n",
       "    }\n",
       "\n",
       "    .dataframe tbody tr th {\n",
       "        vertical-align: top;\n",
       "    }\n",
       "\n",
       "    .dataframe thead th {\n",
       "        text-align: right;\n",
       "    }\n",
       "</style>\n",
       "<table border=\"1\" class=\"dataframe\">\n",
       "  <thead>\n",
       "    <tr style=\"text-align: right;\">\n",
       "      <th></th>\n",
       "      <th>day</th>\n",
       "      <th>timestamp</th>\n",
       "      <th>buyer</th>\n",
       "      <th>seller</th>\n",
       "      <th>symbol</th>\n",
       "      <th>currency</th>\n",
       "      <th>price</th>\n",
       "      <th>quantity</th>\n",
       "    </tr>\n",
       "  </thead>\n",
       "  <tbody>\n",
       "    <tr>\n",
       "      <th>0</th>\n",
       "      <td>-2</td>\n",
       "      <td>0</td>\n",
       "      <td>NaN</td>\n",
       "      <td>NaN</td>\n",
       "      <td>AMETHYSTS</td>\n",
       "      <td>SEASHELLS</td>\n",
       "      <td>9996.0</td>\n",
       "      <td>1</td>\n",
       "    </tr>\n",
       "    <tr>\n",
       "      <th>1</th>\n",
       "      <td>-2</td>\n",
       "      <td>0</td>\n",
       "      <td>NaN</td>\n",
       "      <td>NaN</td>\n",
       "      <td>STARFRUIT</td>\n",
       "      <td>SEASHELLS</td>\n",
       "      <td>5003.0</td>\n",
       "      <td>1</td>\n",
       "    </tr>\n",
       "    <tr>\n",
       "      <th>2</th>\n",
       "      <td>-2</td>\n",
       "      <td>0</td>\n",
       "      <td>NaN</td>\n",
       "      <td>NaN</td>\n",
       "      <td>AMETHYSTS</td>\n",
       "      <td>SEASHELLS</td>\n",
       "      <td>9996.0</td>\n",
       "      <td>1</td>\n",
       "    </tr>\n",
       "    <tr>\n",
       "      <th>3</th>\n",
       "      <td>-2</td>\n",
       "      <td>100</td>\n",
       "      <td>NaN</td>\n",
       "      <td>NaN</td>\n",
       "      <td>STARFRUIT</td>\n",
       "      <td>SEASHELLS</td>\n",
       "      <td>5004.0</td>\n",
       "      <td>6</td>\n",
       "    </tr>\n",
       "    <tr>\n",
       "      <th>4</th>\n",
       "      <td>-2</td>\n",
       "      <td>900</td>\n",
       "      <td>NaN</td>\n",
       "      <td>NaN</td>\n",
       "      <td>STARFRUIT</td>\n",
       "      <td>SEASHELLS</td>\n",
       "      <td>5001.0</td>\n",
       "      <td>2</td>\n",
       "    </tr>\n",
       "    <tr>\n",
       "      <th>...</th>\n",
       "      <td>...</td>\n",
       "      <td>...</td>\n",
       "      <td>...</td>\n",
       "      <td>...</td>\n",
       "      <td>...</td>\n",
       "      <td>...</td>\n",
       "      <td>...</td>\n",
       "      <td>...</td>\n",
       "    </tr>\n",
       "    <tr>\n",
       "      <th>5312</th>\n",
       "      <td>0</td>\n",
       "      <td>998800</td>\n",
       "      <td>NaN</td>\n",
       "      <td>NaN</td>\n",
       "      <td>STARFRUIT</td>\n",
       "      <td>SEASHELLS</td>\n",
       "      <td>5050.0</td>\n",
       "      <td>1</td>\n",
       "    </tr>\n",
       "    <tr>\n",
       "      <th>5313</th>\n",
       "      <td>0</td>\n",
       "      <td>998800</td>\n",
       "      <td>NaN</td>\n",
       "      <td>NaN</td>\n",
       "      <td>AMETHYSTS</td>\n",
       "      <td>SEASHELLS</td>\n",
       "      <td>10002.0</td>\n",
       "      <td>1</td>\n",
       "    </tr>\n",
       "    <tr>\n",
       "      <th>5314</th>\n",
       "      <td>0</td>\n",
       "      <td>999500</td>\n",
       "      <td>NaN</td>\n",
       "      <td>NaN</td>\n",
       "      <td>AMETHYSTS</td>\n",
       "      <td>SEASHELLS</td>\n",
       "      <td>9995.0</td>\n",
       "      <td>2</td>\n",
       "    </tr>\n",
       "    <tr>\n",
       "      <th>5315</th>\n",
       "      <td>0</td>\n",
       "      <td>999500</td>\n",
       "      <td>NaN</td>\n",
       "      <td>NaN</td>\n",
       "      <td>STARFRUIT</td>\n",
       "      <td>SEASHELLS</td>\n",
       "      <td>5049.0</td>\n",
       "      <td>2</td>\n",
       "    </tr>\n",
       "    <tr>\n",
       "      <th>5316</th>\n",
       "      <td>0</td>\n",
       "      <td>999600</td>\n",
       "      <td>NaN</td>\n",
       "      <td>NaN</td>\n",
       "      <td>STARFRUIT</td>\n",
       "      <td>SEASHELLS</td>\n",
       "      <td>5048.0</td>\n",
       "      <td>1</td>\n",
       "    </tr>\n",
       "  </tbody>\n",
       "</table>\n",
       "<p>16150 rows × 8 columns</p>\n",
       "</div>"
      ]
     },
     "execution_count": 47,
     "metadata": {},
     "output_type": "execute_result"
    }
   ],
   "execution_count": 47
  },
  {
   "metadata": {},
   "cell_type": "code",
   "outputs": [],
   "execution_count": null,
   "source": "",
   "id": "3f905ebacfbd166c"
  },
  {
   "metadata": {
    "ExecuteTime": {
     "end_time": "2024-04-09T12:09:15.879991Z",
     "start_time": "2024-04-09T12:09:15.875215Z"
    }
   },
   "cell_type": "code",
   "source": "a ={'1':1,'2':2}",
   "id": "b9f5a9585c536797",
   "outputs": [],
   "execution_count": 53
  },
  {
   "metadata": {
    "ExecuteTime": {
     "end_time": "2024-04-09T12:07:33.681394Z",
     "start_time": "2024-04-09T12:07:33.676717Z"
    }
   },
   "cell_type": "code",
   "source": "a.pop('1')",
   "id": "83ffc2d2af11db77",
   "outputs": [
    {
     "data": {
      "text/plain": [
       "1"
      ]
     },
     "execution_count": 51,
     "metadata": {},
     "output_type": "execute_result"
    }
   ],
   "execution_count": 51
  },
  {
   "metadata": {
    "ExecuteTime": {
     "end_time": "2024-04-09T12:07:36.015976Z",
     "start_time": "2024-04-09T12:07:35.999846Z"
    }
   },
   "cell_type": "code",
   "source": "a",
   "id": "1e32b087a3d684bb",
   "outputs": [
    {
     "data": {
      "text/plain": [
       "{'2': 2}"
      ]
     },
     "execution_count": 52,
     "metadata": {},
     "output_type": "execute_result"
    }
   ],
   "execution_count": 52
  }
 ],
 "metadata": {
  "kernelspec": {
   "display_name": "Python 3",
   "language": "python",
   "name": "python3"
  },
  "language_info": {
   "codemirror_mode": {
    "name": "ipython",
    "version": 2
   },
   "file_extension": ".py",
   "mimetype": "text/x-python",
   "name": "python",
   "nbconvert_exporter": "python",
   "pygments_lexer": "ipython2",
   "version": "2.7.6"
  }
 },
 "nbformat": 4,
 "nbformat_minor": 5
}
