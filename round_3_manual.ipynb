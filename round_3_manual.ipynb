{
 "cells": [
  {
   "cell_type": "code",
   "id": "initial_id",
   "metadata": {
    "collapsed": true,
    "ExecuteTime": {
     "end_time": "2024-04-16T02:16:41.684833Z",
     "start_time": "2024-04-16T02:16:41.681776Z"
    }
   },
   "source": [
    "import numpy as np\n",
    "\n",
    "base =7500\n",
    "multiplier = np.array([[24,70,41,21,60],\n",
    "                       [47,82,87,80,35],\n",
    "                       [73,89,100,90,17],\n",
    "                       [77,83,85,79,55],\n",
    "                       [12,27,52,15,30]\n",
    "                       ]).reshape(1,-1)\n",
    "hunter = np.array([[2,4,3,2,4],\n",
    "                    [3,5,5,5,3],\n",
    "                    [4,5,8,7,2],\n",
    "                    [5,5,5,5,4],\n",
    "                    [2,3,4,2,3]\n",
    "                    ]).reshape(1,-1)"
   ],
   "outputs": [],
   "execution_count": 15
  },
  {
   "metadata": {
    "ExecuteTime": {
     "end_time": "2024-04-16T02:15:11.938753Z",
     "start_time": "2024-04-16T02:15:11.935133Z"
    }
   },
   "cell_type": "code",
   "source": "np.random.seed(0)",
   "id": "c4b65f50d6b08857",
   "outputs": [],
   "execution_count": null
  },
  {
   "metadata": {
    "ExecuteTime": {
     "end_time": "2024-04-16T02:26:25.155126Z",
     "start_time": "2024-04-16T02:26:25.149920Z"
    }
   },
   "cell_type": "code",
   "source": [
    "# generate a 20_000 x 25 matrix of random numbers\n",
    "random_numbers = np.random.rand(20_000, 25)"
   ],
   "id": "2545f8f05135e39b",
   "outputs": [],
   "execution_count": 39
  },
  {
   "metadata": {
    "ExecuteTime": {
     "end_time": "2024-04-16T02:26:27.591073Z",
     "start_time": "2024-04-16T02:26:27.586216Z"
    }
   },
   "cell_type": "code",
   "source": "random_numbers",
   "id": "869140e40c5f3215",
   "outputs": [
    {
     "data": {
      "text/plain": [
       "array([[2.79650232e-01, 9.55731753e-01, 3.65958240e-02, ...,\n",
       "        7.31310580e-01, 5.46736923e-01, 3.47383142e-01],\n",
       "       [4.63458704e-01, 3.64767609e-01, 4.85158528e-01, ...,\n",
       "        2.24275645e-01, 4.06108633e-01, 7.09615165e-01],\n",
       "       [3.87786226e-02, 1.79829194e-01, 4.10723662e-01, ...,\n",
       "        7.47917796e-01, 1.01493145e-01, 4.80019134e-02],\n",
       "       ...,\n",
       "       [6.44527213e-01, 3.35243674e-01, 5.01436489e-04, ...,\n",
       "        9.19583123e-01, 5.54657044e-01, 4.85919923e-01],\n",
       "       [3.67606578e-01, 8.49245939e-01, 8.52174735e-01, ...,\n",
       "        8.32652428e-01, 7.14618142e-01, 4.22833807e-01],\n",
       "       [2.25661171e-02, 3.65441967e-01, 9.17170702e-01, ...,\n",
       "        3.64712711e-01, 8.01786538e-01, 6.92679666e-01]])"
      ]
     },
     "execution_count": 40,
     "metadata": {},
     "output_type": "execute_result"
    }
   ],
   "execution_count": 40
  },
  {
   "metadata": {},
   "cell_type": "code",
   "outputs": [],
   "execution_count": 34,
   "source": [
    "def profit_cal(random_numbers):\n",
    "    random_numbers/=np.sum(random_numbers, axis=1)[:, None]\n",
    "    random_numbers*=100\n",
    "    #pnl\n",
    "    pnl = np.mean(base*multiplier/(random_numbers+hunter), axis=0)\n",
    "    return pnl"
   ],
   "id": "8267ed191ac4c41"
  },
  {
   "metadata": {
    "ExecuteTime": {
     "end_time": "2024-04-16T02:30:24.877192Z",
     "start_time": "2024-04-16T02:30:24.869136Z"
    }
   },
   "cell_type": "code",
   "source": "np.argsort(profit_cal(random_numbers))",
   "id": "440851e4b8ffc508",
   "outputs": [
    {
     "data": {
      "text/plain": [
       "array([20, 23, 14,  3, 21,  0, 24,  9,  2, 22, 19,  5,  4, 13, 12, 15, 18,\n",
       "        8,  1,  6, 16, 10, 17,  7, 11], dtype=int64)"
      ]
     },
     "execution_count": 46,
     "metadata": {},
     "output_type": "execute_result"
    }
   ],
   "execution_count": 46
  },
  {
   "metadata": {
    "ExecuteTime": {
     "end_time": "2024-04-16T02:28:37.590910Z",
     "start_time": "2024-04-16T02:28:37.581258Z"
    }
   },
   "cell_type": "code",
   "source": "profit_cal(random_numbers)",
   "id": "d2a449ed8eeae07a",
   "outputs": [
    {
     "data": {
      "text/plain": [
       "array([36086.98759548, 72119.70831111, 49823.85335051, 31693.2120702 ,\n",
       "       61796.43087672, 57181.57360284, 73280.97735822, 77704.4417103 ,\n",
       "       71521.23502635, 42650.19309625, 74981.9760944 , 79865.40619988,\n",
       "       64821.99919735, 64219.87156344, 25493.09197841, 68998.77132232,\n",
       "       74325.7636934 , 76133.63204372, 70529.11359592, 56481.03878694,\n",
       "       18101.84830581, 32918.73299417, 53489.91551373, 22587.48386857,\n",
       "       36532.83973873])"
      ]
     },
     "execution_count": 45,
     "metadata": {},
     "output_type": "execute_result"
    }
   ],
   "execution_count": 45
  },
  {
   "metadata": {
    "ExecuteTime": {
     "end_time": "2024-04-16T02:22:52.033565Z",
     "start_time": "2024-04-16T02:22:52.030033Z"
    }
   },
   "cell_type": "code",
   "source": "# sanity check:",
   "id": "30fd7a963f4696bc",
   "outputs": [],
   "execution_count": 38
  },
  {
   "metadata": {
    "ExecuteTime": {
     "end_time": "2024-04-16T02:21:18.765158Z",
     "start_time": "2024-04-16T02:21:18.760196Z"
    }
   },
   "cell_type": "code",
   "source": "random_numbers[0][0]",
   "id": "8c8679a2459fee17",
   "outputs": [
    {
     "data": {
      "text/plain": [
       "4.424445753321162"
      ]
     },
     "execution_count": 32,
     "metadata": {},
     "output_type": "execute_result"
    }
   ],
   "execution_count": 32
  },
  {
   "metadata": {
    "ExecuteTime": {
     "end_time": "2024-04-16T02:21:32.847780Z",
     "start_time": "2024-04-16T02:21:32.841916Z"
    }
   },
   "cell_type": "code",
   "source": "base*24/(random_numbers[0][0]+hunter[0][0])",
   "id": "d7cf087137540c01",
   "outputs": [
    {
     "data": {
      "text/plain": [
       "28017.981147548446"
      ]
     },
     "execution_count": 33,
     "metadata": {},
     "output_type": "execute_result"
    }
   ],
   "execution_count": 33
  }
 ],
 "metadata": {
  "kernelspec": {
   "display_name": "Python 3",
   "language": "python",
   "name": "python3"
  },
  "language_info": {
   "codemirror_mode": {
    "name": "ipython",
    "version": 2
   },
   "file_extension": ".py",
   "mimetype": "text/x-python",
   "name": "python",
   "nbconvert_exporter": "python",
   "pygments_lexer": "ipython2",
   "version": "2.7.6"
  }
 },
 "nbformat": 4,
 "nbformat_minor": 5
}
