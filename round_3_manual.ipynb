{
 "cells": [
  {
   "cell_type": "code",
   "id": "initial_id",
   "metadata": {
    "collapsed": true,
    "ExecuteTime": {
     "end_time": "2024-04-17T03:55:10.500980Z",
     "start_time": "2024-04-17T03:55:10.484137Z"
    }
   },
   "source": [
    "import numpy as np\n",
    "\n",
    "base =7500\n",
    "multiplier = np.array([[24,70,41,21,60],\n",
    "                       [47,82,87,80,35],\n",
    "                       [73,89,100,90,17],\n",
    "                       [77,83,85,79,55],\n",
    "                       [12,27,52,15,30]\n",
    "                       ]).reshape(1,-1)\n",
    "hunter = np.array([[2,4,3,2,4],\n",
    "                    [3,5,5,5,3],\n",
    "                    [4,5,8,7,2],\n",
    "                    [5,5,5,5,4],\n",
    "                    [2,3,4,2,3]\n",
    "                    ]).reshape(1,-1)"
   ],
   "outputs": [],
   "execution_count": 14
  },
  {
   "metadata": {
    "ExecuteTime": {
     "end_time": "2024-04-17T03:55:42.390873Z",
     "start_time": "2024-04-17T03:55:42.386370Z"
    }
   },
   "cell_type": "code",
   "source": "np.argsort(base*multiplier/hunter)[0][::-1]",
   "id": "2e11afe58fb1eceb",
   "outputs": [
    {
     "data": {
      "text/plain": [
       "array([10, 11,  1,  7, 17, 16,  6,  8, 18,  5, 15,  4, 19,  2, 22, 13, 12,\n",
       "        0,  9,  3, 24, 21, 14, 23, 20], dtype=int64)"
      ]
     },
     "execution_count": 17,
     "metadata": {},
     "output_type": "execute_result"
    }
   ],
   "execution_count": 17
  },
  {
   "metadata": {
    "ExecuteTime": {
     "end_time": "2024-04-17T03:55:50.399972Z",
     "start_time": "2024-04-17T03:55:50.395952Z"
    }
   },
   "cell_type": "code",
   "source": "multiplier",
   "id": "b5cd029d919640c5",
   "outputs": [
    {
     "data": {
      "text/plain": [
       "array([[ 24,  70,  41,  21,  60,  47,  82,  87,  80,  35,  73,  89, 100,\n",
       "         90,  17,  77,  83,  85,  79,  55,  12,  27,  52,  15,  30]])"
      ]
     },
     "execution_count": 18,
     "metadata": {},
     "output_type": "execute_result"
    }
   ],
   "execution_count": 18
  },
  {
   "metadata": {
    "ExecuteTime": {
     "end_time": "2024-04-17T03:02:44.548973Z",
     "start_time": "2024-04-17T03:02:44.544772Z"
    }
   },
   "cell_type": "code",
   "source": "np.random.seed(0)",
   "id": "c4b65f50d6b08857",
   "outputs": [],
   "execution_count": 2
  },
  {
   "metadata": {
    "ExecuteTime": {
     "end_time": "2024-04-17T03:02:44.555750Z",
     "start_time": "2024-04-17T03:02:44.549981Z"
    }
   },
   "cell_type": "code",
   "source": [
    "# generate a 20_000 x 25 matrix of random numbers\n",
    "random_numbers = np.random.rand(20_000, 25)"
   ],
   "id": "2545f8f05135e39b",
   "outputs": [],
   "execution_count": 3
  },
  {
   "metadata": {
    "ExecuteTime": {
     "end_time": "2024-04-17T03:02:44.561639Z",
     "start_time": "2024-04-17T03:02:44.556756Z"
    }
   },
   "cell_type": "code",
   "source": "random_numbers",
   "id": "869140e40c5f3215",
   "outputs": [
    {
     "data": {
      "text/plain": [
       "array([[0.5488135 , 0.71518937, 0.60276338, ..., 0.46147936, 0.78052918,\n",
       "        0.11827443],\n",
       "       [0.63992102, 0.14335329, 0.94466892, ..., 0.1289263 , 0.31542835,\n",
       "        0.36371077],\n",
       "       [0.57019677, 0.43860151, 0.98837384, ..., 0.97676109, 0.60484552,\n",
       "        0.73926358],\n",
       "       ...,\n",
       "       [0.52177653, 0.7158295 , 0.98729077, ..., 0.16115189, 0.84855794,\n",
       "        0.67855662],\n",
       "       [0.99616519, 0.37231646, 0.55150441, ..., 0.05343017, 0.56335554,\n",
       "        0.81760894],\n",
       "       [0.73943784, 0.10190805, 0.38799923, ..., 0.53321674, 0.88081423,\n",
       "        0.26561703]])"
      ]
     },
     "execution_count": 4,
     "metadata": {},
     "output_type": "execute_result"
    }
   ],
   "execution_count": 4
  },
  {
   "metadata": {
    "ExecuteTime": {
     "end_time": "2024-04-17T03:02:44.567456Z",
     "start_time": "2024-04-17T03:02:44.563646Z"
    }
   },
   "cell_type": "code",
   "source": [
    "def profit_cal(random_numbers):\n",
    "    random_numbers/=np.sum(random_numbers, axis=1)[:, None]\n",
    "    random_numbers*=100\n",
    "    #pnl\n",
    "    pnl = np.mean(base*multiplier/(random_numbers+hunter), axis=0)\n",
    "    return pnl"
   ],
   "id": "8267ed191ac4c41",
   "outputs": [],
   "execution_count": 5
  },
  {
   "metadata": {
    "ExecuteTime": {
     "end_time": "2024-04-17T03:02:44.576588Z",
     "start_time": "2024-04-17T03:02:44.568337Z"
    }
   },
   "cell_type": "code",
   "source": "np.argsort(profit_cal(random_numbers))",
   "id": "440851e4b8ffc508",
   "outputs": [
    {
     "data": {
      "text/plain": [
       "array([20, 23, 14,  3, 21,  0, 24,  9,  2, 22, 19,  5,  4, 13, 12, 15, 18,\n",
       "        8,  1,  6, 16, 10, 17,  7, 11], dtype=int64)"
      ]
     },
     "execution_count": 6,
     "metadata": {},
     "output_type": "execute_result"
    }
   ],
   "execution_count": 6
  },
  {
   "metadata": {
    "ExecuteTime": {
     "end_time": "2024-04-17T03:02:44.587389Z",
     "start_time": "2024-04-17T03:02:44.576588Z"
    }
   },
   "cell_type": "code",
   "source": "profit_cal(random_numbers)",
   "id": "d2a449ed8eeae07a",
   "outputs": [
    {
     "data": {
      "text/plain": [
       "array([35910.64054694, 72051.65766112, 49579.48744448, 31765.73656632,\n",
       "       61585.15766461, 57084.21574458, 73426.72719085, 78061.4262666 ,\n",
       "       71493.70712636, 42483.04238356, 75216.67097604, 79900.62368473,\n",
       "       64930.60586799, 64175.7077176 , 25691.07080294, 68973.35774405,\n",
       "       74246.14515434, 76010.60733642, 70836.51575147, 56383.73555082,\n",
       "       18026.7792577 , 33008.48891748, 53476.49114524, 22604.59027799,\n",
       "       36480.77016112])"
      ]
     },
     "execution_count": 7,
     "metadata": {},
     "output_type": "execute_result"
    }
   ],
   "execution_count": 7
  },
  {
   "metadata": {
    "ExecuteTime": {
     "end_time": "2024-04-17T03:02:44.594959Z",
     "start_time": "2024-04-17T03:02:44.588395Z"
    }
   },
   "cell_type": "code",
   "source": "uniform_pnl = profit_cal(random_numbers)",
   "id": "64e3c7342be75763",
   "outputs": [],
   "execution_count": 8
  },
  {
   "metadata": {
    "ExecuteTime": {
     "end_time": "2024-04-17T03:02:44.600558Z",
     "start_time": "2024-04-17T03:02:44.595965Z"
    }
   },
   "cell_type": "code",
   "source": "np.argsort(base*multiplier/(uniform_pnl/np.sum(uniform_pnl)*100+hunter))[0][::-1]",
   "id": "ef866705006f9f2",
   "outputs": [
    {
     "data": {
      "text/plain": [
       "array([11,  7, 17, 16,  6, 12,  8, 18, 10, 13, 15,  1,  4, 19, 22,  5,  2,\n",
       "        9, 24,  0, 21,  3, 14, 23, 20], dtype=int64)"
      ]
     },
     "execution_count": 9,
     "metadata": {},
     "output_type": "execute_result"
    }
   ],
   "execution_count": 9
  },
  {
   "metadata": {
    "ExecuteTime": {
     "end_time": "2024-04-17T03:02:44.604767Z",
     "start_time": "2024-04-17T03:02:44.601566Z"
    }
   },
   "cell_type": "code",
   "source": "multiplier",
   "id": "52355e38d80395ca",
   "outputs": [
    {
     "data": {
      "text/plain": [
       "array([[ 24,  70,  41,  21,  60,  47,  82,  87,  80,  35,  73,  89, 100,\n",
       "         90,  17,  77,  83,  85,  79,  55,  12,  27,  52,  15,  30]])"
      ]
     },
     "execution_count": 10,
     "metadata": {},
     "output_type": "execute_result"
    }
   ],
   "execution_count": 10
  },
  {
   "metadata": {
    "ExecuteTime": {
     "end_time": "2024-04-17T03:02:44.608278Z",
     "start_time": "2024-04-17T03:02:44.604767Z"
    }
   },
   "cell_type": "code",
   "source": "# sanity check:",
   "id": "30fd7a963f4696bc",
   "outputs": [],
   "execution_count": 11
  },
  {
   "metadata": {
    "ExecuteTime": {
     "end_time": "2024-04-17T03:02:44.612384Z",
     "start_time": "2024-04-17T03:02:44.609284Z"
    }
   },
   "cell_type": "code",
   "source": "random_numbers[0][0]",
   "id": "8c8679a2459fee17",
   "outputs": [
    {
     "data": {
      "text/plain": [
       "3.715943487232841"
      ]
     },
     "execution_count": 12,
     "metadata": {},
     "output_type": "execute_result"
    }
   ],
   "execution_count": 12
  },
  {
   "metadata": {
    "ExecuteTime": {
     "end_time": "2024-04-17T03:02:44.617060Z",
     "start_time": "2024-04-17T03:02:44.613391Z"
    }
   },
   "cell_type": "code",
   "source": "base*24/(random_numbers[0][0]+hunter[0][0])",
   "id": "d7cf087137540c01",
   "outputs": [
    {
     "data": {
      "text/plain": [
       "31490.864177024996"
      ]
     },
     "execution_count": 13,
     "metadata": {},
     "output_type": "execute_result"
    }
   ],
   "execution_count": 13
  }
 ],
 "metadata": {
  "kernelspec": {
   "display_name": "Python 3",
   "language": "python",
   "name": "python3"
  },
  "language_info": {
   "codemirror_mode": {
    "name": "ipython",
    "version": 2
   },
   "file_extension": ".py",
   "mimetype": "text/x-python",
   "name": "python",
   "nbconvert_exporter": "python",
   "pygments_lexer": "ipython2",
   "version": "2.7.6"
  }
 },
 "nbformat": 4,
 "nbformat_minor": 5
}
