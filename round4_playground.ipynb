{
 "cells": [
  {
   "metadata": {
    "ExecuteTime": {
     "end_time": "2024-04-21T03:49:32.015317Z",
     "start_time": "2024-04-21T03:49:31.947770Z"
    }
   },
   "cell_type": "code",
   "source": [
    "%load_ext autoreload\n",
    "%autoreload 2"
   ],
   "id": "25d86a3d58758b70",
   "outputs": [],
   "execution_count": 1
  },
  {
   "cell_type": "code",
   "id": "initial_id",
   "metadata": {
    "collapsed": true,
    "ExecuteTime": {
     "end_time": "2024-04-21T03:49:33.090170Z",
     "start_time": "2024-04-21T03:49:32.016325Z"
    }
   },
   "source": [
    "import numpy as np\n",
    "import pandas as pd\n",
    "import matplotlib.pyplot as plt"
   ],
   "outputs": [],
   "execution_count": 2
  },
  {
   "metadata": {
    "ExecuteTime": {
     "end_time": "2024-04-21T03:49:33.222239Z",
     "start_time": "2024-04-21T03:49:33.157910Z"
    }
   },
   "cell_type": "code",
   "source": [
    "import glob\n",
    "import os\n",
    "import jsonpickle"
   ],
   "id": "f9135a1d4222c145",
   "outputs": [],
   "execution_count": 3
  },
  {
   "metadata": {
    "ExecuteTime": {
     "end_time": "2024-04-21T03:49:33.285713Z",
     "start_time": "2024-04-21T03:49:33.223258Z"
    }
   },
   "cell_type": "code",
   "source": [
    "# get all files under src/round1\n",
    "files = glob.glob('src/round4/round-4-island-data-bottle/*.csv')\n",
    "files"
   ],
   "id": "e9c222bcf89adffe",
   "outputs": [
    {
     "data": {
      "text/plain": [
       "['src/round4/round-4-island-data-bottle\\\\prices_round_4_day_1.csv',\n",
       " 'src/round4/round-4-island-data-bottle\\\\prices_round_4_day_2.csv',\n",
       " 'src/round4/round-4-island-data-bottle\\\\prices_round_4_day_3.csv',\n",
       " 'src/round4/round-4-island-data-bottle\\\\trades_round_4_day_1_nn.csv',\n",
       " 'src/round4/round-4-island-data-bottle\\\\trades_round_4_day_2_nn.csv',\n",
       " 'src/round4/round-4-island-data-bottle\\\\trades_round_4_day_3_nn.csv']"
      ]
     },
     "execution_count": 4,
     "metadata": {},
     "output_type": "execute_result"
    }
   ],
   "execution_count": 4
  },
  {
   "metadata": {
    "ExecuteTime": {
     "end_time": "2024-04-21T03:49:33.463818Z",
     "start_time": "2024-04-21T03:49:33.286718Z"
    }
   },
   "cell_type": "code",
   "source": [
    "prices = []\n",
    "trades = []\n",
    "for file in files:\n",
    "    if 'prices' in file:\n",
    "        prices.append(pd.read_csv(file,sep=';',index_col=0))\n",
    "    else:\n",
    "        trades.append(pd.read_csv(file,sep=';',index_col=0))\n",
    "prices = pd.concat(prices).sort_values(['day','timestamp']).reset_index()\n",
    "trades = pd.concat(trades,keys=[1,2,3],names=['day']).reset_index()"
   ],
   "id": "2eaf2ae4303f0e33",
   "outputs": [],
   "execution_count": 5
  },
  {
   "metadata": {
    "ExecuteTime": {
     "end_time": "2024-04-21T03:49:33.536369Z",
     "start_time": "2024-04-21T03:49:33.464823Z"
    }
   },
   "cell_type": "code",
   "source": "prices",
   "id": "8532d1758855a249",
   "outputs": [
    {
     "data": {
      "text/plain": [
       "       day  timestamp         product  bid_price_1  bid_volume_1  bid_price_2  \\\n",
       "0        1          0         COCONUT       9999.0         200.0          NaN   \n",
       "1        1          0  COCONUT_COUPON        637.0          39.0          NaN   \n",
       "2        1        100         COCONUT       9999.0         104.0       9998.0   \n",
       "3        1        100  COCONUT_COUPON        637.0          33.0          NaN   \n",
       "4        1        200         COCONUT       9998.0         133.0       9997.0   \n",
       "...    ...        ...             ...          ...           ...          ...   \n",
       "59995    3     999700  COCONUT_COUPON        575.0          40.0          NaN   \n",
       "59996    3     999800  COCONUT_COUPON        575.0          30.0          NaN   \n",
       "59997    3     999800         COCONUT       9883.0         127.0       9882.0   \n",
       "59998    3     999900  COCONUT_COUPON        575.0          43.0          NaN   \n",
       "59999    3     999900         COCONUT       9882.0         137.0       9881.0   \n",
       "\n",
       "       bid_volume_2  bid_price_3  bid_volume_3  ask_price_1  ask_volume_1  \\\n",
       "0               NaN          NaN           NaN        10001           200   \n",
       "1               NaN          NaN           NaN          638            39   \n",
       "2              44.0          NaN           NaN        10000           104   \n",
       "3               NaN          NaN           NaN          638            33   \n",
       "4              62.0          NaN           NaN         9999           133   \n",
       "...             ...          ...           ...          ...           ...   \n",
       "59995           NaN          NaN           NaN          576            40   \n",
       "59996           NaN          NaN           NaN          576            44   \n",
       "59997          46.0          NaN           NaN         9885           164   \n",
       "59998           NaN          NaN           NaN          576            43   \n",
       "59999          69.0          NaN           NaN         9883           131   \n",
       "\n",
       "       ask_price_2  ask_volume_2  ask_price_3  ask_volume_3  mid_price  \\\n",
       "0              NaN           NaN          NaN           NaN    10000.0   \n",
       "1              NaN           NaN          NaN           NaN      637.5   \n",
       "2          10001.0          44.0          NaN           NaN     9999.5   \n",
       "3              NaN           NaN          NaN           NaN      637.5   \n",
       "4          10000.0          62.0          NaN           NaN     9998.5   \n",
       "...            ...           ...          ...           ...        ...   \n",
       "59995          NaN           NaN          NaN           NaN      575.5   \n",
       "59996          NaN           NaN          NaN           NaN      575.5   \n",
       "59997          NaN           NaN          NaN           NaN     9884.0   \n",
       "59998          NaN           NaN          NaN           NaN      575.5   \n",
       "59999       9884.0          69.0          NaN           NaN     9882.5   \n",
       "\n",
       "       profit_and_loss  \n",
       "0                  0.0  \n",
       "1                  0.0  \n",
       "2                  0.0  \n",
       "3                  0.0  \n",
       "4                  0.0  \n",
       "...                ...  \n",
       "59995              0.0  \n",
       "59996              0.0  \n",
       "59997              0.0  \n",
       "59998              0.0  \n",
       "59999              0.0  \n",
       "\n",
       "[60000 rows x 17 columns]"
      ],
      "text/html": [
       "<div>\n",
       "<style scoped>\n",
       "    .dataframe tbody tr th:only-of-type {\n",
       "        vertical-align: middle;\n",
       "    }\n",
       "\n",
       "    .dataframe tbody tr th {\n",
       "        vertical-align: top;\n",
       "    }\n",
       "\n",
       "    .dataframe thead th {\n",
       "        text-align: right;\n",
       "    }\n",
       "</style>\n",
       "<table border=\"1\" class=\"dataframe\">\n",
       "  <thead>\n",
       "    <tr style=\"text-align: right;\">\n",
       "      <th></th>\n",
       "      <th>day</th>\n",
       "      <th>timestamp</th>\n",
       "      <th>product</th>\n",
       "      <th>bid_price_1</th>\n",
       "      <th>bid_volume_1</th>\n",
       "      <th>bid_price_2</th>\n",
       "      <th>bid_volume_2</th>\n",
       "      <th>bid_price_3</th>\n",
       "      <th>bid_volume_3</th>\n",
       "      <th>ask_price_1</th>\n",
       "      <th>ask_volume_1</th>\n",
       "      <th>ask_price_2</th>\n",
       "      <th>ask_volume_2</th>\n",
       "      <th>ask_price_3</th>\n",
       "      <th>ask_volume_3</th>\n",
       "      <th>mid_price</th>\n",
       "      <th>profit_and_loss</th>\n",
       "    </tr>\n",
       "  </thead>\n",
       "  <tbody>\n",
       "    <tr>\n",
       "      <th>0</th>\n",
       "      <td>1</td>\n",
       "      <td>0</td>\n",
       "      <td>COCONUT</td>\n",
       "      <td>9999.0</td>\n",
       "      <td>200.0</td>\n",
       "      <td>NaN</td>\n",
       "      <td>NaN</td>\n",
       "      <td>NaN</td>\n",
       "      <td>NaN</td>\n",
       "      <td>10001</td>\n",
       "      <td>200</td>\n",
       "      <td>NaN</td>\n",
       "      <td>NaN</td>\n",
       "      <td>NaN</td>\n",
       "      <td>NaN</td>\n",
       "      <td>10000.0</td>\n",
       "      <td>0.0</td>\n",
       "    </tr>\n",
       "    <tr>\n",
       "      <th>1</th>\n",
       "      <td>1</td>\n",
       "      <td>0</td>\n",
       "      <td>COCONUT_COUPON</td>\n",
       "      <td>637.0</td>\n",
       "      <td>39.0</td>\n",
       "      <td>NaN</td>\n",
       "      <td>NaN</td>\n",
       "      <td>NaN</td>\n",
       "      <td>NaN</td>\n",
       "      <td>638</td>\n",
       "      <td>39</td>\n",
       "      <td>NaN</td>\n",
       "      <td>NaN</td>\n",
       "      <td>NaN</td>\n",
       "      <td>NaN</td>\n",
       "      <td>637.5</td>\n",
       "      <td>0.0</td>\n",
       "    </tr>\n",
       "    <tr>\n",
       "      <th>2</th>\n",
       "      <td>1</td>\n",
       "      <td>100</td>\n",
       "      <td>COCONUT</td>\n",
       "      <td>9999.0</td>\n",
       "      <td>104.0</td>\n",
       "      <td>9998.0</td>\n",
       "      <td>44.0</td>\n",
       "      <td>NaN</td>\n",
       "      <td>NaN</td>\n",
       "      <td>10000</td>\n",
       "      <td>104</td>\n",
       "      <td>10001.0</td>\n",
       "      <td>44.0</td>\n",
       "      <td>NaN</td>\n",
       "      <td>NaN</td>\n",
       "      <td>9999.5</td>\n",
       "      <td>0.0</td>\n",
       "    </tr>\n",
       "    <tr>\n",
       "      <th>3</th>\n",
       "      <td>1</td>\n",
       "      <td>100</td>\n",
       "      <td>COCONUT_COUPON</td>\n",
       "      <td>637.0</td>\n",
       "      <td>33.0</td>\n",
       "      <td>NaN</td>\n",
       "      <td>NaN</td>\n",
       "      <td>NaN</td>\n",
       "      <td>NaN</td>\n",
       "      <td>638</td>\n",
       "      <td>33</td>\n",
       "      <td>NaN</td>\n",
       "      <td>NaN</td>\n",
       "      <td>NaN</td>\n",
       "      <td>NaN</td>\n",
       "      <td>637.5</td>\n",
       "      <td>0.0</td>\n",
       "    </tr>\n",
       "    <tr>\n",
       "      <th>4</th>\n",
       "      <td>1</td>\n",
       "      <td>200</td>\n",
       "      <td>COCONUT</td>\n",
       "      <td>9998.0</td>\n",
       "      <td>133.0</td>\n",
       "      <td>9997.0</td>\n",
       "      <td>62.0</td>\n",
       "      <td>NaN</td>\n",
       "      <td>NaN</td>\n",
       "      <td>9999</td>\n",
       "      <td>133</td>\n",
       "      <td>10000.0</td>\n",
       "      <td>62.0</td>\n",
       "      <td>NaN</td>\n",
       "      <td>NaN</td>\n",
       "      <td>9998.5</td>\n",
       "      <td>0.0</td>\n",
       "    </tr>\n",
       "    <tr>\n",
       "      <th>...</th>\n",
       "      <td>...</td>\n",
       "      <td>...</td>\n",
       "      <td>...</td>\n",
       "      <td>...</td>\n",
       "      <td>...</td>\n",
       "      <td>...</td>\n",
       "      <td>...</td>\n",
       "      <td>...</td>\n",
       "      <td>...</td>\n",
       "      <td>...</td>\n",
       "      <td>...</td>\n",
       "      <td>...</td>\n",
       "      <td>...</td>\n",
       "      <td>...</td>\n",
       "      <td>...</td>\n",
       "      <td>...</td>\n",
       "      <td>...</td>\n",
       "    </tr>\n",
       "    <tr>\n",
       "      <th>59995</th>\n",
       "      <td>3</td>\n",
       "      <td>999700</td>\n",
       "      <td>COCONUT_COUPON</td>\n",
       "      <td>575.0</td>\n",
       "      <td>40.0</td>\n",
       "      <td>NaN</td>\n",
       "      <td>NaN</td>\n",
       "      <td>NaN</td>\n",
       "      <td>NaN</td>\n",
       "      <td>576</td>\n",
       "      <td>40</td>\n",
       "      <td>NaN</td>\n",
       "      <td>NaN</td>\n",
       "      <td>NaN</td>\n",
       "      <td>NaN</td>\n",
       "      <td>575.5</td>\n",
       "      <td>0.0</td>\n",
       "    </tr>\n",
       "    <tr>\n",
       "      <th>59996</th>\n",
       "      <td>3</td>\n",
       "      <td>999800</td>\n",
       "      <td>COCONUT_COUPON</td>\n",
       "      <td>575.0</td>\n",
       "      <td>30.0</td>\n",
       "      <td>NaN</td>\n",
       "      <td>NaN</td>\n",
       "      <td>NaN</td>\n",
       "      <td>NaN</td>\n",
       "      <td>576</td>\n",
       "      <td>44</td>\n",
       "      <td>NaN</td>\n",
       "      <td>NaN</td>\n",
       "      <td>NaN</td>\n",
       "      <td>NaN</td>\n",
       "      <td>575.5</td>\n",
       "      <td>0.0</td>\n",
       "    </tr>\n",
       "    <tr>\n",
       "      <th>59997</th>\n",
       "      <td>3</td>\n",
       "      <td>999800</td>\n",
       "      <td>COCONUT</td>\n",
       "      <td>9883.0</td>\n",
       "      <td>127.0</td>\n",
       "      <td>9882.0</td>\n",
       "      <td>46.0</td>\n",
       "      <td>NaN</td>\n",
       "      <td>NaN</td>\n",
       "      <td>9885</td>\n",
       "      <td>164</td>\n",
       "      <td>NaN</td>\n",
       "      <td>NaN</td>\n",
       "      <td>NaN</td>\n",
       "      <td>NaN</td>\n",
       "      <td>9884.0</td>\n",
       "      <td>0.0</td>\n",
       "    </tr>\n",
       "    <tr>\n",
       "      <th>59998</th>\n",
       "      <td>3</td>\n",
       "      <td>999900</td>\n",
       "      <td>COCONUT_COUPON</td>\n",
       "      <td>575.0</td>\n",
       "      <td>43.0</td>\n",
       "      <td>NaN</td>\n",
       "      <td>NaN</td>\n",
       "      <td>NaN</td>\n",
       "      <td>NaN</td>\n",
       "      <td>576</td>\n",
       "      <td>43</td>\n",
       "      <td>NaN</td>\n",
       "      <td>NaN</td>\n",
       "      <td>NaN</td>\n",
       "      <td>NaN</td>\n",
       "      <td>575.5</td>\n",
       "      <td>0.0</td>\n",
       "    </tr>\n",
       "    <tr>\n",
       "      <th>59999</th>\n",
       "      <td>3</td>\n",
       "      <td>999900</td>\n",
       "      <td>COCONUT</td>\n",
       "      <td>9882.0</td>\n",
       "      <td>137.0</td>\n",
       "      <td>9881.0</td>\n",
       "      <td>69.0</td>\n",
       "      <td>NaN</td>\n",
       "      <td>NaN</td>\n",
       "      <td>9883</td>\n",
       "      <td>131</td>\n",
       "      <td>9884.0</td>\n",
       "      <td>69.0</td>\n",
       "      <td>NaN</td>\n",
       "      <td>NaN</td>\n",
       "      <td>9882.5</td>\n",
       "      <td>0.0</td>\n",
       "    </tr>\n",
       "  </tbody>\n",
       "</table>\n",
       "<p>60000 rows × 17 columns</p>\n",
       "</div>"
      ]
     },
     "execution_count": 6,
     "metadata": {},
     "output_type": "execute_result"
    }
   ],
   "execution_count": 6
  },
  {
   "metadata": {
    "ExecuteTime": {
     "end_time": "2024-04-21T03:49:33.605243Z",
     "start_time": "2024-04-21T03:49:33.537377Z"
    }
   },
   "cell_type": "code",
   "source": "prices.set_index(['day','timestamp'],inplace=True)",
   "id": "c862769ed7e27d47",
   "outputs": [],
   "execution_count": 7
  },
  {
   "metadata": {
    "ExecuteTime": {
     "end_time": "2024-04-21T03:49:33.680763Z",
     "start_time": "2024-04-21T03:49:33.606250Z"
    }
   },
   "cell_type": "code",
   "source": [
    "coco = prices[prices['product']=='COCONUT']\n",
    "coco_cou = prices[prices['product']=='COCONUT_COUPON']"
   ],
   "id": "6c2da5c1ac279e81",
   "outputs": [],
   "execution_count": 8
  },
  {
   "metadata": {
    "ExecuteTime": {
     "end_time": "2024-04-21T03:49:33.734857Z",
     "start_time": "2024-04-21T03:49:33.681771Z"
    }
   },
   "cell_type": "code",
   "source": [
    "# find the na\n",
    "coco.isna().sum()"
   ],
   "id": "be65a2b286226c1",
   "outputs": [
    {
     "data": {
      "text/plain": [
       "product                0\n",
       "bid_price_1            0\n",
       "bid_volume_1           0\n",
       "bid_price_2         7013\n",
       "bid_volume_2        7013\n",
       "bid_price_3        29956\n",
       "bid_volume_3       29956\n",
       "ask_price_1            0\n",
       "ask_volume_1           0\n",
       "ask_price_2         7579\n",
       "ask_volume_2        7579\n",
       "ask_price_3        29625\n",
       "ask_volume_3       29625\n",
       "mid_price              0\n",
       "profit_and_loss        0\n",
       "dtype: int64"
      ]
     },
     "execution_count": 9,
     "metadata": {},
     "output_type": "execute_result"
    }
   ],
   "execution_count": 9
  },
  {
   "metadata": {
    "ExecuteTime": {
     "end_time": "2024-04-21T03:49:33.796236Z",
     "start_time": "2024-04-21T03:49:33.735866Z"
    }
   },
   "cell_type": "code",
   "source": "coco_cou.isna().sum()",
   "id": "53a7c00f0396119b",
   "outputs": [
    {
     "data": {
      "text/plain": [
       "product                0\n",
       "bid_price_1            2\n",
       "bid_volume_1           2\n",
       "bid_price_2        29406\n",
       "bid_volume_2       29406\n",
       "bid_price_3        30000\n",
       "bid_volume_3       30000\n",
       "ask_price_1            0\n",
       "ask_volume_1           0\n",
       "ask_price_2        29450\n",
       "ask_volume_2       29450\n",
       "ask_price_3        30000\n",
       "ask_volume_3       30000\n",
       "mid_price              0\n",
       "profit_and_loss        0\n",
       "dtype: int64"
      ]
     },
     "execution_count": 10,
     "metadata": {},
     "output_type": "execute_result"
    }
   ],
   "execution_count": 10
  },
  {
   "metadata": {
    "ExecuteTime": {
     "end_time": "2024-04-21T03:49:33.873559Z",
     "start_time": "2024-04-21T03:49:33.797241Z"
    }
   },
   "cell_type": "code",
   "source": [
    "coco.loc[:,'bid_price_1']=coco['bid_price_1'].ffill()\n",
    "coco_cou.loc[:,'bid_price_1']=coco_cou['bid_price_1'].ffill()"
   ],
   "id": "5bbd4febc84b6ed0",
   "outputs": [],
   "execution_count": 11
  },
  {
   "metadata": {
    "ExecuteTime": {
     "end_time": "2024-04-21T03:49:33.940344Z",
     "start_time": "2024-04-21T03:49:33.875568Z"
    }
   },
   "cell_type": "code",
   "source": [
    "coco.loc[:,'mid_price'] = (coco['bid_price_1'] + coco['ask_price_1']) / 2\n",
    "coco_cou.loc[:,'mid_price'] = (coco_cou['bid_price_1'] + coco_cou['ask_price_1']) / 2"
   ],
   "id": "d9674b6153232f32",
   "outputs": [],
   "execution_count": 12
  },
  {
   "metadata": {
    "ExecuteTime": {
     "end_time": "2024-04-21T03:49:34.236997Z",
     "start_time": "2024-04-21T03:49:33.942868Z"
    }
   },
   "cell_type": "code",
   "source": [
    "# plot coco and coco_cou on the same plot with different y-axis, same x-axis\n",
    "fig, ax1 = plt.subplots()\n",
    "ax2 = ax1.twinx()\n",
    "ax1.plot(coco['mid_price'].values,label='coco')\n",
    "ax2.plot(coco_cou['mid_price'].values,label='coco_cou',color='orange')\n",
    "ax1.legend()\n",
    "ax2.legend()\n",
    "plt.show()"
   ],
   "id": "660bcbc536edb9c7",
   "outputs": [
    {
     "data": {
      "text/plain": [
       "<Figure size 640x480 with 2 Axes>"
      ],
      "image/png": "[encoded data removed]"
     },
     "metadata": {},
     "output_type": "display_data"
    }
   ],
   "execution_count": 13
  },
  {
   "metadata": {},
   "cell_type": "markdown",
   "source": "# Method 1: pairs trading",
   "id": "41a733fcb336c32a"
  },
  {
   "metadata": {
    "ExecuteTime": {
     "end_time": "2024-04-21T03:49:34.296066Z",
     "start_time": "2024-04-21T03:49:34.238004Z"
    }
   },
   "cell_type": "code",
   "source": "coco_cou.loc[:,'mid_price_delay']=coco_cou['mid_price'].shift(1).bfill()",
   "id": "a602f00836c6e1ae",
   "outputs": [
    {
     "name": "stderr",
     "output_type": "stream",
     "text": [
      "C:\\Users\\kevin\\AppData\\Local\\Temp\\ipykernel_13884\\2488072776.py:1: SettingWithCopyWarning: \n",
      "A value is trying to be set on a copy of a slice from a DataFrame.\n",
      "Try using .loc[row_indexer,col_indexer] = value instead\n",
      "\n",
      "See the caveats in the documentation: https://pandas.pydata.org/pandas-docs/stable/user_guide/indexing.html#returning-a-view-versus-a-copy\n",
      "  coco_cou.loc[:,'mid_price_delay']=coco_cou['mid_price'].shift(1).bfill()\n"
     ]
    }
   ],
   "execution_count": 14
  },
  {
   "metadata": {
    "ExecuteTime": {
     "end_time": "2024-04-21T03:49:34.372443Z",
     "start_time": "2024-04-21T03:49:34.297074Z"
    }
   },
   "cell_type": "code",
   "source": "coco_cou",
   "id": "12f3f659c9177c62",
   "outputs": [
    {
     "data": {
      "text/plain": [
       "                      product  bid_price_1  bid_volume_1  bid_price_2  \\\n",
       "day timestamp                                                           \n",
       "1   0          COCONUT_COUPON        637.0          39.0          NaN   \n",
       "    100        COCONUT_COUPON        637.0          33.0          NaN   \n",
       "    200        COCONUT_COUPON        637.0          42.0          NaN   \n",
       "    300        COCONUT_COUPON        638.0          30.0          NaN   \n",
       "    400        COCONUT_COUPON        637.0          33.0          NaN   \n",
       "...                       ...          ...           ...          ...   \n",
       "3   999500     COCONUT_COUPON        577.0          45.0          NaN   \n",
       "    999600     COCONUT_COUPON        577.0          30.0          NaN   \n",
       "    999700     COCONUT_COUPON        575.0          40.0          NaN   \n",
       "    999800     COCONUT_COUPON        575.0          30.0          NaN   \n",
       "    999900     COCONUT_COUPON        575.0          43.0          NaN   \n",
       "\n",
       "               bid_volume_2  bid_price_3  bid_volume_3  ask_price_1  \\\n",
       "day timestamp                                                         \n",
       "1   0                   NaN          NaN           NaN          638   \n",
       "    100                 NaN          NaN           NaN          638   \n",
       "    200                 NaN          NaN           NaN          638   \n",
       "    300                 NaN          NaN           NaN          639   \n",
       "    400                 NaN          NaN           NaN          638   \n",
       "...                     ...          ...           ...          ...   \n",
       "3   999500              NaN          NaN           NaN          578   \n",
       "    999600              NaN          NaN           NaN          578   \n",
       "    999700              NaN          NaN           NaN          576   \n",
       "    999800              NaN          NaN           NaN          576   \n",
       "    999900              NaN          NaN           NaN          576   \n",
       "\n",
       "               ask_volume_1  ask_price_2  ask_volume_2  ask_price_3  \\\n",
       "day timestamp                                                         \n",
       "1   0                    39          NaN           NaN          NaN   \n",
       "    100                  33          NaN           NaN          NaN   \n",
       "    200                  42          NaN           NaN          NaN   \n",
       "    300                  30          NaN           NaN          NaN   \n",
       "    400                  33          NaN           NaN          NaN   \n",
       "...                     ...          ...           ...          ...   \n",
       "3   999500               45          NaN           NaN          NaN   \n",
       "    999600               30          NaN           NaN          NaN   \n",
       "    999700               40          NaN           NaN          NaN   \n",
       "    999800               44          NaN           NaN          NaN   \n",
       "    999900               43          NaN           NaN          NaN   \n",
       "\n",
       "               ask_volume_3  mid_price  profit_and_loss  mid_price_delay  \n",
       "day timestamp                                                             \n",
       "1   0                   NaN      637.5              0.0            637.5  \n",
       "    100                 NaN      637.5              0.0            637.5  \n",
       "    200                 NaN      637.5              0.0            637.5  \n",
       "    300                 NaN      638.5              0.0            637.5  \n",
       "    400                 NaN      637.5              0.0            638.5  \n",
       "...                     ...        ...              ...              ...  \n",
       "3   999500              NaN      577.5              0.0            577.5  \n",
       "    999600              NaN      577.5              0.0            577.5  \n",
       "    999700              NaN      575.5              0.0            577.5  \n",
       "    999800              NaN      575.5              0.0            575.5  \n",
       "    999900              NaN      575.5              0.0            575.5  \n",
       "\n",
       "[30000 rows x 16 columns]"
      ],
      "text/html": [
       "<div>\n",
       "<style scoped>\n",
       "    .dataframe tbody tr th:only-of-type {\n",
       "        vertical-align: middle;\n",
       "    }\n",
       "\n",
       "    .dataframe tbody tr th {\n",
       "        vertical-align: top;\n",
       "    }\n",
       "\n",
       "    .dataframe thead th {\n",
       "        text-align: right;\n",
       "    }\n",
       "</style>\n",
       "<table border=\"1\" class=\"dataframe\">\n",
       "  <thead>\n",
       "    <tr style=\"text-align: right;\">\n",
       "      <th></th>\n",
       "      <th></th>\n",
       "      <th>product</th>\n",
       "      <th>bid_price_1</th>\n",
       "      <th>bid_volume_1</th>\n",
       "      <th>bid_price_2</th>\n",
       "      <th>bid_volume_2</th>\n",
       "      <th>bid_price_3</th>\n",
       "      <th>bid_volume_3</th>\n",
       "      <th>ask_price_1</th>\n",
       "      <th>ask_volume_1</th>\n",
       "      <th>ask_price_2</th>\n",
       "      <th>ask_volume_2</th>\n",
       "      <th>ask_price_3</th>\n",
       "      <th>ask_volume_3</th>\n",
       "      <th>mid_price</th>\n",
       "      <th>profit_and_loss</th>\n",
       "      <th>mid_price_delay</th>\n",
       "    </tr>\n",
       "    <tr>\n",
       "      <th>day</th>\n",
       "      <th>timestamp</th>\n",
       "      <th></th>\n",
       "      <th></th>\n",
       "      <th></th>\n",
       "      <th></th>\n",
       "      <th></th>\n",
       "      <th></th>\n",
       "      <th></th>\n",
       "      <th></th>\n",
       "      <th></th>\n",
       "      <th></th>\n",
       "      <th></th>\n",
       "      <th></th>\n",
       "      <th></th>\n",
       "      <th></th>\n",
       "      <th></th>\n",
       "      <th></th>\n",
       "    </tr>\n",
       "  </thead>\n",
       "  <tbody>\n",
       "    <tr>\n",
       "      <th rowspan=\"5\" valign=\"top\">1</th>\n",
       "      <th>0</th>\n",
       "      <td>COCONUT_COUPON</td>\n",
       "      <td>637.0</td>\n",
       "      <td>39.0</td>\n",
       "      <td>NaN</td>\n",
       "      <td>NaN</td>\n",
       "      <td>NaN</td>\n",
       "      <td>NaN</td>\n",
       "      <td>638</td>\n",
       "      <td>39</td>\n",
       "      <td>NaN</td>\n",
       "      <td>NaN</td>\n",
       "      <td>NaN</td>\n",
       "      <td>NaN</td>\n",
       "      <td>637.5</td>\n",
       "      <td>0.0</td>\n",
       "      <td>637.5</td>\n",
       "    </tr>\n",
       "    <tr>\n",
       "      <th>100</th>\n",
       "      <td>COCONUT_COUPON</td>\n",
       "      <td>637.0</td>\n",
       "      <td>33.0</td>\n",
       "      <td>NaN</td>\n",
       "      <td>NaN</td>\n",
       "      <td>NaN</td>\n",
       "      <td>NaN</td>\n",
       "      <td>638</td>\n",
       "      <td>33</td>\n",
       "      <td>NaN</td>\n",
       "      <td>NaN</td>\n",
       "      <td>NaN</td>\n",
       "      <td>NaN</td>\n",
       "      <td>637.5</td>\n",
       "      <td>0.0</td>\n",
       "      <td>637.5</td>\n",
       "    </tr>\n",
       "    <tr>\n",
       "      <th>200</th>\n",
       "      <td>COCONUT_COUPON</td>\n",
       "      <td>637.0</td>\n",
       "      <td>42.0</td>\n",
       "      <td>NaN</td>\n",
       "      <td>NaN</td>\n",
       "      <td>NaN</td>\n",
       "      <td>NaN</td>\n",
       "      <td>638</td>\n",
       "      <td>42</td>\n",
       "      <td>NaN</td>\n",
       "      <td>NaN</td>\n",
       "      <td>NaN</td>\n",
       "      <td>NaN</td>\n",
       "      <td>637.5</td>\n",
       "      <td>0.0</td>\n",
       "      <td>637.5</td>\n",
       "    </tr>\n",
       "    <tr>\n",
       "      <th>300</th>\n",
       "      <td>COCONUT_COUPON</td>\n",
       "      <td>638.0</td>\n",
       "      <td>30.0</td>\n",
       "      <td>NaN</td>\n",
       "      <td>NaN</td>\n",
       "      <td>NaN</td>\n",
       "      <td>NaN</td>\n",
       "      <td>639</td>\n",
       "      <td>30</td>\n",
       "      <td>NaN</td>\n",
       "      <td>NaN</td>\n",
       "      <td>NaN</td>\n",
       "      <td>NaN</td>\n",
       "      <td>638.5</td>\n",
       "      <td>0.0</td>\n",
       "      <td>637.5</td>\n",
       "    </tr>\n",
       "    <tr>\n",
       "      <th>400</th>\n",
       "      <td>COCONUT_COUPON</td>\n",
       "      <td>637.0</td>\n",
       "      <td>33.0</td>\n",
       "      <td>NaN</td>\n",
       "      <td>NaN</td>\n",
       "      <td>NaN</td>\n",
       "      <td>NaN</td>\n",
       "      <td>638</td>\n",
       "      <td>33</td>\n",
       "      <td>NaN</td>\n",
       "      <td>NaN</td>\n",
       "      <td>NaN</td>\n",
       "      <td>NaN</td>\n",
       "      <td>637.5</td>\n",
       "      <td>0.0</td>\n",
       "      <td>638.5</td>\n",
       "    </tr>\n",
       "    <tr>\n",
       "      <th>...</th>\n",
       "      <th>...</th>\n",
       "      <td>...</td>\n",
       "      <td>...</td>\n",
       "      <td>...</td>\n",
       "      <td>...</td>\n",
       "      <td>...</td>\n",
       "      <td>...</td>\n",
       "      <td>...</td>\n",
       "      <td>...</td>\n",
       "      <td>...</td>\n",
       "      <td>...</td>\n",
       "      <td>...</td>\n",
       "      <td>...</td>\n",
       "      <td>...</td>\n",
       "      <td>...</td>\n",
       "      <td>...</td>\n",
       "      <td>...</td>\n",
       "    </tr>\n",
       "    <tr>\n",
       "      <th rowspan=\"5\" valign=\"top\">3</th>\n",
       "      <th>999500</th>\n",
       "      <td>COCONUT_COUPON</td>\n",
       "      <td>577.0</td>\n",
       "      <td>45.0</td>\n",
       "      <td>NaN</td>\n",
       "      <td>NaN</td>\n",
       "      <td>NaN</td>\n",
       "      <td>NaN</td>\n",
       "      <td>578</td>\n",
       "      <td>45</td>\n",
       "      <td>NaN</td>\n",
       "      <td>NaN</td>\n",
       "      <td>NaN</td>\n",
       "      <td>NaN</td>\n",
       "      <td>577.5</td>\n",
       "      <td>0.0</td>\n",
       "      <td>577.5</td>\n",
       "    </tr>\n",
       "    <tr>\n",
       "      <th>999600</th>\n",
       "      <td>COCONUT_COUPON</td>\n",
       "      <td>577.0</td>\n",
       "      <td>30.0</td>\n",
       "      <td>NaN</td>\n",
       "      <td>NaN</td>\n",
       "      <td>NaN</td>\n",
       "      <td>NaN</td>\n",
       "      <td>578</td>\n",
       "      <td>30</td>\n",
       "      <td>NaN</td>\n",
       "      <td>NaN</td>\n",
       "      <td>NaN</td>\n",
       "      <td>NaN</td>\n",
       "      <td>577.5</td>\n",
       "      <td>0.0</td>\n",
       "      <td>577.5</td>\n",
       "    </tr>\n",
       "    <tr>\n",
       "      <th>999700</th>\n",
       "      <td>COCONUT_COUPON</td>\n",
       "      <td>575.0</td>\n",
       "      <td>40.0</td>\n",
       "      <td>NaN</td>\n",
       "      <td>NaN</td>\n",
       "      <td>NaN</td>\n",
       "      <td>NaN</td>\n",
       "      <td>576</td>\n",
       "      <td>40</td>\n",
       "      <td>NaN</td>\n",
       "      <td>NaN</td>\n",
       "      <td>NaN</td>\n",
       "      <td>NaN</td>\n",
       "      <td>575.5</td>\n",
       "      <td>0.0</td>\n",
       "      <td>577.5</td>\n",
       "    </tr>\n",
       "    <tr>\n",
       "      <th>999800</th>\n",
       "      <td>COCONUT_COUPON</td>\n",
       "      <td>575.0</td>\n",
       "      <td>30.0</td>\n",
       "      <td>NaN</td>\n",
       "      <td>NaN</td>\n",
       "      <td>NaN</td>\n",
       "      <td>NaN</td>\n",
       "      <td>576</td>\n",
       "      <td>44</td>\n",
       "      <td>NaN</td>\n",
       "      <td>NaN</td>\n",
       "      <td>NaN</td>\n",
       "      <td>NaN</td>\n",
       "      <td>575.5</td>\n",
       "      <td>0.0</td>\n",
       "      <td>575.5</td>\n",
       "    </tr>\n",
       "    <tr>\n",
       "      <th>999900</th>\n",
       "      <td>COCONUT_COUPON</td>\n",
       "      <td>575.0</td>\n",
       "      <td>43.0</td>\n",
       "      <td>NaN</td>\n",
       "      <td>NaN</td>\n",
       "      <td>NaN</td>\n",
       "      <td>NaN</td>\n",
       "      <td>576</td>\n",
       "      <td>43</td>\n",
       "      <td>NaN</td>\n",
       "      <td>NaN</td>\n",
       "      <td>NaN</td>\n",
       "      <td>NaN</td>\n",
       "      <td>575.5</td>\n",
       "      <td>0.0</td>\n",
       "      <td>575.5</td>\n",
       "    </tr>\n",
       "  </tbody>\n",
       "</table>\n",
       "<p>30000 rows × 16 columns</p>\n",
       "</div>"
      ]
     },
     "execution_count": 15,
     "metadata": {},
     "output_type": "execute_result"
    }
   ],
   "execution_count": 15
  },
  {
   "metadata": {
    "ExecuteTime": {
     "end_time": "2024-04-21T03:49:35.579965Z",
     "start_time": "2024-04-21T03:49:34.374463Z"
    }
   },
   "cell_type": "code",
   "source": [
    "from utils import ols\n",
    "ols_res = ols(coco.loc[:,'mid_price'],coco_cou.loc[:,['mid_price']],intercept=True)"
   ],
   "id": "a1dbae928076c97c",
   "outputs": [],
   "execution_count": 16
  },
  {
   "metadata": {
    "ExecuteTime": {
     "end_time": "2024-04-21T03:49:35.687585Z",
     "start_time": "2024-04-21T03:49:35.582478Z"
    }
   },
   "cell_type": "code",
   "source": "ols_res",
   "id": "5349b2ba471a02",
   "outputs": [
    {
     "data": {
      "text/plain": [
       "{'coefficients': array([1.82459034]),\n",
       " 'intercept': 8841.201392746636,\n",
       " 't_stats': array([4395.78098955,  577.64552084]),\n",
       " 'p_values': array([0., 0.]),\n",
       " 'R2': 0.9175136625440903,\n",
       " 'residuals': array([-4.37773738, -4.87773738, -5.87773738, ..., -7.75313602,\n",
       "        -7.25313602, -8.75313602])}"
      ]
     },
     "execution_count": 17,
     "metadata": {},
     "output_type": "execute_result"
    }
   ],
   "execution_count": 17
  },
  {
   "metadata": {
    "ExecuteTime": {
     "end_time": "2024-04-21T03:49:35.766098Z",
     "start_time": "2024-04-21T03:49:35.688594Z"
    }
   },
   "cell_type": "code",
   "source": "ols2_res = ols(coco_cou.loc[:,'mid_price'],coco.loc[:,['mid_price']],intercept=True)",
   "id": "b667ffff2548158b",
   "outputs": [],
   "execution_count": 18
  },
  {
   "metadata": {
    "ExecuteTime": {
     "end_time": "2024-04-21T03:49:35.857111Z",
     "start_time": "2024-04-21T03:49:35.767107Z"
    }
   },
   "cell_type": "code",
   "source": "ols2_res",
   "id": "cfedf8192c8b05e6",
   "outputs": [
    {
     "data": {
      "text/plain": [
       "{'coefficients': array([0.50286009]),\n",
       " 'intercept': -4393.50466244335,\n",
       " 't_stats': array([-504.67585781,  577.64552084]),\n",
       " 'p_values': array([0., 0.]),\n",
       " 'R2': 0.9175136625440905,\n",
       " 'residuals': array([ 2.40377514,  2.65520518,  3.15806527, ..., -1.01302453,\n",
       "        -1.26445457, -0.51016444])}"
      ]
     },
     "execution_count": 19,
     "metadata": {},
     "output_type": "execute_result"
    }
   ],
   "execution_count": 19
  },
  {
   "metadata": {
    "ExecuteTime": {
     "end_time": "2024-04-21T03:49:36.117324Z",
     "start_time": "2024-04-21T03:49:35.859118Z"
    }
   },
   "cell_type": "code",
   "source": [
    "plt.plot(ols_res['residuals'])\n",
    "# plt.plot(-ols2_res['residuals'])"
   ],
   "id": "35cf503d97c8e888",
   "outputs": [
    {
     "data": {
      "text/plain": [
       "[<matplotlib.lines.Line2D at 0x2334b881a00>]"
      ]
     },
     "execution_count": 20,
     "metadata": {},
     "output_type": "execute_result"
    },
    {
     "data": {
      "text/plain": [
       "<Figure size 640x480 with 1 Axes>"
      ],
      "image/png": "[encoded data removed]"
     },
     "metadata": {},
     "output_type": "display_data"
    }
   ],
   "execution_count": 20
  },
  {
   "metadata": {
    "ExecuteTime": {
     "end_time": "2024-04-20T12:06:23.338898Z",
     "start_time": "2024-04-20T12:06:23.288643Z"
    }
   },
   "cell_type": "code",
   "source": "np.mean(ols_res['residuals'])",
   "id": "6c8515fcd4070342",
   "outputs": [
    {
     "data": {
      "text/plain": [
       "1.106915685037772e-12"
      ]
     },
     "execution_count": 211,
     "metadata": {},
     "output_type": "execute_result"
    }
   ],
   "execution_count": 211
  },
  {
   "metadata": {
    "ExecuteTime": {
     "end_time": "2024-04-20T12:06:43.466861Z",
     "start_time": "2024-04-20T12:06:43.418234Z"
    }
   },
   "cell_type": "code",
   "source": "np.std(ols_res['residuals'])",
   "id": "5849bdd287923cb4",
   "outputs": [
    {
     "data": {
      "text/plain": [
       "25.490151318439462"
      ]
     },
     "execution_count": 212,
     "metadata": {},
     "output_type": "execute_result"
    }
   ],
   "execution_count": 212
  },
  {
   "metadata": {
    "ExecuteTime": {
     "end_time": "2024-04-20T13:07:46.202424Z",
     "start_time": "2024-04-20T13:07:46.148934Z"
    }
   },
   "cell_type": "code",
   "source": "np.mean(ols2_res['residuals'])",
   "id": "8e9e42e3975299e1",
   "outputs": [
    {
     "data": {
      "text/plain": [
       "9.503613303725918e-13"
      ]
     },
     "execution_count": 228,
     "metadata": {},
     "output_type": "execute_result"
    }
   ],
   "execution_count": 228
  },
  {
   "metadata": {
    "ExecuteTime": {
     "end_time": "2024-04-20T13:07:48.299773Z",
     "start_time": "2024-04-20T13:07:48.233898Z"
    }
   },
   "cell_type": "code",
   "source": "np.std(ols2_res['residuals'])",
   "id": "2c47419b33746b0f",
   "outputs": [
    {
     "data": {
      "text/plain": [
       "13.381762301052223"
      ]
     },
     "execution_count": 229,
     "metadata": {},
     "output_type": "execute_result"
    }
   ],
   "execution_count": 229
  },
  {
   "metadata": {
    "ExecuteTime": {
     "end_time": "2024-04-21T03:56:30.965482Z",
     "start_time": "2024-04-21T03:56:30.721936Z"
    }
   },
   "cell_type": "code",
   "source": [
    "plt.plot(ols_res['residuals'])\n",
    "plt.hlines(np.std(ols_res['residuals'])*0.7,0,30_000,colors='r')\n",
    "plt.hlines(-np.std(ols_res['residuals'])*0.7,0,30_000,colors='r')"
   ],
   "id": "c2aa6b42bf57243c",
   "outputs": [
    {
     "data": {
      "text/plain": [
       "<matplotlib.collections.LineCollection at 0x2334bab0770>"
      ]
     },
     "execution_count": 22,
     "metadata": {},
     "output_type": "execute_result"
    },
    {
     "data": {
      "text/plain": [
       "<Figure size 640x480 with 1 Axes>"
      ],
      "image/png": "[encoded data removed]"
     },
     "metadata": {},
     "output_type": "display_data"
    }
   ],
   "execution_count": 22
  },
  {
   "metadata": {
    "ExecuteTime": {
     "end_time": "2024-04-20T12:19:42.834931Z",
     "start_time": "2024-04-20T12:19:42.780104Z"
    }
   },
   "cell_type": "code",
   "source": "np.diff(ols_res['residuals'][900:950][::-1])",
   "id": "b2c67d02f49d3c37",
   "outputs": [
    {
     "data": {
      "text/plain": [
       "array([-0.32459034, -2.        ,  1.32459034, -0.5       ,  1.32459034,\n",
       "       -1.5       ,  1.82459034,  0.        ,  1.        , -0.82459034,\n",
       "       -2.32459034,  0.32459034,  1.32459034, -0.82459034,  0.        ,\n",
       "       -1.64918069,  2.64918069,  0.        , -1.5       , -0.5       ,\n",
       "        1.        , -2.32459034,  0.82459034, -0.5       , -2.32459034,\n",
       "       -3.14918069, -3.64918069,  1.5       ,  1.82459034,  1.08770483,\n",
       "        2.73688552,  0.73688552,  2.73688552, -1.82459034, -1.        ,\n",
       "        2.        , -1.82459034, -0.91229517, -2.73688552,  3.14918069,\n",
       "       -0.5       , -2.82459034,  0.        ,  1.23688552,  0.58770483,\n",
       "        0.32459034, -1.32459034,  1.        , -1.        ])"
      ]
     },
     "execution_count": 224,
     "metadata": {},
     "output_type": "execute_result"
    }
   ],
   "execution_count": 224
  },
  {
   "metadata": {
    "ExecuteTime": {
     "end_time": "2024-04-20T11:45:11.923526Z",
     "start_time": "2024-04-20T11:45:11.853663Z"
    }
   },
   "cell_type": "code",
   "source": [
    "import statsmodels.api as sm\n",
    "ar_model = sm.tsa.AutoReg(ols_res['residuals'], lags=1).fit()"
   ],
   "id": "c7d2ef9f3749e61f",
   "outputs": [],
   "execution_count": 205
  },
  {
   "metadata": {
    "ExecuteTime": {
     "end_time": "2024-04-20T11:45:16.762569Z",
     "start_time": "2024-04-20T11:45:16.691269Z"
    }
   },
   "cell_type": "code",
   "source": "ar_model.summary()",
   "id": "e3c03cab1e6c978d",
   "outputs": [
    {
     "data": {
      "text/plain": [
       "<class 'statsmodels.iolib.summary.Summary'>\n",
       "\"\"\"\n",
       "                            AutoReg Model Results                             \n",
       "==============================================================================\n",
       "Dep. Variable:                      y   No. Observations:                30000\n",
       "Model:                     AutoReg(1)   Log Likelihood              -62430.926\n",
       "Method:               Conditional MLE   S.D. of innovations              1.939\n",
       "Date:                Sat, 20 Apr 2024   AIC                         124867.851\n",
       "Time:                        07:45:16   BIC                         124892.778\n",
       "Sample:                             1   HQIC                        124875.849\n",
       "                                30000                                         \n",
       "==============================================================================\n",
       "                 coef    std err          z      P>|z|      [0.025      0.975]\n",
       "------------------------------------------------------------------------------\n",
       "const         -0.0001      0.011     -0.013      0.990      -0.022       0.022\n",
       "y.L1           0.9971      0.000   2270.385      0.000       0.996       0.998\n",
       "                                    Roots                                    \n",
       "=============================================================================\n",
       "                  Real          Imaginary           Modulus         Frequency\n",
       "-----------------------------------------------------------------------------\n",
       "AR.1            1.0029           +0.0000j            1.0029            0.0000\n",
       "-----------------------------------------------------------------------------\n",
       "\"\"\""
      ],
      "text/html": [
       "<table class=\"simpletable\">\n",
       "<caption>AutoReg Model Results</caption>\n",
       "<tr>\n",
       "  <th>Dep. Variable:</th>         <td>y</td>        <th>  No. Observations:  </th>    <td>30000</td>  \n",
       "</tr>\n",
       "<tr>\n",
       "  <th>Model:</th>            <td>AutoReg(1)</td>    <th>  Log Likelihood     </th> <td>-62430.926</td>\n",
       "</tr>\n",
       "<tr>\n",
       "  <th>Method:</th>         <td>Conditional MLE</td> <th>  S.D. of innovations</th>    <td>1.939</td>  \n",
       "</tr>\n",
       "<tr>\n",
       "  <th>Date:</th>          <td>Sat, 20 Apr 2024</td> <th>  AIC                </th> <td>124867.851</td>\n",
       "</tr>\n",
       "<tr>\n",
       "  <th>Time:</th>              <td>07:45:16</td>     <th>  BIC                </th> <td>124892.778</td>\n",
       "</tr>\n",
       "<tr>\n",
       "  <th>Sample:</th>                <td>1</td>        <th>  HQIC               </th> <td>124875.849</td>\n",
       "</tr>\n",
       "<tr>\n",
       "  <th></th>                     <td>30000</td>      <th>                     </th>      <td> </td>    \n",
       "</tr>\n",
       "</table>\n",
       "<table class=\"simpletable\">\n",
       "<tr>\n",
       "    <td></td>       <th>coef</th>     <th>std err</th>      <th>z</th>      <th>P>|z|</th>  <th>[0.025</th>    <th>0.975]</th>  \n",
       "</tr>\n",
       "<tr>\n",
       "  <th>const</th> <td>   -0.0001</td> <td>    0.011</td> <td>   -0.013</td> <td> 0.990</td> <td>   -0.022</td> <td>    0.022</td>\n",
       "</tr>\n",
       "<tr>\n",
       "  <th>y.L1</th>  <td>    0.9971</td> <td>    0.000</td> <td> 2270.385</td> <td> 0.000</td> <td>    0.996</td> <td>    0.998</td>\n",
       "</tr>\n",
       "</table>\n",
       "<table class=\"simpletable\">\n",
       "<caption>Roots</caption>\n",
       "<tr>\n",
       "    <td></td>   <th>            Real</th>  <th>         Imaginary</th> <th>         Modulus</th>  <th>        Frequency</th>\n",
       "</tr>\n",
       "<tr>\n",
       "  <th>AR.1</th> <td>           1.0029</td> <td>          +0.0000j</td> <td>           1.0029</td> <td>           0.0000</td>\n",
       "</tr>\n",
       "</table>"
      ],
      "text/latex": "\\begin{center}\n\\begin{tabular}{lclc}\n\\toprule\n\\textbf{Dep. Variable:} &             y             & \\textbf{  No. Observations:  } &           30000            \\\\\n\\textbf{Model:}         &         AutoReg(1)        & \\textbf{  Log Likelihood     } &         -62430.926         \\\\\n\\textbf{Method:}        &      Conditional MLE      & \\textbf{  S.D. of innovations} &           1.939            \\\\\n\\textbf{Date:}          &      Sat, 20 Apr 2024     & \\textbf{  AIC                } &         124867.851         \\\\\n\\textbf{Time:}          &          07:45:16         & \\textbf{  BIC                } &         124892.778         \\\\\n\\textbf{Sample:}        &             1             & \\textbf{  HQIC               } &         124875.849         \\\\\n\\textbf{}               &           30000           & \\textbf{                     } &                            \\\\\n\\bottomrule\n\\end{tabular}\n\\begin{tabular}{lcccccc}\n               & \\textbf{coef} & \\textbf{std err} & \\textbf{z} & \\textbf{P$> |$z$|$} & \\textbf{[0.025} & \\textbf{0.975]}  \\\\\n\\midrule\n\\textbf{const} &      -0.0001  &        0.011     &    -0.013  &         0.990        &       -0.022    &        0.022     \\\\\n\\textbf{y.L1}  &       0.9971  &        0.000     &  2270.385  &         0.000        &        0.996    &        0.998     \\\\\n\\bottomrule\n\\end{tabular}\n\\begin{tabular}{lcccc}\n              & \\textbf{            Real} & \\textbf{         Imaginary} & \\textbf{         Modulus} & \\textbf{        Frequency}  \\\\\n\\midrule\n\\textbf{AR.1} &                1.0029     &                +0.0000j     &                1.0029     &                0.0000       \\\\\n\\bottomrule\n\\end{tabular}\n%\\caption{AutoReg Model Results}\n\\end{center}"
     },
     "execution_count": 206,
     "metadata": {},
     "output_type": "execute_result"
    }
   ],
   "execution_count": 206
  },
  {
   "metadata": {
    "ExecuteTime": {
     "end_time": "2024-04-20T11:40:12.535675Z",
     "start_time": "2024-04-20T11:40:12.463072Z"
    }
   },
   "cell_type": "code",
   "source": "ols2_res",
   "id": "388585582f1c71b1",
   "outputs": [
    {
     "data": {
      "text/plain": [
       "{'coefficients': array([1.82459034, 1.        ]),\n",
       " 'intercept': 8841.201392746649,\n",
       " 't_stats': array([7.33057340e+16, 9.63303881e+15, 2.88833824e+15]),\n",
       " 'p_values': array([0., 0., 0.]),\n",
       " 'R2': 1.0,\n",
       " 'residuals': array([1.8189894e-12, 1.8189894e-12, 1.8189894e-12, ..., 0.0000000e+00,\n",
       "        0.0000000e+00, 0.0000000e+00])}"
      ]
     },
     "execution_count": 203,
     "metadata": {},
     "output_type": "execute_result"
    }
   ],
   "execution_count": 203
  },
  {
   "metadata": {
    "ExecuteTime": {
     "end_time": "2024-04-21T03:49:59.192761Z",
     "start_time": "2024-04-21T03:49:58.575535Z"
    }
   },
   "cell_type": "code",
   "source": "plt.plot(np.diff(ols_res['residuals']))",
   "id": "fb7abbe551bd4000",
   "outputs": [
    {
     "data": {
      "text/plain": [
       "[<matplotlib.lines.Line2D at 0x2331d98d4c0>]"
      ]
     },
     "execution_count": 21,
     "metadata": {},
     "output_type": "execute_result"
    },
    {
     "data": {
      "text/plain": [
       "<Figure size 640x480 with 1 Axes>"
      ],
      "image/png": "[encoded data removed]"
     },
     "metadata": {},
     "output_type": "display_data"
    }
   ],
   "execution_count": 21
  },
  {
   "metadata": {
    "ExecuteTime": {
     "end_time": "2024-04-20T10:46:14.079496Z",
     "start_time": "2024-04-20T10:46:14.016029Z"
    }
   },
   "cell_type": "code",
   "source": "res_diff = np.diff(ols_res['residuals'])",
   "id": "8acab77ceceb77f9",
   "outputs": [],
   "execution_count": 182
  },
  {
   "metadata": {
    "ExecuteTime": {
     "end_time": "2024-04-20T10:46:18.680166Z",
     "start_time": "2024-04-20T10:46:18.487647Z"
    }
   },
   "cell_type": "code",
   "source": "plt.hist(res_diff,bins=100)",
   "id": "b458c43f6db733f0",
   "outputs": [
    {
     "data": {
      "text/plain": [
       "(array([3.000e+00, 1.000e+00, 3.000e+00, 0.000e+00, 5.000e+00, 5.000e+00,\n",
       "        1.000e+00, 2.300e+01, 8.000e+00, 4.000e+00, 4.200e+01, 6.000e+00,\n",
       "        3.000e+01, 9.000e+00, 4.800e+01, 7.000e+00, 9.500e+01, 8.200e+01,\n",
       "        2.000e+01, 1.920e+02, 1.040e+02, 5.600e+01, 3.700e+02, 7.900e+01,\n",
       "        1.610e+02, 8.100e+01, 4.830e+02, 4.700e+01, 5.200e+02, 4.410e+02,\n",
       "        1.080e+02, 7.970e+02, 4.670e+02, 2.010e+02, 1.381e+03, 3.000e+02,\n",
       "        4.970e+02, 2.230e+02, 1.321e+03, 1.600e+02, 1.373e+03, 1.100e+03,\n",
       "        2.360e+02, 1.512e+03, 9.020e+02, 3.240e+02, 2.083e+03, 4.830e+02,\n",
       "        6.120e+02, 1.850e+03, 1.750e+02, 1.280e+02, 1.408e+03, 1.040e+03,\n",
       "        2.050e+02, 1.458e+03, 4.640e+02, 1.990e+02, 1.423e+03, 3.030e+02,\n",
       "        3.340e+02, 9.950e+02, 7.100e+01, 7.100e+01, 5.540e+02, 4.230e+02,\n",
       "        7.400e+01, 5.060e+02, 1.540e+02, 5.600e+01, 3.730e+02, 7.500e+01,\n",
       "        6.300e+01, 2.190e+02, 1.100e+01, 2.100e+01, 9.500e+01, 8.000e+01,\n",
       "        7.000e+00, 5.700e+01, 1.500e+01, 3.000e+00, 2.900e+01, 6.000e+00,\n",
       "        6.000e+00, 2.100e+01, 0.000e+00, 0.000e+00, 7.000e+00, 7.000e+00,\n",
       "        0.000e+00, 3.000e+00, 2.000e+00, 0.000e+00, 0.000e+00, 1.000e+00,\n",
       "        0.000e+00, 0.000e+00, 0.000e+00, 1.000e+00]),\n",
       " array([-7.12295172, -6.97049269, -6.81803365, -6.66557462, -6.51311558,\n",
       "        -6.36065655, -6.20819752, -6.05573848, -5.90327945, -5.75082041,\n",
       "        -5.59836138, -5.44590234, -5.29344331, -5.14098427, -4.98852524,\n",
       "        -4.83606621, -4.68360717, -4.53114814, -4.3786891 , -4.22623007,\n",
       "        -4.07377103, -3.921312  , -3.76885296, -3.61639393, -3.4639349 ,\n",
       "        -3.31147586, -3.15901683, -3.00655779, -2.85409876, -2.70163972,\n",
       "        -2.54918069, -2.39672165, -2.24426262, -2.09180359, -1.93934455,\n",
       "        -1.78688552, -1.63442648, -1.48196745, -1.32950841, -1.17704938,\n",
       "        -1.02459034, -0.87213131, -0.71967228, -0.56721324, -0.41475421,\n",
       "        -0.26229517, -0.10983614,  0.0426229 ,  0.19508193,  0.34754097,\n",
       "         0.5       ,  0.65245903,  0.80491807,  0.9573771 ,  1.10983614,\n",
       "         1.26229517,  1.41475421,  1.56721324,  1.71967228,  1.87213131,\n",
       "         2.02459034,  2.17704938,  2.32950841,  2.48196745,  2.63442648,\n",
       "         2.78688552,  2.93934455,  3.09180359,  3.24426262,  3.39672165,\n",
       "         3.54918069,  3.70163972,  3.85409876,  4.00655779,  4.15901683,\n",
       "         4.31147586,  4.4639349 ,  4.61639393,  4.76885296,  4.921312  ,\n",
       "         5.07377103,  5.22623007,  5.3786891 ,  5.53114814,  5.68360717,\n",
       "         5.83606621,  5.98852524,  6.14098427,  6.29344331,  6.44590234,\n",
       "         6.59836138,  6.75082041,  6.90327945,  7.05573848,  7.20819752,\n",
       "         7.36065655,  7.51311558,  7.66557462,  7.81803365,  7.97049269,\n",
       "         8.12295172]),\n",
       " <BarContainer object of 100 artists>)"
      ]
     },
     "execution_count": 183,
     "metadata": {},
     "output_type": "execute_result"
    },
    {
     "data": {
      "text/plain": [
       "<Figure size 640x480 with 1 Axes>"
      ],
      "image/png": "[encoded data removed]"
     },
     "metadata": {},
     "output_type": "display_data"
    }
   ],
   "execution_count": 183
  },
  {
   "metadata": {
    "ExecuteTime": {
     "end_time": "2024-04-20T09:35:14.455367Z",
     "start_time": "2024-04-20T09:35:14.375025Z"
    }
   },
   "cell_type": "code",
   "source": [
    "# fit a MA1 model on the np.diff(residuals)\n",
    "from statsmodels.tsa.arima.model import ARIMA\n",
    "model = ARIMA(ols_res['residuals'][:10000],order=(0,1,1))"
   ],
   "id": "5f20610b3ab37de6",
   "outputs": [],
   "execution_count": 167
  },
  {
   "metadata": {
    "ExecuteTime": {
     "end_time": "2024-04-20T09:35:16.467389Z",
     "start_time": "2024-04-20T09:35:15.925650Z"
    }
   },
   "cell_type": "code",
   "source": "model_fit = model.fit()",
   "id": "dbc2f8ecde86772",
   "outputs": [],
   "execution_count": 168
  },
  {
   "metadata": {
    "ExecuteTime": {
     "end_time": "2024-04-20T09:35:16.550054Z",
     "start_time": "2024-04-20T09:35:16.467389Z"
    }
   },
   "cell_type": "code",
   "source": "print(model_fit.summary())",
   "id": "e75cf2febeab2408",
   "outputs": [
    {
     "name": "stdout",
     "output_type": "stream",
     "text": [
      "                               SARIMAX Results                                \n",
      "==============================================================================\n",
      "Dep. Variable:                      y   No. Observations:                10000\n",
      "Model:                 ARIMA(0, 1, 1)   Log Likelihood              -20881.417\n",
      "Date:                Sat, 20 Apr 2024   AIC                          41766.835\n",
      "Time:                        05:35:16   BIC                          41781.255\n",
      "Sample:                             0   HQIC                         41771.716\n",
      "                              - 10000                                         \n",
      "Covariance Type:                  opg                                         \n",
      "==============================================================================\n",
      "                 coef    std err          z      P>|z|      [0.025      0.975]\n",
      "------------------------------------------------------------------------------\n",
      "ma.L1         -0.0687      0.010     -6.892      0.000      -0.088      -0.049\n",
      "sigma2         3.8145      0.055     68.992      0.000       3.706       3.923\n",
      "===================================================================================\n",
      "Ljung-Box (L1) (Q):                   0.01   Jarque-Bera (JB):                 4.42\n",
      "Prob(Q):                              0.91   Prob(JB):                         0.11\n",
      "Heteroskedasticity (H):               1.05   Skew:                             0.02\n",
      "Prob(H) (two-sided):                  0.19   Kurtosis:                         2.90\n",
      "===================================================================================\n",
      "\n",
      "Warnings:\n",
      "[1] Covariance matrix calculated using the outer product of gradients (complex-step).\n"
     ]
    }
   ],
   "execution_count": 169
  },
  {
   "metadata": {
    "ExecuteTime": {
     "end_time": "2024-04-20T09:41:22.707237Z",
     "start_time": "2024-04-20T09:41:22.028991Z"
    }
   },
   "cell_type": "code",
   "source": "plt.plot(model_fit.predict())",
   "id": "e7a98254ef7ec9f4",
   "outputs": [
    {
     "data": {
      "text/plain": [
       "[<matplotlib.lines.Line2D at 0x1363f0aff80>]"
      ]
     },
     "execution_count": 175,
     "metadata": {},
     "output_type": "execute_result"
    },
    {
     "data": {
      "text/plain": [
       "<Figure size 640x480 with 1 Axes>"
      ],
      "image/png": "[encoded data removed]"
     },
     "metadata": {},
     "output_type": "display_data"
    }
   ],
   "execution_count": 175
  },
  {
   "metadata": {
    "ExecuteTime": {
     "end_time": "2024-04-20T09:46:44.111260Z",
     "start_time": "2024-04-20T09:46:44.048510Z"
    }
   },
   "cell_type": "code",
   "source": "ols_res['residuals'][10002]-ols_res['residuals'][10001]",
   "id": "15f8fc855e0283c0",
   "outputs": [
    {
     "data": {
      "text/plain": [
       "0.5"
      ]
     },
     "execution_count": 176,
     "metadata": {},
     "output_type": "execute_result"
    }
   ],
   "execution_count": 176
  },
  {
   "metadata": {
    "ExecuteTime": {
     "end_time": "2024-04-20T09:32:40.232978Z",
     "start_time": "2024-04-20T09:32:33.955585Z"
    }
   },
   "cell_type": "code",
   "source": [
    "# fit a MA1 model on the np.diff(residuals)\n",
    "from statsmodels.tsa.arima.model import ARIMA\n",
    "\n",
    "model = ARIMA(ols_res['residuals'], order=(1, 0, 1))\n",
    "model_fit = model.fit()\n",
    "print(model_fit.summary())"
   ],
   "id": "7c487e661e8a96f3",
   "outputs": [
    {
     "name": "stdout",
     "output_type": "stream",
     "text": [
      "                               SARIMAX Results                                \n",
      "==============================================================================\n",
      "Dep. Variable:                      y   No. Observations:                30000\n",
      "Model:                 ARIMA(1, 0, 1)   Log Likelihood              -62353.241\n",
      "Date:                Sat, 20 Apr 2024   AIC                         124714.481\n",
      "Time:                        05:32:35   BIC                         124747.717\n",
      "Sample:                             0   HQIC                        124725.145\n",
      "                              - 30000                                         \n",
      "Covariance Type:                  opg                                         \n",
      "==============================================================================\n",
      "                 coef    std err          z      P>|z|      [0.025      0.975]\n",
      "------------------------------------------------------------------------------\n",
      "const      -7.075e-07      4.184  -1.69e-07      1.000      -8.201       8.201\n",
      "ar.L1          0.9975      0.000   2459.873      0.000       0.997       0.998\n",
      "ma.L1         -0.0744      0.006    -12.899      0.000      -0.086      -0.063\n",
      "sigma2         3.7391      0.031    120.817      0.000       3.678       3.800\n",
      "===================================================================================\n",
      "Ljung-Box (L1) (Q):                   0.00   Jarque-Bera (JB):                 5.27\n",
      "Prob(Q):                              0.97   Prob(JB):                         0.07\n",
      "Heteroskedasticity (H):               0.98   Skew:                            -0.02\n",
      "Prob(H) (two-sided):                  0.21   Kurtosis:                         2.95\n",
      "===================================================================================\n",
      "\n",
      "Warnings:\n",
      "[1] Covariance matrix calculated using the outer product of gradients (complex-step).\n"
     ]
    }
   ],
   "execution_count": 165
  },
  {
   "metadata": {
    "ExecuteTime": {
     "end_time": "2024-04-20T09:31:26.322819Z",
     "start_time": "2024-04-20T09:31:26.268863Z"
    }
   },
   "cell_type": "code",
   "source": "model_fit.params",
   "id": "cc38487842d60841",
   "outputs": [
    {
     "data": {
      "text/plain": [
       "array([-0.07573048,  3.74385762])"
      ]
     },
     "execution_count": 162,
     "metadata": {},
     "output_type": "execute_result"
    }
   ],
   "execution_count": 162
  },
  {
   "metadata": {
    "ExecuteTime": {
     "end_time": "2024-04-20T09:31:26.375126Z",
     "start_time": "2024-04-20T09:31:26.322819Z"
    }
   },
   "cell_type": "code",
   "source": "model_fit.param_names",
   "id": "b32df839809687d9",
   "outputs": [
    {
     "data": {
      "text/plain": [
       "['ma.L1', 'sigma2']"
      ]
     },
     "execution_count": 163,
     "metadata": {},
     "output_type": "execute_result"
    }
   ],
   "execution_count": 163
  },
  {
   "metadata": {
    "ExecuteTime": {
     "end_time": "2024-04-20T09:31:26.441616Z",
     "start_time": "2024-04-20T09:31:26.375126Z"
    }
   },
   "cell_type": "code",
   "source": [
    "a={}\n",
    "list(a.keys())[0]"
   ],
   "id": "6fdd57c7e316d86b",
   "outputs": [
    {
     "ename": "IndexError",
     "evalue": "list index out of range",
     "output_type": "error",
     "traceback": [
      "\u001B[1;31m---------------------------------------------------------------------------\u001B[0m",
      "\u001B[1;31mIndexError\u001B[0m                                Traceback (most recent call last)",
      "Cell \u001B[1;32mIn[164], line 2\u001B[0m\n\u001B[0;32m      1\u001B[0m a\u001B[38;5;241m=\u001B[39m{}\n\u001B[1;32m----> 2\u001B[0m \u001B[38;5;28;43mlist\u001B[39;49m\u001B[43m(\u001B[49m\u001B[43ma\u001B[49m\u001B[38;5;241;43m.\u001B[39;49m\u001B[43mkeys\u001B[49m\u001B[43m(\u001B[49m\u001B[43m)\u001B[49m\u001B[43m)\u001B[49m\u001B[43m[\u001B[49m\u001B[38;5;241;43m0\u001B[39;49m\u001B[43m]\u001B[49m\n",
      "\u001B[1;31mIndexError\u001B[0m: list index out of range"
     ]
    }
   ],
   "execution_count": 164
  },
  {
   "metadata": {},
   "cell_type": "code",
   "source": "model_fit.plot_diagnostics()",
   "id": "3157f146173bfb98",
   "outputs": [],
   "execution_count": null
  },
  {
   "metadata": {
    "ExecuteTime": {
     "end_time": "2024-04-20T09:31:26.441616Z",
     "start_time": "2024-04-20T09:31:26.441616Z"
    }
   },
   "cell_type": "code",
   "source": "",
   "id": "953702ea54159b9c",
   "outputs": [],
   "execution_count": null
  },
  {
   "metadata": {
    "ExecuteTime": {
     "end_time": "2024-04-20T09:31:26.441616Z",
     "start_time": "2024-04-20T09:31:26.441616Z"
    }
   },
   "cell_type": "code",
   "source": "plt.hist(model_fit.resid,bins=100)",
   "id": "cde986bad485a2ec",
   "outputs": [],
   "execution_count": null
  },
  {
   "metadata": {},
   "cell_type": "code",
   "source": "spread = coco.loc[:,'mid_price']-ols_res['intercept'] - coco_cou.loc[:,'mid_price'] * ols_res['coefficients'][0]",
   "id": "fb012e8f2ee8e4ce",
   "outputs": [],
   "execution_count": null
  },
  {
   "metadata": {},
   "cell_type": "code",
   "source": "spread.plot()",
   "id": "154428217edf5fd7",
   "outputs": [],
   "execution_count": null
  },
  {
   "metadata": {},
   "cell_type": "code",
   "source": [
    "# extending window standard deviation\n",
    "spread.rolling(100).std().plot()"
   ],
   "id": "352e5ad2a454b395",
   "outputs": [],
   "execution_count": null
  },
  {
   "metadata": {},
   "cell_type": "markdown",
   "source": [
    "# Method 2: Implied volatility\n",
    "## given coconut price, implied volatility, calculate the price of coconut coupon\n",
    "## given coconut price and coconut coupon price, calculate the implied volatility"
   ],
   "id": "bfdefcbda9d3693a"
  },
  {
   "metadata": {},
   "cell_type": "code",
   "source": "",
   "id": "e59f671ab2174cc9",
   "outputs": [],
   "execution_count": null
  },
  {
   "metadata": {},
   "cell_type": "markdown",
   "source": "# calibrate k",
   "id": "f88e998fd186baa"
  },
  {
   "metadata": {
    "ExecuteTime": {
     "end_time": "2024-04-20T13:53:23.004992Z",
     "start_time": "2024-04-20T13:53:22.942634Z"
    }
   },
   "cell_type": "code",
   "source": "better = pd.read_csv('src/round4/better.csv',sep=';',index_col=0)",
   "id": "ce9ec0b65820bf6b",
   "outputs": [],
   "execution_count": 231
  },
  {
   "metadata": {
    "ExecuteTime": {
     "end_time": "2024-04-20T13:53:28.513489Z",
     "start_time": "2024-04-20T13:53:28.440243Z"
    }
   },
   "cell_type": "code",
   "source": "worse = pd.read_csv('src/round4/worse.csv',sep=';',index_col=0)",
   "id": "4559404793f05dc9",
   "outputs": [],
   "execution_count": 232
  },
  {
   "metadata": {
    "ExecuteTime": {
     "end_time": "2024-04-20T13:53:52.902749Z",
     "start_time": "2024-04-20T13:53:52.841472Z"
    }
   },
   "cell_type": "code",
   "source": "better[better['product']=='COCONUT']",
   "id": "66a9d8d0be241877",
   "outputs": [
    {
     "data": {
      "text/plain": [
       "     timestamp  product  bid_price_1  bid_volume_1  bid_price_2  bid_volume_2  \\\n",
       "day                                                                             \n",
       "3            0  COCONUT         9990           136       9989.0          49.0   \n",
       "3          100  COCONUT         9989           143          NaN           NaN   \n",
       "3          200  COCONUT         9990            99       9989.0          67.0   \n",
       "3          300  COCONUT         9991           114       9990.0          42.0   \n",
       "3          400  COCONUT         9989           129       9988.0          71.0   \n",
       "..         ...      ...          ...           ...          ...           ...   \n",
       "3        99500  COCONUT         9960           172          NaN           NaN   \n",
       "3        99600  COCONUT         9960           135       9959.0          63.0   \n",
       "3        99700  COCONUT         9962           146       9961.0          56.0   \n",
       "3        99800  COCONUT         9963           120       9962.0          49.0   \n",
       "3        99900  COCONUT         9961           118       9960.0          57.0   \n",
       "\n",
       "     bid_price_3  bid_volume_3  ask_price_1  ask_volume_1  ask_price_2  \\\n",
       "day                                                                      \n",
       "3            NaN           NaN         9992           185          NaN   \n",
       "3            NaN           NaN         9991           101       9992.0   \n",
       "3            NaN           NaN         9991           105       9992.0   \n",
       "3            NaN           NaN         9992           114       9993.0   \n",
       "3            NaN           NaN         9991           200          NaN   \n",
       "..           ...           ...          ...           ...          ...   \n",
       "3            NaN           NaN         9962           128       9963.0   \n",
       "3            NaN           NaN         9961           135       9962.0   \n",
       "3            NaN           NaN         9963           146       9964.0   \n",
       "3            NaN           NaN         9964           110       9965.0   \n",
       "3            NaN           NaN         9963           182          NaN   \n",
       "\n",
       "     ask_volume_2  ask_price_3  ask_volume_3  mid_price  profit_and_loss  \n",
       "day                                                                       \n",
       "3             NaN          NaN           NaN     9991.0             0.00  \n",
       "3            42.0          NaN           NaN     9990.0             0.00  \n",
       "3            67.0          NaN           NaN     9990.5             0.00  \n",
       "3            42.0          NaN           NaN     9991.5             0.00  \n",
       "3             NaN          NaN           NaN     9990.0             0.00  \n",
       "..            ...          ...           ...        ...              ...  \n",
       "3            44.0          NaN           NaN     9961.0          8705.50  \n",
       "3            63.0          NaN           NaN     9960.5          8923.75  \n",
       "3            56.0          NaN           NaN     9962.5          8307.25  \n",
       "3            49.0          NaN           NaN     9963.5          7926.75  \n",
       "3             NaN          NaN           NaN     9962.0          8475.00  \n",
       "\n",
       "[1000 rows x 16 columns]"
      ],
      "text/html": [
       "<div>\n",
       "<style scoped>\n",
       "    .dataframe tbody tr th:only-of-type {\n",
       "        vertical-align: middle;\n",
       "    }\n",
       "\n",
       "    .dataframe tbody tr th {\n",
       "        vertical-align: top;\n",
       "    }\n",
       "\n",
       "    .dataframe thead th {\n",
       "        text-align: right;\n",
       "    }\n",
       "</style>\n",
       "<table border=\"1\" class=\"dataframe\">\n",
       "  <thead>\n",
       "    <tr style=\"text-align: right;\">\n",
       "      <th></th>\n",
       "      <th>timestamp</th>\n",
       "      <th>product</th>\n",
       "      <th>bid_price_1</th>\n",
       "      <th>bid_volume_1</th>\n",
       "      <th>bid_price_2</th>\n",
       "      <th>bid_volume_2</th>\n",
       "      <th>bid_price_3</th>\n",
       "      <th>bid_volume_3</th>\n",
       "      <th>ask_price_1</th>\n",
       "      <th>ask_volume_1</th>\n",
       "      <th>ask_price_2</th>\n",
       "      <th>ask_volume_2</th>\n",
       "      <th>ask_price_3</th>\n",
       "      <th>ask_volume_3</th>\n",
       "      <th>mid_price</th>\n",
       "      <th>profit_and_loss</th>\n",
       "    </tr>\n",
       "    <tr>\n",
       "      <th>day</th>\n",
       "      <th></th>\n",
       "      <th></th>\n",
       "      <th></th>\n",
       "      <th></th>\n",
       "      <th></th>\n",
       "      <th></th>\n",
       "      <th></th>\n",
       "      <th></th>\n",
       "      <th></th>\n",
       "      <th></th>\n",
       "      <th></th>\n",
       "      <th></th>\n",
       "      <th></th>\n",
       "      <th></th>\n",
       "      <th></th>\n",
       "      <th></th>\n",
       "    </tr>\n",
       "  </thead>\n",
       "  <tbody>\n",
       "    <tr>\n",
       "      <th>3</th>\n",
       "      <td>0</td>\n",
       "      <td>COCONUT</td>\n",
       "      <td>9990</td>\n",
       "      <td>136</td>\n",
       "      <td>9989.0</td>\n",
       "      <td>49.0</td>\n",
       "      <td>NaN</td>\n",
       "      <td>NaN</td>\n",
       "      <td>9992</td>\n",
       "      <td>185</td>\n",
       "      <td>NaN</td>\n",
       "      <td>NaN</td>\n",
       "      <td>NaN</td>\n",
       "      <td>NaN</td>\n",
       "      <td>9991.0</td>\n",
       "      <td>0.00</td>\n",
       "    </tr>\n",
       "    <tr>\n",
       "      <th>3</th>\n",
       "      <td>100</td>\n",
       "      <td>COCONUT</td>\n",
       "      <td>9989</td>\n",
       "      <td>143</td>\n",
       "      <td>NaN</td>\n",
       "      <td>NaN</td>\n",
       "      <td>NaN</td>\n",
       "      <td>NaN</td>\n",
       "      <td>9991</td>\n",
       "      <td>101</td>\n",
       "      <td>9992.0</td>\n",
       "      <td>42.0</td>\n",
       "      <td>NaN</td>\n",
       "      <td>NaN</td>\n",
       "      <td>9990.0</td>\n",
       "      <td>0.00</td>\n",
       "    </tr>\n",
       "    <tr>\n",
       "      <th>3</th>\n",
       "      <td>200</td>\n",
       "      <td>COCONUT</td>\n",
       "      <td>9990</td>\n",
       "      <td>99</td>\n",
       "      <td>9989.0</td>\n",
       "      <td>67.0</td>\n",
       "      <td>NaN</td>\n",
       "      <td>NaN</td>\n",
       "      <td>9991</td>\n",
       "      <td>105</td>\n",
       "      <td>9992.0</td>\n",
       "      <td>67.0</td>\n",
       "      <td>NaN</td>\n",
       "      <td>NaN</td>\n",
       "      <td>9990.5</td>\n",
       "      <td>0.00</td>\n",
       "    </tr>\n",
       "    <tr>\n",
       "      <th>3</th>\n",
       "      <td>300</td>\n",
       "      <td>COCONUT</td>\n",
       "      <td>9991</td>\n",
       "      <td>114</td>\n",
       "      <td>9990.0</td>\n",
       "      <td>42.0</td>\n",
       "      <td>NaN</td>\n",
       "      <td>NaN</td>\n",
       "      <td>9992</td>\n",
       "      <td>114</td>\n",
       "      <td>9993.0</td>\n",
       "      <td>42.0</td>\n",
       "      <td>NaN</td>\n",
       "      <td>NaN</td>\n",
       "      <td>9991.5</td>\n",
       "      <td>0.00</td>\n",
       "    </tr>\n",
       "    <tr>\n",
       "      <th>3</th>\n",
       "      <td>400</td>\n",
       "      <td>COCONUT</td>\n",
       "      <td>9989</td>\n",
       "      <td>129</td>\n",
       "      <td>9988.0</td>\n",
       "      <td>71.0</td>\n",
       "      <td>NaN</td>\n",
       "      <td>NaN</td>\n",
       "      <td>9991</td>\n",
       "      <td>200</td>\n",
       "      <td>NaN</td>\n",
       "      <td>NaN</td>\n",
       "      <td>NaN</td>\n",
       "      <td>NaN</td>\n",
       "      <td>9990.0</td>\n",
       "      <td>0.00</td>\n",
       "    </tr>\n",
       "    <tr>\n",
       "      <th>...</th>\n",
       "      <td>...</td>\n",
       "      <td>...</td>\n",
       "      <td>...</td>\n",
       "      <td>...</td>\n",
       "      <td>...</td>\n",
       "      <td>...</td>\n",
       "      <td>...</td>\n",
       "      <td>...</td>\n",
       "      <td>...</td>\n",
       "      <td>...</td>\n",
       "      <td>...</td>\n",
       "      <td>...</td>\n",
       "      <td>...</td>\n",
       "      <td>...</td>\n",
       "      <td>...</td>\n",
       "      <td>...</td>\n",
       "    </tr>\n",
       "    <tr>\n",
       "      <th>3</th>\n",
       "      <td>99500</td>\n",
       "      <td>COCONUT</td>\n",
       "      <td>9960</td>\n",
       "      <td>172</td>\n",
       "      <td>NaN</td>\n",
       "      <td>NaN</td>\n",
       "      <td>NaN</td>\n",
       "      <td>NaN</td>\n",
       "      <td>9962</td>\n",
       "      <td>128</td>\n",
       "      <td>9963.0</td>\n",
       "      <td>44.0</td>\n",
       "      <td>NaN</td>\n",
       "      <td>NaN</td>\n",
       "      <td>9961.0</td>\n",
       "      <td>8705.50</td>\n",
       "    </tr>\n",
       "    <tr>\n",
       "      <th>3</th>\n",
       "      <td>99600</td>\n",
       "      <td>COCONUT</td>\n",
       "      <td>9960</td>\n",
       "      <td>135</td>\n",
       "      <td>9959.0</td>\n",
       "      <td>63.0</td>\n",
       "      <td>NaN</td>\n",
       "      <td>NaN</td>\n",
       "      <td>9961</td>\n",
       "      <td>135</td>\n",
       "      <td>9962.0</td>\n",
       "      <td>63.0</td>\n",
       "      <td>NaN</td>\n",
       "      <td>NaN</td>\n",
       "      <td>9960.5</td>\n",
       "      <td>8923.75</td>\n",
       "    </tr>\n",
       "    <tr>\n",
       "      <th>3</th>\n",
       "      <td>99700</td>\n",
       "      <td>COCONUT</td>\n",
       "      <td>9962</td>\n",
       "      <td>146</td>\n",
       "      <td>9961.0</td>\n",
       "      <td>56.0</td>\n",
       "      <td>NaN</td>\n",
       "      <td>NaN</td>\n",
       "      <td>9963</td>\n",
       "      <td>146</td>\n",
       "      <td>9964.0</td>\n",
       "      <td>56.0</td>\n",
       "      <td>NaN</td>\n",
       "      <td>NaN</td>\n",
       "      <td>9962.5</td>\n",
       "      <td>8307.25</td>\n",
       "    </tr>\n",
       "    <tr>\n",
       "      <th>3</th>\n",
       "      <td>99800</td>\n",
       "      <td>COCONUT</td>\n",
       "      <td>9963</td>\n",
       "      <td>120</td>\n",
       "      <td>9962.0</td>\n",
       "      <td>49.0</td>\n",
       "      <td>NaN</td>\n",
       "      <td>NaN</td>\n",
       "      <td>9964</td>\n",
       "      <td>110</td>\n",
       "      <td>9965.0</td>\n",
       "      <td>49.0</td>\n",
       "      <td>NaN</td>\n",
       "      <td>NaN</td>\n",
       "      <td>9963.5</td>\n",
       "      <td>7926.75</td>\n",
       "    </tr>\n",
       "    <tr>\n",
       "      <th>3</th>\n",
       "      <td>99900</td>\n",
       "      <td>COCONUT</td>\n",
       "      <td>9961</td>\n",
       "      <td>118</td>\n",
       "      <td>9960.0</td>\n",
       "      <td>57.0</td>\n",
       "      <td>NaN</td>\n",
       "      <td>NaN</td>\n",
       "      <td>9963</td>\n",
       "      <td>182</td>\n",
       "      <td>NaN</td>\n",
       "      <td>NaN</td>\n",
       "      <td>NaN</td>\n",
       "      <td>NaN</td>\n",
       "      <td>9962.0</td>\n",
       "      <td>8475.00</td>\n",
       "    </tr>\n",
       "  </tbody>\n",
       "</table>\n",
       "<p>1000 rows × 16 columns</p>\n",
       "</div>"
      ]
     },
     "execution_count": 235,
     "metadata": {},
     "output_type": "execute_result"
    }
   ],
   "execution_count": 235
  },
  {
   "metadata": {
    "ExecuteTime": {
     "end_time": "2024-04-20T13:56:49.506732Z",
     "start_time": "2024-04-20T13:56:49.445985Z"
    }
   },
   "cell_type": "code",
   "source": "worse[worse['product']=='COCONUT']",
   "id": "b04235eaa06b00be",
   "outputs": [
    {
     "data": {
      "text/plain": [
       "     timestamp  product  bid_price_1  bid_volume_1  bid_price_2  bid_volume_2  \\\n",
       "day                                                                             \n",
       "3            0  COCONUT         9990           136       9989.0          49.0   \n",
       "3          100  COCONUT         9989           143          NaN           NaN   \n",
       "3          200  COCONUT         9990            99       9989.0          67.0   \n",
       "3          300  COCONUT         9991           114       9990.0          42.0   \n",
       "3          400  COCONUT         9989           129       9988.0          71.0   \n",
       "..         ...      ...          ...           ...          ...           ...   \n",
       "3        99500  COCONUT         9960           172          NaN           NaN   \n",
       "3        99600  COCONUT         9960           135       9959.0          63.0   \n",
       "3        99700  COCONUT         9962           146       9961.0          56.0   \n",
       "3        99800  COCONUT         9963           120       9962.0          49.0   \n",
       "3        99900  COCONUT         9961           118       9960.0          57.0   \n",
       "\n",
       "     bid_price_3  bid_volume_3  ask_price_1  ask_volume_1  ask_price_2  \\\n",
       "day                                                                      \n",
       "3            NaN           NaN         9992           185          NaN   \n",
       "3            NaN           NaN         9991           101       9992.0   \n",
       "3            NaN           NaN         9991           105       9992.0   \n",
       "3            NaN           NaN         9992           114       9993.0   \n",
       "3            NaN           NaN         9991           200          NaN   \n",
       "..           ...           ...          ...           ...          ...   \n",
       "3            NaN           NaN         9962           128       9963.0   \n",
       "3            NaN           NaN         9961           135       9962.0   \n",
       "3            NaN           NaN         9963           146       9964.0   \n",
       "3            NaN           NaN         9964           110       9965.0   \n",
       "3            NaN           NaN         9963           182          NaN   \n",
       "\n",
       "     ask_volume_2  ask_price_3  ask_volume_3  mid_price  profit_and_loss  \n",
       "day                                                                       \n",
       "3             NaN          NaN           NaN     9991.0             0.00  \n",
       "3            42.0          NaN           NaN     9990.0             0.00  \n",
       "3            67.0          NaN           NaN     9990.5             0.00  \n",
       "3            42.0          NaN           NaN     9991.5             0.00  \n",
       "3             NaN          NaN           NaN     9990.0             0.00  \n",
       "..            ...          ...           ...        ...              ...  \n",
       "3            44.0          NaN           NaN     9961.0          8159.50  \n",
       "3            63.0          NaN           NaN     9960.5          8377.75  \n",
       "3            56.0          NaN           NaN     9962.5          7761.25  \n",
       "3            49.0          NaN           NaN     9963.5          7380.75  \n",
       "3             NaN          NaN           NaN     9962.0          7929.00  \n",
       "\n",
       "[1000 rows x 16 columns]"
      ],
      "text/html": [
       "<div>\n",
       "<style scoped>\n",
       "    .dataframe tbody tr th:only-of-type {\n",
       "        vertical-align: middle;\n",
       "    }\n",
       "\n",
       "    .dataframe tbody tr th {\n",
       "        vertical-align: top;\n",
       "    }\n",
       "\n",
       "    .dataframe thead th {\n",
       "        text-align: right;\n",
       "    }\n",
       "</style>\n",
       "<table border=\"1\" class=\"dataframe\">\n",
       "  <thead>\n",
       "    <tr style=\"text-align: right;\">\n",
       "      <th></th>\n",
       "      <th>timestamp</th>\n",
       "      <th>product</th>\n",
       "      <th>bid_price_1</th>\n",
       "      <th>bid_volume_1</th>\n",
       "      <th>bid_price_2</th>\n",
       "      <th>bid_volume_2</th>\n",
       "      <th>bid_price_3</th>\n",
       "      <th>bid_volume_3</th>\n",
       "      <th>ask_price_1</th>\n",
       "      <th>ask_volume_1</th>\n",
       "      <th>ask_price_2</th>\n",
       "      <th>ask_volume_2</th>\n",
       "      <th>ask_price_3</th>\n",
       "      <th>ask_volume_3</th>\n",
       "      <th>mid_price</th>\n",
       "      <th>profit_and_loss</th>\n",
       "    </tr>\n",
       "    <tr>\n",
       "      <th>day</th>\n",
       "      <th></th>\n",
       "      <th></th>\n",
       "      <th></th>\n",
       "      <th></th>\n",
       "      <th></th>\n",
       "      <th></th>\n",
       "      <th></th>\n",
       "      <th></th>\n",
       "      <th></th>\n",
       "      <th></th>\n",
       "      <th></th>\n",
       "      <th></th>\n",
       "      <th></th>\n",
       "      <th></th>\n",
       "      <th></th>\n",
       "      <th></th>\n",
       "    </tr>\n",
       "  </thead>\n",
       "  <tbody>\n",
       "    <tr>\n",
       "      <th>3</th>\n",
       "      <td>0</td>\n",
       "      <td>COCONUT</td>\n",
       "      <td>9990</td>\n",
       "      <td>136</td>\n",
       "      <td>9989.0</td>\n",
       "      <td>49.0</td>\n",
       "      <td>NaN</td>\n",
       "      <td>NaN</td>\n",
       "      <td>9992</td>\n",
       "      <td>185</td>\n",
       "      <td>NaN</td>\n",
       "      <td>NaN</td>\n",
       "      <td>NaN</td>\n",
       "      <td>NaN</td>\n",
       "      <td>9991.0</td>\n",
       "      <td>0.00</td>\n",
       "    </tr>\n",
       "    <tr>\n",
       "      <th>3</th>\n",
       "      <td>100</td>\n",
       "      <td>COCONUT</td>\n",
       "      <td>9989</td>\n",
       "      <td>143</td>\n",
       "      <td>NaN</td>\n",
       "      <td>NaN</td>\n",
       "      <td>NaN</td>\n",
       "      <td>NaN</td>\n",
       "      <td>9991</td>\n",
       "      <td>101</td>\n",
       "      <td>9992.0</td>\n",
       "      <td>42.0</td>\n",
       "      <td>NaN</td>\n",
       "      <td>NaN</td>\n",
       "      <td>9990.0</td>\n",
       "      <td>0.00</td>\n",
       "    </tr>\n",
       "    <tr>\n",
       "      <th>3</th>\n",
       "      <td>200</td>\n",
       "      <td>COCONUT</td>\n",
       "      <td>9990</td>\n",
       "      <td>99</td>\n",
       "      <td>9989.0</td>\n",
       "      <td>67.0</td>\n",
       "      <td>NaN</td>\n",
       "      <td>NaN</td>\n",
       "      <td>9991</td>\n",
       "      <td>105</td>\n",
       "      <td>9992.0</td>\n",
       "      <td>67.0</td>\n",
       "      <td>NaN</td>\n",
       "      <td>NaN</td>\n",
       "      <td>9990.5</td>\n",
       "      <td>0.00</td>\n",
       "    </tr>\n",
       "    <tr>\n",
       "      <th>3</th>\n",
       "      <td>300</td>\n",
       "      <td>COCONUT</td>\n",
       "      <td>9991</td>\n",
       "      <td>114</td>\n",
       "      <td>9990.0</td>\n",
       "      <td>42.0</td>\n",
       "      <td>NaN</td>\n",
       "      <td>NaN</td>\n",
       "      <td>9992</td>\n",
       "      <td>114</td>\n",
       "      <td>9993.0</td>\n",
       "      <td>42.0</td>\n",
       "      <td>NaN</td>\n",
       "      <td>NaN</td>\n",
       "      <td>9991.5</td>\n",
       "      <td>0.00</td>\n",
       "    </tr>\n",
       "    <tr>\n",
       "      <th>3</th>\n",
       "      <td>400</td>\n",
       "      <td>COCONUT</td>\n",
       "      <td>9989</td>\n",
       "      <td>129</td>\n",
       "      <td>9988.0</td>\n",
       "      <td>71.0</td>\n",
       "      <td>NaN</td>\n",
       "      <td>NaN</td>\n",
       "      <td>9991</td>\n",
       "      <td>200</td>\n",
       "      <td>NaN</td>\n",
       "      <td>NaN</td>\n",
       "      <td>NaN</td>\n",
       "      <td>NaN</td>\n",
       "      <td>9990.0</td>\n",
       "      <td>0.00</td>\n",
       "    </tr>\n",
       "    <tr>\n",
       "      <th>...</th>\n",
       "      <td>...</td>\n",
       "      <td>...</td>\n",
       "      <td>...</td>\n",
       "      <td>...</td>\n",
       "      <td>...</td>\n",
       "      <td>...</td>\n",
       "      <td>...</td>\n",
       "      <td>...</td>\n",
       "      <td>...</td>\n",
       "      <td>...</td>\n",
       "      <td>...</td>\n",
       "      <td>...</td>\n",
       "      <td>...</td>\n",
       "      <td>...</td>\n",
       "      <td>...</td>\n",
       "      <td>...</td>\n",
       "    </tr>\n",
       "    <tr>\n",
       "      <th>3</th>\n",
       "      <td>99500</td>\n",
       "      <td>COCONUT</td>\n",
       "      <td>9960</td>\n",
       "      <td>172</td>\n",
       "      <td>NaN</td>\n",
       "      <td>NaN</td>\n",
       "      <td>NaN</td>\n",
       "      <td>NaN</td>\n",
       "      <td>9962</td>\n",
       "      <td>128</td>\n",
       "      <td>9963.0</td>\n",
       "      <td>44.0</td>\n",
       "      <td>NaN</td>\n",
       "      <td>NaN</td>\n",
       "      <td>9961.0</td>\n",
       "      <td>8159.50</td>\n",
       "    </tr>\n",
       "    <tr>\n",
       "      <th>3</th>\n",
       "      <td>99600</td>\n",
       "      <td>COCONUT</td>\n",
       "      <td>9960</td>\n",
       "      <td>135</td>\n",
       "      <td>9959.0</td>\n",
       "      <td>63.0</td>\n",
       "      <td>NaN</td>\n",
       "      <td>NaN</td>\n",
       "      <td>9961</td>\n",
       "      <td>135</td>\n",
       "      <td>9962.0</td>\n",
       "      <td>63.0</td>\n",
       "      <td>NaN</td>\n",
       "      <td>NaN</td>\n",
       "      <td>9960.5</td>\n",
       "      <td>8377.75</td>\n",
       "    </tr>\n",
       "    <tr>\n",
       "      <th>3</th>\n",
       "      <td>99700</td>\n",
       "      <td>COCONUT</td>\n",
       "      <td>9962</td>\n",
       "      <td>146</td>\n",
       "      <td>9961.0</td>\n",
       "      <td>56.0</td>\n",
       "      <td>NaN</td>\n",
       "      <td>NaN</td>\n",
       "      <td>9963</td>\n",
       "      <td>146</td>\n",
       "      <td>9964.0</td>\n",
       "      <td>56.0</td>\n",
       "      <td>NaN</td>\n",
       "      <td>NaN</td>\n",
       "      <td>9962.5</td>\n",
       "      <td>7761.25</td>\n",
       "    </tr>\n",
       "    <tr>\n",
       "      <th>3</th>\n",
       "      <td>99800</td>\n",
       "      <td>COCONUT</td>\n",
       "      <td>9963</td>\n",
       "      <td>120</td>\n",
       "      <td>9962.0</td>\n",
       "      <td>49.0</td>\n",
       "      <td>NaN</td>\n",
       "      <td>NaN</td>\n",
       "      <td>9964</td>\n",
       "      <td>110</td>\n",
       "      <td>9965.0</td>\n",
       "      <td>49.0</td>\n",
       "      <td>NaN</td>\n",
       "      <td>NaN</td>\n",
       "      <td>9963.5</td>\n",
       "      <td>7380.75</td>\n",
       "    </tr>\n",
       "    <tr>\n",
       "      <th>3</th>\n",
       "      <td>99900</td>\n",
       "      <td>COCONUT</td>\n",
       "      <td>9961</td>\n",
       "      <td>118</td>\n",
       "      <td>9960.0</td>\n",
       "      <td>57.0</td>\n",
       "      <td>NaN</td>\n",
       "      <td>NaN</td>\n",
       "      <td>9963</td>\n",
       "      <td>182</td>\n",
       "      <td>NaN</td>\n",
       "      <td>NaN</td>\n",
       "      <td>NaN</td>\n",
       "      <td>NaN</td>\n",
       "      <td>9962.0</td>\n",
       "      <td>7929.00</td>\n",
       "    </tr>\n",
       "  </tbody>\n",
       "</table>\n",
       "<p>1000 rows × 16 columns</p>\n",
       "</div>"
      ]
     },
     "execution_count": 242,
     "metadata": {},
     "output_type": "execute_result"
    }
   ],
   "execution_count": 242
  },
  {
   "metadata": {
    "ExecuteTime": {
     "end_time": "2024-04-20T13:58:31.548324Z",
     "start_time": "2024-04-20T13:58:31.421527Z"
    }
   },
   "cell_type": "code",
   "source": [
    "plt.plot(better[better['product']=='COCONUT']['profit_and_loss'].reset_index(drop=True),label='better')\n",
    "plt.plot(worse[worse['product']=='COCONUT']['profit_and_loss'].reset_index(drop=True),label='worse')\n",
    "plt.legend()\n",
    "plt.show()"
   ],
   "id": "8623734a01b0d859",
   "outputs": [
    {
     "data": {
      "text/plain": [
       "<Figure size 640x480 with 1 Axes>"
      ],
      "image/png": "[encoded data removed]"
     },
     "metadata": {},
     "output_type": "display_data"
    }
   ],
   "execution_count": 253
  },
  {
   "metadata": {
    "ExecuteTime": {
     "end_time": "2024-04-20T13:59:19.094206Z",
     "start_time": "2024-04-20T13:59:19.033977Z"
    }
   },
   "cell_type": "code",
   "source": [
    "def zen_metric(df,k=0.6):\n",
    "    ret = df['profit_and_loss'].mean()\n",
    "    sharpe = ret / df['profit_and_loss'].std()\n",
    "    return ret**(1-k)*sharpe**k"
   ],
   "id": "1757e22767a78aef",
   "outputs": [],
   "execution_count": 257
  },
  {
   "metadata": {
    "ExecuteTime": {
     "end_time": "2024-04-20T13:59:20.138375Z",
     "start_time": "2024-04-20T13:59:20.050221Z"
    }
   },
   "cell_type": "code",
   "source": "zen_metric(better[better['product']=='COCONUT'])",
   "id": "97cc51951c771b3e",
   "outputs": [
    {
     "data": {
      "text/plain": [
       "52.04101261182657"
      ]
     },
     "execution_count": 258,
     "metadata": {},
     "output_type": "execute_result"
    }
   ],
   "execution_count": 258
  },
  {
   "metadata": {
    "ExecuteTime": {
     "end_time": "2024-04-20T13:59:20.508522Z",
     "start_time": "2024-04-20T13:59:20.444800Z"
    }
   },
   "cell_type": "code",
   "source": "zen_metric(worse[worse['product']=='COCONUT'])",
   "id": "aa387dd2c82525d1",
   "outputs": [
    {
     "data": {
      "text/plain": [
       "51.78106794673643"
      ]
     },
     "execution_count": 259,
     "metadata": {},
     "output_type": "execute_result"
    }
   ],
   "execution_count": 259
  },
  {
   "metadata": {},
   "cell_type": "code",
   "outputs": [],
   "execution_count": null,
   "source": "",
   "id": "28ba6753b5cbd004"
  }
 ],
 "metadata": {
  "kernelspec": {
   "display_name": "Python 3",
   "language": "python",
   "name": "python3"
  },
  "language_info": {
   "codemirror_mode": {
    "name": "ipython",
    "version": 2
   },
   "file_extension": ".py",
   "mimetype": "text/x-python",
   "name": "python",
   "nbconvert_exporter": "python",
   "pygments_lexer": "ipython2",
   "version": "2.7.6"
  }
 },
 "nbformat": 4,
 "nbformat_minor": 5
}
