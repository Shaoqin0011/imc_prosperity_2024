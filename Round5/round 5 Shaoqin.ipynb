{
 "cells": [
  {
   "cell_type": "markdown",
   "source": [
    "# Import Library"
   ],
   "metadata": {
    "collapsed": false
   }
  },
  {
   "cell_type": "code",
   "metadata": {
    "collapsed": true,
    "ExecuteTime": {
     "end_time": "2024-04-23T06:17:32.483463Z",
     "start_time": "2024-04-23T06:17:31.179794Z"
    }
   },
   "source": [
    "import numpy as np\n",
    "import pandas as pd\n",
    "import json\n",
    "import pickle\n",
    "import jsonpickle\n",
    "from io import StringIO\n",
    "import matplotlib.pyplot as plt\n",
    "from datamodel import OrderDepth, UserId, TradingState, Order, Trade, Observation\n",
    "from typing import List\n",
    "import string"
   ],
   "outputs": [],
   "execution_count": 2
  },
  {
   "cell_type": "markdown",
   "source": [
    "# Import Data"
   ],
   "metadata": {
    "collapsed": false
   }
  },
  {
   "cell_type": "code",
   "source": [
    "def create_symbol_dfs(dataframe, symbols, col_name):\n",
    "    # 创建一个空的列表来存储每个symbol的DataFrame\n",
    "    dfs = []\n",
    "\n",
    "    # 遍历给定的symbols列表\n",
    "    for symbol in symbols:\n",
    "        # 从原始DataFrame中筛选出对应于当前symbol的行\n",
    "        filtered_df = dataframe[dataframe[col_name] == symbol]\n",
    "\n",
    "        # 将筛选后的DataFrame添加到列表中\n",
    "        dfs.append(filtered_df)\n",
    "\n",
    "    # 返回包含每个symbol DataFrame的列表\n",
    "    return dfs"
   ],
   "metadata": {
    "collapsed": false,
    "ExecuteTime": {
     "end_time": "2024-04-23T06:17:37.373348Z",
     "start_time": "2024-04-23T06:17:37.358769Z"
    }
   },
   "outputs": [],
   "execution_count": 5
  },
  {
   "metadata": {
    "ExecuteTime": {
     "end_time": "2024-04-23T06:17:37.452083Z",
     "start_time": "2024-04-23T06:17:37.373348Z"
    }
   },
   "cell_type": "code",
   "source": [
    "trade_round1_03 = pd.read_csv('Data/round 5 data/trades_round_1_day_0_wn.csv', delimiter=';')\n",
    "trade_round1_02 = pd.read_csv('Data/round 5 data/trades_round_1_day_-1_wn.csv', delimiter=';')\n",
    "trade_round1_01 = pd.read_csv('Data/round 5 data/trades_round_1_day_-2_wn.csv', delimiter=';')\n",
    "\n",
    "trade_round3_01 = pd.read_csv('Data/round 5 data/trades_round_3_day_0_wn.csv', delimiter=';')\n",
    "trade_round3_02 = pd.read_csv('Data/round 5 data/trades_round_3_day_1_wn.csv', delimiter=';')\n",
    "trade_round3_03 = pd.read_csv('Data/round 5 data/trades_round_3_day_2_wn.csv', delimiter=';')\n",
    "\n",
    "trade_round4_01 = pd.read_csv('Data/round 5 data/trades_round_4_day_1_wn.csv', delimiter=';')\n",
    "trade_round4_02 = pd.read_csv('Data/round 5 data/trades_round_4_day_2_wn.csv', delimiter=';')\n",
    "trade_round4_03 = pd.read_csv('Data/round 5 data/trades_round_4_day_3_wn.csv', delimiter=';')"
   ],
   "outputs": [],
   "execution_count": 6
  },
  {
   "metadata": {},
   "cell_type": "markdown",
   "source": "# Data Preprocessing"
  },
  {
   "metadata": {
    "ExecuteTime": {
     "end_time": "2024-04-23T06:35:57.819479Z",
     "start_time": "2024-04-23T06:35:57.803581Z"
    }
   },
   "cell_type": "code",
   "source": [
    "round_1 = pd.concat([trade_round1_01, trade_round1_02, trade_round1_03])\n",
    "round_3 = pd.concat([trade_round3_01, trade_round3_02, trade_round3_03])\n",
    "round_4 = pd.concat([trade_round4_01, trade_round4_02, trade_round4_03])"
   ],
   "outputs": [],
   "execution_count": 10
  },
  {
   "metadata": {
    "ExecuteTime": {
     "end_time": "2024-04-23T06:56:03.586492Z",
     "start_time": "2024-04-23T06:56:03.565684Z"
    }
   },
   "cell_type": "code",
   "source": "round_4.head()",
   "outputs": [
    {
     "data": {
      "text/plain": [
       "   timestamp      buyer     seller          symbol   currency  price  quantity\n",
       "0        800  Valentina  Valentina  COCONUT_COUPON  SEASHELLS  636.0         5\n",
       "1        900  Valentina     Vinnie  COCONUT_COUPON  SEASHELLS  634.0        17\n",
       "2       1100  Valentina       Ruby  COCONUT_COUPON  SEASHELLS  635.0        17\n",
       "3       1900  Valentina     Vinnie  COCONUT_COUPON  SEASHELLS  635.0        16\n",
       "4       2000  Valentina     Vinnie  COCONUT_COUPON  SEASHELLS  637.0        14"
      ],
      "text/html": [
       "<div>\n",
       "<style scoped>\n",
       "    .dataframe tbody tr th:only-of-type {\n",
       "        vertical-align: middle;\n",
       "    }\n",
       "\n",
       "    .dataframe tbody tr th {\n",
       "        vertical-align: top;\n",
       "    }\n",
       "\n",
       "    .dataframe thead th {\n",
       "        text-align: right;\n",
       "    }\n",
       "</style>\n",
       "<table border=\"1\" class=\"dataframe\">\n",
       "  <thead>\n",
       "    <tr style=\"text-align: right;\">\n",
       "      <th></th>\n",
       "      <th>timestamp</th>\n",
       "      <th>buyer</th>\n",
       "      <th>seller</th>\n",
       "      <th>symbol</th>\n",
       "      <th>currency</th>\n",
       "      <th>price</th>\n",
       "      <th>quantity</th>\n",
       "    </tr>\n",
       "  </thead>\n",
       "  <tbody>\n",
       "    <tr>\n",
       "      <th>0</th>\n",
       "      <td>800</td>\n",
       "      <td>Valentina</td>\n",
       "      <td>Valentina</td>\n",
       "      <td>COCONUT_COUPON</td>\n",
       "      <td>SEASHELLS</td>\n",
       "      <td>636.0</td>\n",
       "      <td>5</td>\n",
       "    </tr>\n",
       "    <tr>\n",
       "      <th>1</th>\n",
       "      <td>900</td>\n",
       "      <td>Valentina</td>\n",
       "      <td>Vinnie</td>\n",
       "      <td>COCONUT_COUPON</td>\n",
       "      <td>SEASHELLS</td>\n",
       "      <td>634.0</td>\n",
       "      <td>17</td>\n",
       "    </tr>\n",
       "    <tr>\n",
       "      <th>2</th>\n",
       "      <td>1100</td>\n",
       "      <td>Valentina</td>\n",
       "      <td>Ruby</td>\n",
       "      <td>COCONUT_COUPON</td>\n",
       "      <td>SEASHELLS</td>\n",
       "      <td>635.0</td>\n",
       "      <td>17</td>\n",
       "    </tr>\n",
       "    <tr>\n",
       "      <th>3</th>\n",
       "      <td>1900</td>\n",
       "      <td>Valentina</td>\n",
       "      <td>Vinnie</td>\n",
       "      <td>COCONUT_COUPON</td>\n",
       "      <td>SEASHELLS</td>\n",
       "      <td>635.0</td>\n",
       "      <td>16</td>\n",
       "    </tr>\n",
       "    <tr>\n",
       "      <th>4</th>\n",
       "      <td>2000</td>\n",
       "      <td>Valentina</td>\n",
       "      <td>Vinnie</td>\n",
       "      <td>COCONUT_COUPON</td>\n",
       "      <td>SEASHELLS</td>\n",
       "      <td>637.0</td>\n",
       "      <td>14</td>\n",
       "    </tr>\n",
       "  </tbody>\n",
       "</table>\n",
       "</div>"
      ]
     },
     "execution_count": 16,
     "metadata": {},
     "output_type": "execute_result"
    }
   ],
   "execution_count": 16
  },
  {
   "metadata": {
    "ExecuteTime": {
     "end_time": "2024-04-23T06:40:47.486875Z",
     "start_time": "2024-04-23T06:40:47.461229Z"
    }
   },
   "cell_type": "code",
   "source": [
    "all_rounds = pd.concat([round_1, round_3, round_4])\n",
    "\n",
    "unique_buyers = set(all_rounds['buyer'])\n",
    "unique_sellers = set(all_rounds['seller'])\n",
    "\n",
    "traders = unique_buyers.union(unique_sellers)"
   ],
   "outputs": [],
   "execution_count": 13
  },
  {
   "metadata": {
    "ExecuteTime": {
     "end_time": "2024-04-23T09:53:44.775527Z",
     "start_time": "2024-04-23T09:53:44.760690Z"
    }
   },
   "cell_type": "code",
   "source": [
    "rounds = {\n",
    "    1: round_1,\n",
    "    3: round_3,\n",
    "    4: round_4\n",
    "}"
   ],
   "outputs": [],
   "execution_count": 67
  },
  {
   "metadata": {},
   "cell_type": "markdown",
   "source": "# Get Trading Data"
  },
  {
   "metadata": {},
   "cell_type": "code",
   "outputs": [],
   "execution_count": null,
   "source": [
    "def trading_history(df, trader_name, symbol):\n",
    "    # Filter the DataFrame for trades involving the specified trader and symbol\n",
    "    # Create a copy of the trades to avoid SettingWithCopyWarning\n",
    "    trades = df[(df['symbol'] == symbol) & ((df['buyer'] == trader_name) | (df['seller'] == trader_name))].copy()\n",
    "    \n",
    "    # Initialize the trader's capital\n",
    "    initial_capital = 0\n",
    "    initial_position = 0\n",
    "    capital_history = []\n",
    "    position_history = []\n",
    "    profit_history = []\n",
    "\n",
    "    # Process each trade to update capital based on buying or selling\n",
    "    for index, row in trades.iterrows():\n",
    "        total_value = row['price'] * row['quantity']  # Calculate total transaction value\n",
    "        quantity = row['quantity']\n",
    "        \n",
    "        if row['buyer'] == trader_name:\n",
    "            # Trader is buying, capital decreases\n",
    "            initial_capital -= total_value\n",
    "            initial_position += quantity\n",
    "        if row['seller'] == trader_name:\n",
    "            # Trader is selling, capital increases\n",
    "            initial_capital += total_value\n",
    "            initial_position -= quantity\n",
    "            \n",
    "        capital_history.append(initial_capital)\n",
    "        position_history.append(initial_position)\n",
    "        profit = initial_capital + row['price'] * initial_position\n",
    "        profit_history.append(profit)\n",
    "    \n",
    "    # Assign capital history to trades DataFrame\n",
    "    trades['capital'] = capital_history\n",
    "    trades['position'] = position_history\n",
    "    trades['profit'] = profit_history\n",
    "    \n",
    "    # Select relevant columns to show the trade and capital progression\n",
    "    result = trades[['timestamp', 'buyer', 'seller', 'price', 'quantity', 'capital', 'position', 'profit']].copy()\n",
    "    return result"
   ]
  },
  {
   "metadata": {
    "ExecuteTime": {
     "end_time": "2024-04-23T09:58:03.657829Z",
     "start_time": "2024-04-23T09:58:03.646888Z"
    }
   },
   "cell_type": "code",
   "source": [
    "# Get Trader Name\n",
    "round_number = 3\n",
    "product_name = 'GIFT_BASKET'\n",
    "\n",
    "temp = rounds[round_number].copy()\n",
    "temp = temp[temp['symbol'] == product_name]\n",
    "\n",
    "coco_buyers = set(temp['buyer'])\n",
    "coco_sellers = set(temp['seller'])\n",
    "coco_buyers.union(coco_sellers)"
   ],
   "outputs": [
    {
     "data": {
      "text/plain": [
       "{'Rhianna', 'Ruby', 'Vinnie', 'Vladimir'}"
      ]
     },
     "execution_count": 73,
     "metadata": {},
     "output_type": "execute_result"
    }
   ],
   "execution_count": 73
  },
  {
   "metadata": {
    "ExecuteTime": {
     "end_time": "2024-04-23T10:00:01.032390Z",
     "start_time": "2024-04-23T10:00:00.991360Z"
    }
   },
   "cell_type": "code",
   "source": "history = trading_history(temp, 'Vladimir', product_name)",
   "outputs": [],
   "execution_count": 77
  }
 ],
 "metadata": {
  "kernelspec": {
   "display_name": "Python 3",
   "language": "python",
   "name": "python3"
  },
  "language_info": {
   "codemirror_mode": {
    "name": "ipython",
    "version": 2
   },
   "file_extension": ".py",
   "mimetype": "text/x-python",
   "name": "python",
   "nbconvert_exporter": "python",
   "pygments_lexer": "ipython2",
   "version": "2.7.6"
  }
 },
 "nbformat": 4,
 "nbformat_minor": 0
}
